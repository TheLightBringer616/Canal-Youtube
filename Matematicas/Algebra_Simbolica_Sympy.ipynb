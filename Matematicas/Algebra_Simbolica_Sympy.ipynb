{
 "cells": [
  {
   "cell_type": "code",
   "execution_count": 1,
   "id": "0bb76d41-6a3a-4822-84fe-70a8f683e23f",
   "metadata": {
    "tags": []
   },
   "outputs": [],
   "source": [
    "import sympy as smp\n",
    "import numpy as np\n",
    "import matplotlib.pyplot as plt"
   ]
  },
  {
   "cell_type": "markdown",
   "id": "68d9334a-c33e-4327-b88c-38686b2c8d0b",
   "metadata": {},
   "source": [
    "# 1. Aritmética y Álgebra Simbólica"
   ]
  },
  {
   "cell_type": "markdown",
   "id": "76e0cd9b-cbaf-4796-bc78-78e216ca00c7",
   "metadata": {},
   "source": [
    "**Constantes e irracionales**"
   ]
  },
  {
   "cell_type": "markdown",
   "id": "8f09efa6-5b92-4112-9fff-bb9e228994e2",
   "metadata": {},
   "source": [
    "$$\\pi$$"
   ]
  },
  {
   "cell_type": "code",
   "execution_count": 2,
   "id": "925de01d-56d6-44d7-8cd2-9fb0d84dda1f",
   "metadata": {
    "tags": []
   },
   "outputs": [
    {
     "data": {
      "text/latex": [
       "$\\displaystyle \\pi$"
      ],
      "text/plain": [
       "pi"
      ]
     },
     "execution_count": 2,
     "metadata": {},
     "output_type": "execute_result"
    }
   ],
   "source": [
    "smp.pi"
   ]
  },
  {
   "cell_type": "code",
   "execution_count": 3,
   "id": "9d29a446-4263-4869-b103-b2d3248e9adf",
   "metadata": {
    "tags": []
   },
   "outputs": [
    {
     "data": {
      "text/latex": [
       "$\\displaystyle 3.14159265358979$"
      ],
      "text/plain": [
       "3.14159265358979"
      ]
     },
     "execution_count": 3,
     "metadata": {},
     "output_type": "execute_result"
    }
   ],
   "source": [
    "smp.pi.evalf()"
   ]
  },
  {
   "cell_type": "markdown",
   "id": "dc6c5fc3-5bf9-4236-880e-d4ea7e5a74fb",
   "metadata": {},
   "source": [
    "$$e$$"
   ]
  },
  {
   "cell_type": "code",
   "execution_count": 4,
   "id": "d15e1159-bff8-4dab-84b1-937905379bac",
   "metadata": {
    "tags": []
   },
   "outputs": [
    {
     "data": {
      "text/latex": [
       "$\\displaystyle e$"
      ],
      "text/plain": [
       "E"
      ]
     },
     "execution_count": 4,
     "metadata": {},
     "output_type": "execute_result"
    }
   ],
   "source": [
    "smp.E"
   ]
  },
  {
   "cell_type": "code",
   "execution_count": 5,
   "id": "932f5bec-5221-43d1-bd18-2d210b1d999e",
   "metadata": {
    "tags": []
   },
   "outputs": [
    {
     "data": {
      "text/latex": [
       "$\\displaystyle 2.71828182845905$"
      ],
      "text/plain": [
       "2.71828182845905"
      ]
     },
     "execution_count": 5,
     "metadata": {},
     "output_type": "execute_result"
    }
   ],
   "source": [
    "smp.E.n()"
   ]
  },
  {
   "cell_type": "markdown",
   "id": "ceebf001-59ec-4f1b-94e3-ae8b448a1619",
   "metadata": {},
   "source": [
    "$$i$$"
   ]
  },
  {
   "cell_type": "code",
   "execution_count": 7,
   "id": "3e780190-4e1a-4ffe-a5f1-c427b1c9c3d4",
   "metadata": {
    "tags": []
   },
   "outputs": [
    {
     "data": {
      "text/latex": [
       "$\\displaystyle i$"
      ],
      "text/plain": [
       "I"
      ]
     },
     "execution_count": 7,
     "metadata": {},
     "output_type": "execute_result"
    }
   ],
   "source": [
    "smp.I"
   ]
  },
  {
   "cell_type": "code",
   "execution_count": 8,
   "id": "a8c66be0-a8c2-4d5b-89fe-2930be10a19e",
   "metadata": {
    "tags": []
   },
   "outputs": [
    {
     "data": {
      "text/latex": [
       "$\\displaystyle 1.0 i$"
      ],
      "text/plain": [
       "1.0*I"
      ]
     },
     "execution_count": 8,
     "metadata": {},
     "output_type": "execute_result"
    }
   ],
   "source": [
    "smp.I.evalf()"
   ]
  },
  {
   "cell_type": "markdown",
   "id": "0fffe0e9-4405-4830-9269-1375619f3e0c",
   "metadata": {},
   "source": [
    "$$\\phi$$"
   ]
  },
  {
   "cell_type": "code",
   "execution_count": 9,
   "id": "3ea2208d-8c2e-4060-8172-bd6b709da00b",
   "metadata": {
    "tags": []
   },
   "outputs": [
    {
     "data": {
      "text/latex": [
       "$\\displaystyle \\phi$"
      ],
      "text/plain": [
       "GoldenRatio"
      ]
     },
     "execution_count": 9,
     "metadata": {},
     "output_type": "execute_result"
    }
   ],
   "source": [
    "smp.GoldenRatio"
   ]
  },
  {
   "cell_type": "code",
   "execution_count": 10,
   "id": "aea21867-7f0d-4009-97bb-5637ecc19d5b",
   "metadata": {
    "tags": []
   },
   "outputs": [
    {
     "data": {
      "text/latex": [
       "$\\displaystyle 1.61803398874989$"
      ],
      "text/plain": [
       "1.61803398874989"
      ]
     },
     "execution_count": 10,
     "metadata": {},
     "output_type": "execute_result"
    }
   ],
   "source": [
    "smp.GoldenRatio.n()"
   ]
  },
  {
   "cell_type": "markdown",
   "id": "e1beb920-aa48-472e-a27d-6bad36f81636",
   "metadata": {},
   "source": [
    "$$\\infty$$"
   ]
  },
  {
   "cell_type": "code",
   "execution_count": 12,
   "id": "69ccdbeb-ef4b-4dc3-8373-119712269deb",
   "metadata": {
    "tags": []
   },
   "outputs": [
    {
     "data": {
      "text/latex": [
       "$\\displaystyle \\infty$"
      ],
      "text/plain": [
       "oo"
      ]
     },
     "execution_count": 12,
     "metadata": {},
     "output_type": "execute_result"
    }
   ],
   "source": [
    "smp.oo"
   ]
  },
  {
   "cell_type": "markdown",
   "id": "55f5bb61-cef9-4531-8557-e210be19b455",
   "metadata": {},
   "source": [
    "$$\\hbar$$"
   ]
  },
  {
   "cell_type": "code",
   "execution_count": 13,
   "id": "645e6df3-575d-46b8-9867-ca633ce3e2cf",
   "metadata": {
    "tags": []
   },
   "outputs": [],
   "source": [
    "from sympy.physics.quantum.constants import hbar"
   ]
  },
  {
   "cell_type": "code",
   "execution_count": 14,
   "id": "bdd1a5bc-3bb0-409e-a4c4-fb3a736b0d80",
   "metadata": {
    "tags": []
   },
   "outputs": [
    {
     "data": {
      "text/latex": [
       "$\\displaystyle \\hbar$"
      ],
      "text/plain": [
       "hbar"
      ]
     },
     "execution_count": 14,
     "metadata": {},
     "output_type": "execute_result"
    }
   ],
   "source": [
    "hbar"
   ]
  },
  {
   "cell_type": "code",
   "execution_count": 18,
   "id": "6005b7aa-8c0c-42c8-8502-81b52a2cbcfd",
   "metadata": {
    "tags": []
   },
   "outputs": [
    {
     "data": {
      "text/latex": [
       "$\\displaystyle 1.05457162 \\cdot 10^{-34}$"
      ],
      "text/plain": [
       "1.05457162000000e-34"
      ]
     },
     "execution_count": 18,
     "metadata": {},
     "output_type": "execute_result"
    }
   ],
   "source": [
    "hbar.n()"
   ]
  },
  {
   "cell_type": "markdown",
   "id": "5ad73e63-719e-4aed-bcbe-5338beaaf262",
   "metadata": {
    "tags": []
   },
   "source": [
    "**Fracciones**"
   ]
  },
  {
   "cell_type": "markdown",
   "id": "1268a189-01b3-4260-a9be-69f35d21e85d",
   "metadata": {},
   "source": [
    "$$\\frac{2}{5}$$"
   ]
  },
  {
   "cell_type": "code",
   "execution_count": 24,
   "id": "425abd01-5140-46b7-8d09-0ad50c664195",
   "metadata": {
    "tags": []
   },
   "outputs": [
    {
     "data": {
      "text/latex": [
       "$\\displaystyle \\frac{2}{5}$"
      ],
      "text/plain": [
       "2/5"
      ]
     },
     "execution_count": 24,
     "metadata": {},
     "output_type": "execute_result"
    }
   ],
   "source": [
    "smp.Rational(2, 5)"
   ]
  },
  {
   "cell_type": "code",
   "execution_count": 25,
   "id": "0496fba8-6ab2-463c-9dd6-885cfa0e2f6d",
   "metadata": {
    "tags": []
   },
   "outputs": [
    {
     "data": {
      "text/latex": [
       "$\\displaystyle 0.4$"
      ],
      "text/plain": [
       "0.400000000000000"
      ]
     },
     "execution_count": 25,
     "metadata": {},
     "output_type": "execute_result"
    }
   ],
   "source": [
    "smp.Rational(2, 5).evalf()"
   ]
  },
  {
   "cell_type": "markdown",
   "id": "869ed385-4181-48a0-9975-d8f28199e5f0",
   "metadata": {},
   "source": [
    "$$-\\frac{9}{100}$$"
   ]
  },
  {
   "cell_type": "code",
   "execution_count": 26,
   "id": "21298cda-0e21-466b-9724-79ac58bd4b16",
   "metadata": {
    "tags": []
   },
   "outputs": [
    {
     "data": {
      "text/latex": [
       "$\\displaystyle - \\frac{9}{100}$"
      ],
      "text/plain": [
       "-9/100"
      ]
     },
     "execution_count": 26,
     "metadata": {},
     "output_type": "execute_result"
    }
   ],
   "source": [
    "-smp.Rational(9, 100)"
   ]
  },
  {
   "cell_type": "code",
   "execution_count": 28,
   "id": "f4b3828e-b5f5-4712-a553-7b276a232888",
   "metadata": {
    "tags": []
   },
   "outputs": [
    {
     "data": {
      "text/latex": [
       "$\\displaystyle -0.09$"
      ],
      "text/plain": [
       "-0.0900000000000000"
      ]
     },
     "execution_count": 28,
     "metadata": {},
     "output_type": "execute_result"
    }
   ],
   "source": [
    "-smp.Rational(9, 100).n()"
   ]
  },
  {
   "cell_type": "markdown",
   "id": "64b74c3d-4bff-4b2c-9fe5-a527394148ac",
   "metadata": {},
   "source": [
    "$$\\frac{5}{2 i}$$"
   ]
  },
  {
   "cell_type": "code",
   "execution_count": 40,
   "id": "fb0b3ae6-8c9c-4c68-b0b0-b2c2e888c37a",
   "metadata": {
    "tags": []
   },
   "outputs": [
    {
     "data": {
      "text/latex": [
       "$\\displaystyle - \\frac{5 i}{2}$"
      ],
      "text/plain": [
       "-5*I/2"
      ]
     },
     "execution_count": 40,
     "metadata": {},
     "output_type": "execute_result"
    }
   ],
   "source": [
    "a = 5 / (2*smp.I)\n",
    "a"
   ]
  },
  {
   "cell_type": "code",
   "execution_count": 41,
   "id": "ec90094e-c973-468d-bb09-b86d743d4e65",
   "metadata": {
    "tags": []
   },
   "outputs": [
    {
     "data": {
      "text/latex": [
       "$\\displaystyle - 2.5 i$"
      ],
      "text/plain": [
       "-2.5*I"
      ]
     },
     "execution_count": 41,
     "metadata": {},
     "output_type": "execute_result"
    }
   ],
   "source": [
    "a.n()"
   ]
  },
  {
   "cell_type": "markdown",
   "id": "9aacf5d3-3f6d-4568-9a3d-3b7e09360ce7",
   "metadata": {},
   "source": [
    "$$\\frac{e}{\\pi}$$"
   ]
  },
  {
   "cell_type": "code",
   "execution_count": 44,
   "id": "d5c4b76f-66fe-4ab6-a6f6-87fb6283fb60",
   "metadata": {
    "tags": []
   },
   "outputs": [
    {
     "data": {
      "text/latex": [
       "$\\displaystyle \\frac{e}{\\pi}$"
      ],
      "text/plain": [
       "E/pi"
      ]
     },
     "execution_count": 44,
     "metadata": {},
     "output_type": "execute_result"
    }
   ],
   "source": [
    "a = smp.E/smp.pi\n",
    "a"
   ]
  },
  {
   "cell_type": "code",
   "execution_count": 45,
   "id": "0da46cac-41ae-4a65-a3b5-16baa895cdfa",
   "metadata": {
    "tags": []
   },
   "outputs": [
    {
     "data": {
      "text/latex": [
       "$\\displaystyle 0.865255979432265$"
      ],
      "text/plain": [
       "0.865255979432265"
      ]
     },
     "execution_count": 45,
     "metadata": {},
     "output_type": "execute_result"
    }
   ],
   "source": [
    "a.evalf()"
   ]
  },
  {
   "cell_type": "markdown",
   "id": "2799537c-86a1-43a6-95d7-1f7b2ff404ed",
   "metadata": {},
   "source": [
    "**Exponentes**"
   ]
  },
  {
   "cell_type": "markdown",
   "id": "8560f4a2-2727-410d-a117-418d84d6497a",
   "metadata": {},
   "source": [
    "$$2^{5}$$"
   ]
  },
  {
   "cell_type": "code",
   "execution_count": 241,
   "id": "a5a94b6f-b2ef-480a-86f7-1bec13c1d982",
   "metadata": {
    "tags": []
   },
   "outputs": [
    {
     "data": {
      "text/latex": [
       "$\\displaystyle 32$"
      ],
      "text/plain": [
       "32"
      ]
     },
     "execution_count": 241,
     "metadata": {},
     "output_type": "execute_result"
    }
   ],
   "source": [
    "smp.Pow(2, 5)"
   ]
  },
  {
   "cell_type": "markdown",
   "id": "c2d97bba-2104-4e42-9d91-9bc4e38a2421",
   "metadata": {},
   "source": [
    "$$2^{-2}$$"
   ]
  },
  {
   "cell_type": "code",
   "execution_count": 53,
   "id": "dabaece7-66a6-411c-9f29-cb709de54b81",
   "metadata": {
    "tags": []
   },
   "outputs": [
    {
     "data": {
      "text/latex": [
       "$\\displaystyle \\frac{1}{4}$"
      ],
      "text/plain": [
       "1/4"
      ]
     },
     "execution_count": 53,
     "metadata": {},
     "output_type": "execute_result"
    }
   ],
   "source": [
    "smp.Pow(2, -2)"
   ]
  },
  {
   "cell_type": "markdown",
   "id": "76d1211f-977b-436f-8df7-3e7ea9b4ea95",
   "metadata": {},
   "source": [
    "$$2^{i}$$"
   ]
  },
  {
   "cell_type": "code",
   "execution_count": 54,
   "id": "3d766491-0cd3-43ac-a217-28a5e89f9515",
   "metadata": {
    "tags": []
   },
   "outputs": [
    {
     "data": {
      "text/latex": [
       "$\\displaystyle 2^{i}$"
      ],
      "text/plain": [
       "2**I"
      ]
     },
     "execution_count": 54,
     "metadata": {},
     "output_type": "execute_result"
    }
   ],
   "source": [
    "2**smp.I"
   ]
  },
  {
   "cell_type": "code",
   "execution_count": 243,
   "id": "cabb2659-a99d-47f8-a427-6a357f681543",
   "metadata": {
    "tags": []
   },
   "outputs": [
    {
     "data": {
      "text/latex": [
       "$\\displaystyle 2^{i}$"
      ],
      "text/plain": [
       "2**I"
      ]
     },
     "execution_count": 243,
     "metadata": {},
     "output_type": "execute_result"
    }
   ],
   "source": [
    "smp.Pow(2, smp.I)"
   ]
  },
  {
   "cell_type": "code",
   "execution_count": 55,
   "id": "c65352ff-c3f9-4ea6-af3a-7858e930dd96",
   "metadata": {
    "tags": []
   },
   "outputs": [
    {
     "data": {
      "text/latex": [
       "$\\displaystyle 0.769238901363972 + 0.638961276313635 i$"
      ],
      "text/plain": [
       "0.769238901363972 + 0.638961276313635*I"
      ]
     },
     "execution_count": 55,
     "metadata": {},
     "output_type": "execute_result"
    }
   ],
   "source": [
    "smp.Pow(2, smp.I).n()"
   ]
  },
  {
   "cell_type": "markdown",
   "id": "45e532e6-e431-4c54-9d44-098a94d9e2ed",
   "metadata": {},
   "source": [
    "$$\\pi^{e}$$"
   ]
  },
  {
   "cell_type": "code",
   "execution_count": 57,
   "id": "332ed52d-77c3-4bf2-8655-77cd288632a1",
   "metadata": {
    "tags": []
   },
   "outputs": [
    {
     "data": {
      "text/latex": [
       "$\\displaystyle \\pi^{e}$"
      ],
      "text/plain": [
       "pi**E"
      ]
     },
     "execution_count": 57,
     "metadata": {},
     "output_type": "execute_result"
    }
   ],
   "source": [
    "smp.Pow(smp.pi, smp.E)"
   ]
  },
  {
   "cell_type": "code",
   "execution_count": 59,
   "id": "48852b09-763f-4883-9b01-e4c417442be2",
   "metadata": {
    "tags": []
   },
   "outputs": [
    {
     "data": {
      "text/latex": [
       "$\\displaystyle \\pi^{e}$"
      ],
      "text/plain": [
       "pi**E"
      ]
     },
     "execution_count": 59,
     "metadata": {},
     "output_type": "execute_result"
    }
   ],
   "source": [
    "a = smp.pi ** smp.E\n",
    "a"
   ]
  },
  {
   "cell_type": "code",
   "execution_count": 62,
   "id": "cbb7f4bb-5ef1-43d0-bf6e-a48222c130e3",
   "metadata": {
    "tags": []
   },
   "outputs": [
    {
     "data": {
      "text/latex": [
       "$\\displaystyle 22.459157718361$"
      ],
      "text/plain": [
       "22.4591577183610"
      ]
     },
     "execution_count": 62,
     "metadata": {},
     "output_type": "execute_result"
    }
   ],
   "source": [
    "a.evalf()"
   ]
  },
  {
   "cell_type": "markdown",
   "id": "89a802c3-d651-4875-b49e-5d50afe7c1c4",
   "metadata": {},
   "source": [
    "**Raíz principal de un número**"
   ]
  },
  {
   "cell_type": "markdown",
   "id": "0afaf034-865e-4314-b03f-860403bae18e",
   "metadata": {},
   "source": [
    "$$2^{\\frac{1}{2}}$$"
   ]
  },
  {
   "cell_type": "code",
   "execution_count": 65,
   "id": "33b4b8ac-1ef1-462c-a8e0-97f9ce16bb13",
   "metadata": {
    "tags": []
   },
   "outputs": [
    {
     "data": {
      "text/latex": [
       "$\\displaystyle \\sqrt{2}$"
      ],
      "text/plain": [
       "sqrt(2)"
      ]
     },
     "execution_count": 65,
     "metadata": {},
     "output_type": "execute_result"
    }
   ],
   "source": [
    "smp.Pow(2, smp.Rational(1, 2))"
   ]
  },
  {
   "cell_type": "code",
   "execution_count": 66,
   "id": "671db1b4-af61-48c8-918d-117bd45b7819",
   "metadata": {
    "tags": []
   },
   "outputs": [
    {
     "data": {
      "text/latex": [
       "$\\displaystyle 1.4142135623731$"
      ],
      "text/plain": [
       "1.41421356237310"
      ]
     },
     "execution_count": 66,
     "metadata": {},
     "output_type": "execute_result"
    }
   ],
   "source": [
    "smp.Pow(2, smp.Rational(1, 2)).evalf()"
   ]
  },
  {
   "cell_type": "markdown",
   "id": "284767c7-7f1d-44dd-b5d0-4dd4ebd64ede",
   "metadata": {},
   "source": [
    "$$2^{\\frac{1}{4}}$$"
   ]
  },
  {
   "cell_type": "code",
   "execution_count": 67,
   "id": "7c9c1f2d-efe8-4a52-9e1f-495e3b638a96",
   "metadata": {
    "tags": []
   },
   "outputs": [
    {
     "data": {
      "text/latex": [
       "$\\displaystyle \\sqrt[4]{2}$"
      ],
      "text/plain": [
       "2**(1/4)"
      ]
     },
     "execution_count": 67,
     "metadata": {},
     "output_type": "execute_result"
    }
   ],
   "source": [
    "smp.Pow(2, smp.Rational(1, 4))"
   ]
  },
  {
   "cell_type": "code",
   "execution_count": 68,
   "id": "cd425808-073e-4a41-b29e-75d2b816283e",
   "metadata": {
    "tags": []
   },
   "outputs": [
    {
     "data": {
      "text/latex": [
       "$\\displaystyle 1.18920711500272$"
      ],
      "text/plain": [
       "1.18920711500272"
      ]
     },
     "execution_count": 68,
     "metadata": {},
     "output_type": "execute_result"
    }
   ],
   "source": [
    "smp.Pow(2, smp.Rational(1, 4)).n()"
   ]
  },
  {
   "cell_type": "markdown",
   "id": "2b965c2a-453c-41c8-8c4c-9d0ef33730fb",
   "metadata": {},
   "source": [
    "$$2^{\\frac{1}{i}}$$"
   ]
  },
  {
   "cell_type": "code",
   "execution_count": 71,
   "id": "83bf0ac1-85a6-4995-b578-9fc3f227d449",
   "metadata": {
    "tags": []
   },
   "outputs": [
    {
     "data": {
      "text/latex": [
       "$\\displaystyle 2^{- i}$"
      ],
      "text/plain": [
       "2**(-I)"
      ]
     },
     "execution_count": 71,
     "metadata": {},
     "output_type": "execute_result"
    }
   ],
   "source": [
    "smp.Pow(2, 1/smp.I)"
   ]
  },
  {
   "cell_type": "code",
   "execution_count": 72,
   "id": "9121a8a9-7180-490c-ae44-7a33fdef963e",
   "metadata": {
    "tags": []
   },
   "outputs": [
    {
     "data": {
      "text/latex": [
       "$\\displaystyle 0.769238901363972 - 0.638961276313635 i$"
      ],
      "text/plain": [
       "0.769238901363972 - 0.638961276313635*I"
      ]
     },
     "execution_count": 72,
     "metadata": {},
     "output_type": "execute_result"
    }
   ],
   "source": [
    "smp.Pow(2, 1/smp.I).evalf()"
   ]
  },
  {
   "cell_type": "markdown",
   "id": "ad69861a-2ea3-46ae-98d0-ddef47c3e95c",
   "metadata": {},
   "source": [
    "**Simbolos Algebraicos**"
   ]
  },
  {
   "cell_type": "code",
   "execution_count": 74,
   "id": "6a99dac2-ba89-47a2-b70f-bad8aaf8040a",
   "metadata": {
    "tags": []
   },
   "outputs": [],
   "source": [
    "x = smp.symbols('x')\n",
    "y = smp.symbols('y')"
   ]
  },
  {
   "cell_type": "code",
   "execution_count": 75,
   "id": "cac34e8e-308f-4f2a-93db-db4a5d903143",
   "metadata": {
    "tags": []
   },
   "outputs": [
    {
     "data": {
      "text/latex": [
       "$\\displaystyle y$"
      ],
      "text/plain": [
       "y"
      ]
     },
     "execution_count": 75,
     "metadata": {},
     "output_type": "execute_result"
    }
   ],
   "source": [
    "y"
   ]
  },
  {
   "cell_type": "code",
   "execution_count": 80,
   "id": "f1259cf5-230a-4ef0-903e-2c21d5db326a",
   "metadata": {
    "tags": []
   },
   "outputs": [],
   "source": [
    "a, b, c = smp.symbols('a b c')"
   ]
  },
  {
   "cell_type": "code",
   "execution_count": 82,
   "id": "ff6be55b-d1ab-4faa-ab77-e79df010f908",
   "metadata": {
    "tags": []
   },
   "outputs": [
    {
     "data": {
      "text/latex": [
       "$\\displaystyle c$"
      ],
      "text/plain": [
       "c"
      ]
     },
     "execution_count": 82,
     "metadata": {},
     "output_type": "execute_result"
    }
   ],
   "source": [
    "c"
   ]
  },
  {
   "cell_type": "code",
   "execution_count": 88,
   "id": "3f9bde6c-3d69-473b-856e-642177aab665",
   "metadata": {
    "tags": []
   },
   "outputs": [],
   "source": [
    "tau = smp.symbols(r'\\tau')"
   ]
  },
  {
   "cell_type": "code",
   "execution_count": 89,
   "id": "7948db44-7d1f-459b-a3e0-4387af7c74b6",
   "metadata": {
    "tags": []
   },
   "outputs": [
    {
     "data": {
      "text/latex": [
       "$\\displaystyle \\tau$"
      ],
      "text/plain": [
       "\\tau"
      ]
     },
     "execution_count": 89,
     "metadata": {},
     "output_type": "execute_result"
    }
   ],
   "source": [
    "tau"
   ]
  },
  {
   "cell_type": "code",
   "execution_count": 90,
   "id": "b3579c62-5202-4cb6-9f14-1d5e627f4c85",
   "metadata": {
    "tags": []
   },
   "outputs": [],
   "source": [
    "theta, phi = smp.symbols(r'\\theta \\phi')"
   ]
  },
  {
   "cell_type": "code",
   "execution_count": 92,
   "id": "59284b3c-80ea-43ec-abbc-e0c935ccc861",
   "metadata": {
    "tags": []
   },
   "outputs": [
    {
     "data": {
      "text/latex": [
       "$\\displaystyle \\theta$"
      ],
      "text/plain": [
       "\\theta"
      ]
     },
     "execution_count": 92,
     "metadata": {},
     "output_type": "execute_result"
    }
   ],
   "source": [
    "theta"
   ]
  },
  {
   "cell_type": "code",
   "execution_count": 93,
   "id": "fb09dffe-3e59-4fa5-9a73-9d324459d259",
   "metadata": {
    "tags": []
   },
   "outputs": [
    {
     "data": {
      "text/latex": [
       "$\\displaystyle C_{1}$"
      ],
      "text/plain": [
       "C1"
      ]
     },
     "execution_count": 93,
     "metadata": {},
     "output_type": "execute_result"
    }
   ],
   "source": [
    "C1 = smp.symbols('C1')\n",
    "C1"
   ]
  },
  {
   "cell_type": "code",
   "execution_count": 94,
   "id": "90fc04a0-4ea1-415d-bbc7-df147f1fbcf9",
   "metadata": {
    "tags": []
   },
   "outputs": [
    {
     "data": {
      "text/latex": [
       "$\\displaystyle C_{1}$"
      ],
      "text/plain": [
       "C_1"
      ]
     },
     "execution_count": 94,
     "metadata": {},
     "output_type": "execute_result"
    }
   ],
   "source": [
    "smp.symbols('C_1')"
   ]
  },
  {
   "cell_type": "code",
   "execution_count": 96,
   "id": "25bb8e62-1deb-4c0e-b29f-8840c392281a",
   "metadata": {
    "tags": []
   },
   "outputs": [
    {
     "data": {
      "text/latex": [
       "$\\displaystyle C_{1}$"
      ],
      "text/plain": [
       "C_{1}"
      ]
     },
     "execution_count": 96,
     "metadata": {},
     "output_type": "execute_result"
    }
   ],
   "source": [
    "smp.symbols(r'C_{1}')"
   ]
  },
  {
   "cell_type": "code",
   "execution_count": 97,
   "id": "f16d1ce8-c5a3-42ed-9edc-477719a66a3a",
   "metadata": {
    "tags": []
   },
   "outputs": [
    {
     "data": {
      "text/latex": [
       "$\\displaystyle C^{1}$"
      ],
      "text/plain": [
       "C^1"
      ]
     },
     "execution_count": 97,
     "metadata": {},
     "output_type": "execute_result"
    }
   ],
   "source": [
    "smp.symbols('C^1')"
   ]
  },
  {
   "cell_type": "code",
   "execution_count": 98,
   "id": "5160a4dc-da07-47fc-a5c0-a438d608bcab",
   "metadata": {
    "tags": []
   },
   "outputs": [
    {
     "data": {
      "text/latex": [
       "$\\displaystyle C^{1}$"
      ],
      "text/plain": [
       "C^{1}"
      ]
     },
     "execution_count": 98,
     "metadata": {},
     "output_type": "execute_result"
    }
   ],
   "source": [
    "smp.symbols(r'C^{1}')"
   ]
  },
  {
   "cell_type": "code",
   "execution_count": 105,
   "id": "efd02ae3-f159-4118-81f4-3f5b94693a86",
   "metadata": {
    "tags": []
   },
   "outputs": [
    {
     "data": {
      "text/latex": [
       "$\\displaystyle C_{7}$"
      ],
      "text/plain": [
       "C_7"
      ]
     },
     "execution_count": 105,
     "metadata": {},
     "output_type": "execute_result"
    }
   ],
   "source": [
    "Cs = smp.symbols(f'C_1:8')\n",
    "Cs[-1]"
   ]
  },
  {
   "cell_type": "code",
   "execution_count": 109,
   "id": "db1fbecf-9183-4c6e-a8f6-09d6a3e3d709",
   "metadata": {
    "tags": []
   },
   "outputs": [
    {
     "data": {
      "text/plain": [
       "(\\eta_0, \\eta_1, \\eta_2, \\eta_3, \\eta_4, \\eta_5, \\eta_6, \\eta_7)"
      ]
     },
     "execution_count": 109,
     "metadata": {},
     "output_type": "execute_result"
    }
   ],
   "source": [
    "etas = smp.symbols(fr'\\eta_{0}:{8}')\n",
    "etas"
   ]
  },
  {
   "cell_type": "code",
   "execution_count": 111,
   "id": "a15f9317-fb4a-440a-b957-2fee29f2c755",
   "metadata": {
    "tags": []
   },
   "outputs": [
    {
     "data": {
      "text/latex": [
       "$\\displaystyle \\alpha_{7}$"
      ],
      "text/plain": [
       "\\alpha_7"
      ]
     },
     "execution_count": 111,
     "metadata": {},
     "output_type": "execute_result"
    }
   ],
   "source": [
    "alphas = smp.symbols(fr'\\alpha_0:8')\n",
    "alphas[-1]"
   ]
  },
  {
   "cell_type": "markdown",
   "id": "61084600-6a3c-4cba-87c1-130e2dfaa7e1",
   "metadata": {},
   "source": [
    "**Operaciones con números y símbolos**"
   ]
  },
  {
   "cell_type": "code",
   "execution_count": 112,
   "id": "1bb665b2-35b9-4c16-9aac-c7c77dcf7b8e",
   "metadata": {
    "tags": []
   },
   "outputs": [
    {
     "data": {
      "text/latex": [
       "$\\displaystyle x + 5$"
      ],
      "text/plain": [
       "x + 5"
      ]
     },
     "execution_count": 112,
     "metadata": {},
     "output_type": "execute_result"
    }
   ],
   "source": [
    "# Suma\n",
    "\n",
    "x + 5"
   ]
  },
  {
   "cell_type": "code",
   "execution_count": 114,
   "id": "4c3e06b2-cdc6-40b7-9a1a-ad3c42f3c868",
   "metadata": {
    "tags": []
   },
   "outputs": [
    {
     "data": {
      "text/latex": [
       "$\\displaystyle x - y$"
      ],
      "text/plain": [
       "x - y"
      ]
     },
     "execution_count": 114,
     "metadata": {},
     "output_type": "execute_result"
    }
   ],
   "source": [
    "# Resta\n",
    "\n",
    "x - y"
   ]
  },
  {
   "cell_type": "code",
   "execution_count": 116,
   "id": "2fdb1274-9dfb-499d-b1aa-9ec1d075f46a",
   "metadata": {
    "tags": []
   },
   "outputs": [
    {
     "data": {
      "text/latex": [
       "$\\displaystyle i x$"
      ],
      "text/plain": [
       "I*x"
      ]
     },
     "execution_count": 116,
     "metadata": {},
     "output_type": "execute_result"
    }
   ],
   "source": [
    "# Multiplicación\n",
    "\n",
    "x*smp.I"
   ]
  },
  {
   "cell_type": "code",
   "execution_count": 117,
   "id": "a34816eb-69d2-4884-97bf-db254622acc4",
   "metadata": {
    "tags": []
   },
   "outputs": [
    {
     "data": {
      "text/latex": [
       "$\\displaystyle \\frac{x}{15 y^{2}}$"
      ],
      "text/plain": [
       "x/(15*y**2)"
      ]
     },
     "execution_count": 117,
     "metadata": {},
     "output_type": "execute_result"
    }
   ],
   "source": [
    "# División\n",
    "\n",
    "x / (15*y**2)"
   ]
  },
  {
   "cell_type": "markdown",
   "id": "ca423215-3931-4282-9a7e-eac9fff63e16",
   "metadata": {},
   "source": [
    "Funciones varias"
   ]
  },
  {
   "cell_type": "code",
   "execution_count": 121,
   "id": "32fb1d7d-2f20-41ec-9ce9-5e6d02d269f5",
   "metadata": {
    "tags": []
   },
   "outputs": [
    {
     "data": {
      "text/latex": [
       "$\\displaystyle \\left(x + 5\\right) e^{- \\pi x}$"
      ],
      "text/plain": [
       "(x + 5)*exp(-pi*x)"
      ]
     },
     "execution_count": 121,
     "metadata": {},
     "output_type": "execute_result"
    }
   ],
   "source": [
    "(5 + x) / smp.Pow(smp.E, smp.pi*x)"
   ]
  },
  {
   "cell_type": "code",
   "execution_count": 123,
   "id": "a6abf170-2999-4414-ad1f-dde26c1dfcfe",
   "metadata": {
    "tags": []
   },
   "outputs": [
    {
     "data": {
      "text/latex": [
       "$\\displaystyle \\cos{\\left(\\frac{5 x}{y} \\right)}$"
      ],
      "text/plain": [
       "cos(5*x/y)"
      ]
     },
     "execution_count": 123,
     "metadata": {},
     "output_type": "execute_result"
    }
   ],
   "source": [
    "smp.cos(5*x/y)"
   ]
  },
  {
   "cell_type": "code",
   "execution_count": 124,
   "id": "ff1f185a-6fbf-4cca-a6e3-cb9c4d583916",
   "metadata": {
    "tags": []
   },
   "outputs": [
    {
     "data": {
      "text/latex": [
       "$\\displaystyle \\tan{\\left(\\theta \\right)}$"
      ],
      "text/plain": [
       "tan(\\theta)"
      ]
     },
     "execution_count": 124,
     "metadata": {},
     "output_type": "execute_result"
    }
   ],
   "source": [
    "smp.tan(theta)"
   ]
  },
  {
   "cell_type": "code",
   "execution_count": 125,
   "id": "ae4a1030-6d68-4b7c-a62e-d6093526d316",
   "metadata": {
    "tags": []
   },
   "outputs": [
    {
     "data": {
      "text/latex": [
       "$\\displaystyle e^{15 \\theta}$"
      ],
      "text/plain": [
       "exp(15*\\theta)"
      ]
     },
     "execution_count": 125,
     "metadata": {},
     "output_type": "execute_result"
    }
   ],
   "source": [
    "smp.Pow(smp.E, 15*theta)"
   ]
  },
  {
   "cell_type": "code",
   "execution_count": 126,
   "id": "0acee6bc-8c86-4256-81e5-254959d1429e",
   "metadata": {
    "tags": []
   },
   "outputs": [
    {
     "data": {
      "text/latex": [
       "$\\displaystyle e^{15 \\theta}$"
      ],
      "text/plain": [
       "exp(15*\\theta)"
      ]
     },
     "execution_count": 126,
     "metadata": {},
     "output_type": "execute_result"
    }
   ],
   "source": [
    "smp.exp(15*theta)"
   ]
  },
  {
   "cell_type": "code",
   "execution_count": 130,
   "id": "4748bac7-aa4e-4e3d-b1f0-47d042f29a36",
   "metadata": {
    "tags": []
   },
   "outputs": [
    {
     "data": {
      "text/latex": [
       "$\\displaystyle \\log{\\left(\\theta^{\\tau} \\right)}$"
      ],
      "text/plain": [
       "log(\\theta**\\tau)"
      ]
     },
     "execution_count": 130,
     "metadata": {},
     "output_type": "execute_result"
    }
   ],
   "source": [
    "smp.ln(theta**tau)"
   ]
  },
  {
   "cell_type": "code",
   "execution_count": 133,
   "id": "4662c30e-9d7e-436f-ab30-9e5c07986eaa",
   "metadata": {
    "tags": []
   },
   "outputs": [
    {
     "data": {
      "text/latex": [
       "$\\displaystyle \\frac{\\log{\\left(\\theta^{\\tau} \\right)}}{\\log{\\left(10 \\right)}}$"
      ],
      "text/plain": [
       "log(\\theta**\\tau)/log(10)"
      ]
     },
     "execution_count": 133,
     "metadata": {},
     "output_type": "execute_result"
    }
   ],
   "source": [
    "smp.ln(theta**tau, 10)"
   ]
  },
  {
   "cell_type": "code",
   "execution_count": 134,
   "id": "305746b5-40c0-4291-a5ff-6ef6db20636e",
   "metadata": {
    "tags": []
   },
   "outputs": [
    {
     "data": {
      "text/latex": [
       "$\\displaystyle \\frac{\\log{\\left(\\theta^{\\tau} \\right)}}{\\log{\\left(2 \\right)}}$"
      ],
      "text/plain": [
       "log(\\theta**\\tau)/log(2)"
      ]
     },
     "execution_count": 134,
     "metadata": {},
     "output_type": "execute_result"
    }
   ],
   "source": [
    "smp.ln(theta**tau, 2)"
   ]
  },
  {
   "cell_type": "code",
   "execution_count": 135,
   "id": "64fe40fc-d010-4b77-8ceb-6aba938b3e2c",
   "metadata": {
    "tags": []
   },
   "outputs": [
    {
     "data": {
      "text/latex": [
       "$\\displaystyle \\cosh{\\left(\\frac{8}{x} \\right)}$"
      ],
      "text/plain": [
       "cosh(8/x)"
      ]
     },
     "execution_count": 135,
     "metadata": {},
     "output_type": "execute_result"
    }
   ],
   "source": [
    "smp.cosh(8/x)"
   ]
  },
  {
   "cell_type": "code",
   "execution_count": 136,
   "id": "24b77ab5-ddf3-4b57-b5a6-05a5926ac21a",
   "metadata": {
    "tags": []
   },
   "outputs": [
    {
     "data": {
      "text/latex": [
       "$\\displaystyle \\sinh{\\left(a b c \\right)}$"
      ],
      "text/plain": [
       "sinh(a*b*c)"
      ]
     },
     "execution_count": 136,
     "metadata": {},
     "output_type": "execute_result"
    }
   ],
   "source": [
    "smp.sinh(a*b*c)"
   ]
  },
  {
   "cell_type": "code",
   "execution_count": 137,
   "id": "c4927a4f-29ba-40fa-aea5-80bb762d1d91",
   "metadata": {
    "tags": []
   },
   "outputs": [
    {
     "data": {
      "text/latex": [
       "$\\displaystyle \\operatorname{sinc}{\\left(x \\right)}$"
      ],
      "text/plain": [
       "sinc(x)"
      ]
     },
     "execution_count": 137,
     "metadata": {},
     "output_type": "execute_result"
    }
   ],
   "source": [
    "smp.sinc(x)"
   ]
  },
  {
   "cell_type": "code",
   "execution_count": 138,
   "id": "13b1ddcf-aa36-4590-ad83-a2b366bbc091",
   "metadata": {
    "tags": []
   },
   "outputs": [
    {
     "data": {
      "text/latex": [
       "$\\displaystyle \\operatorname{atan}{\\left(x \\right)}$"
      ],
      "text/plain": [
       "atan(x)"
      ]
     },
     "execution_count": 138,
     "metadata": {},
     "output_type": "execute_result"
    }
   ],
   "source": [
    "smp.atan(x)"
   ]
  },
  {
   "cell_type": "code",
   "execution_count": 139,
   "id": "184ae142-c25a-43b3-bf9b-1fd6406b3a8a",
   "metadata": {
    "tags": []
   },
   "outputs": [
    {
     "data": {
      "text/latex": [
       "$\\displaystyle \\operatorname{acoth}{\\left(x \\right)}$"
      ],
      "text/plain": [
       "acoth(x)"
      ]
     },
     "execution_count": 139,
     "metadata": {},
     "output_type": "execute_result"
    }
   ],
   "source": [
    "smp.acoth(x)"
   ]
  },
  {
   "cell_type": "code",
   "execution_count": 142,
   "id": "626a4a78-5e5d-4944-94bf-19265590748b",
   "metadata": {
    "tags": []
   },
   "outputs": [
    {
     "data": {
      "text/latex": [
       "$\\displaystyle \\sin^{2}{\\left(x \\right)} + \\cos^{2}{\\left(x \\right)}$"
      ],
      "text/plain": [
       "sin(x)**2 + cos(x)**2"
      ]
     },
     "execution_count": 142,
     "metadata": {},
     "output_type": "execute_result"
    }
   ],
   "source": [
    "d = smp.sin(x)**2 + smp.cos(x)**2\n",
    "d"
   ]
  },
  {
   "cell_type": "code",
   "execution_count": 144,
   "id": "8d4cfaea-1a45-4f58-aaa6-5d9ab7ffc948",
   "metadata": {
    "tags": []
   },
   "outputs": [
    {
     "data": {
      "text/latex": [
       "$\\displaystyle 1$"
      ],
      "text/plain": [
       "1"
      ]
     },
     "execution_count": 144,
     "metadata": {},
     "output_type": "execute_result"
    }
   ],
   "source": [
    "d.simplify()"
   ]
  },
  {
   "cell_type": "markdown",
   "id": "8e87fa49-e5a4-4432-928b-7c9852675bca",
   "metadata": {},
   "source": [
    "**Raíces de un número mediante polinomios**"
   ]
  },
  {
   "cell_type": "markdown",
   "id": "d2678e84-abee-4f15-956f-334a01cb9427",
   "metadata": {},
   "source": [
    "Para esto tenemos que que definir un polinomio de la forma <br> <br>\n",
    "$$x^n  = a$$ <br>\n",
    "donde: <br>\n",
    "$n$ es el número de raíces a calcular <br>\n",
    "$a$ el número a calcular sus raíces"
   ]
  },
  {
   "cell_type": "markdown",
   "id": "06b5c701-98dc-4c2a-9a3c-2f6c756198db",
   "metadata": {},
   "source": [
    "Ejemplo 1"
   ]
  },
  {
   "cell_type": "code",
   "execution_count": 149,
   "id": "47658fbb-13b6-4450-9770-98b5aa11bc9f",
   "metadata": {
    "tags": []
   },
   "outputs": [
    {
     "data": {
      "text/latex": [
       "$\\displaystyle x^{3} = 4$"
      ],
      "text/plain": [
       "Eq(x**3, 4)"
      ]
     },
     "execution_count": 149,
     "metadata": {},
     "output_type": "execute_result"
    }
   ],
   "source": [
    "eq = smp.Eq(x**3, 4)\n",
    "eq"
   ]
  },
  {
   "cell_type": "code",
   "execution_count": 153,
   "id": "003df2a3-5275-45c4-9979-1e830f3bd613",
   "metadata": {
    "tags": []
   },
   "outputs": [
    {
     "data": {
      "text/plain": [
       "[2**(2/3),\n",
       " -2**(2/3)/2 - 2**(2/3)*sqrt(3)*I/2,\n",
       " -2**(2/3)/2 + 2**(2/3)*sqrt(3)*I/2]"
      ]
     },
     "execution_count": 153,
     "metadata": {},
     "output_type": "execute_result"
    }
   ],
   "source": [
    "sols = smp.solve(eq, x)\n",
    "sols"
   ]
  },
  {
   "cell_type": "code",
   "execution_count": 157,
   "id": "747f2a67-d7bb-460e-844d-9f3df118e90a",
   "metadata": {
    "tags": []
   },
   "outputs": [
    {
     "data": {
      "text/latex": [
       "$\\displaystyle 2^{\\frac{2}{3}}$"
      ],
      "text/plain": [
       "2**(2/3)"
      ]
     },
     "execution_count": 157,
     "metadata": {},
     "output_type": "execute_result"
    }
   ],
   "source": [
    "sols[0]"
   ]
  },
  {
   "cell_type": "markdown",
   "id": "456440a8-4a22-4775-b98d-080b85dc9c89",
   "metadata": {},
   "source": [
    "$$x^n  - a = 0$$"
   ]
  },
  {
   "cell_type": "markdown",
   "id": "abf335bb-65fc-44e5-aaab-6fb8da6db551",
   "metadata": {},
   "source": [
    "Ejemplo 2"
   ]
  },
  {
   "cell_type": "code",
   "execution_count": 158,
   "id": "4ad3ff72-007d-44ed-9a35-a45f0ae5cca9",
   "metadata": {
    "tags": []
   },
   "outputs": [
    {
     "data": {
      "text/latex": [
       "$\\displaystyle x^{2} + i$"
      ],
      "text/plain": [
       "x**2 + I"
      ]
     },
     "execution_count": 158,
     "metadata": {},
     "output_type": "execute_result"
    }
   ],
   "source": [
    "eq = x**2 + smp.I\n",
    "eq"
   ]
  },
  {
   "cell_type": "code",
   "execution_count": 160,
   "id": "1cc259ba-2e9f-4d40-ab2c-edde98481061",
   "metadata": {
    "tags": []
   },
   "outputs": [],
   "source": [
    "sols = smp.solve(eq, x)"
   ]
  },
  {
   "cell_type": "code",
   "execution_count": 170,
   "id": "3ae75c81-6ee0-4b6d-8bb0-62fff2afad4a",
   "metadata": {
    "tags": []
   },
   "outputs": [
    {
     "data": {
      "text/latex": [
       "$\\displaystyle \\sqrt{- i}$"
      ],
      "text/plain": [
       "sqrt(-I)"
      ]
     },
     "execution_count": 170,
     "metadata": {},
     "output_type": "execute_result"
    }
   ],
   "source": [
    "sols[0]"
   ]
  },
  {
   "cell_type": "markdown",
   "id": "01a04fec-592f-4851-99c8-dba948a6af1c",
   "metadata": {},
   "source": [
    "**Funciones**"
   ]
  },
  {
   "cell_type": "code",
   "execution_count": 171,
   "id": "ec720e3e-e31a-4b63-935a-61c7fba4c02b",
   "metadata": {
    "tags": []
   },
   "outputs": [
    {
     "data": {
      "text/latex": [
       "$\\displaystyle t$"
      ],
      "text/plain": [
       "t"
      ]
     },
     "execution_count": 171,
     "metadata": {},
     "output_type": "execute_result"
    }
   ],
   "source": [
    "t = smp.symbols('t', positive=True)\n",
    "t"
   ]
  },
  {
   "cell_type": "code",
   "execution_count": 176,
   "id": "900bef1f-51b8-4de3-9380-191674a8e5d7",
   "metadata": {
    "tags": []
   },
   "outputs": [
    {
     "data": {
      "text/plain": [
       "f"
      ]
     },
     "execution_count": 176,
     "metadata": {},
     "output_type": "execute_result"
    }
   ],
   "source": [
    "f = smp.symbols('f', cls=smp.Function)\n",
    "f"
   ]
  },
  {
   "cell_type": "code",
   "execution_count": 177,
   "id": "d0450cb3-23a5-4267-a9e5-13c012ba2ab5",
   "metadata": {
    "tags": []
   },
   "outputs": [
    {
     "data": {
      "text/plain": [
       "g"
      ]
     },
     "execution_count": 177,
     "metadata": {},
     "output_type": "execute_result"
    }
   ],
   "source": [
    "g = smp.Function('g')\n",
    "g"
   ]
  },
  {
   "cell_type": "code",
   "execution_count": 186,
   "id": "f42d4415-4447-4725-87a5-00358dc8782a",
   "metadata": {
    "tags": []
   },
   "outputs": [
    {
     "data": {
      "text/latex": [
       "$\\displaystyle f{\\left(t \\right)}$"
      ],
      "text/plain": [
       "f(t)"
      ]
     },
     "execution_count": 186,
     "metadata": {},
     "output_type": "execute_result"
    }
   ],
   "source": [
    "f = f(t)\n",
    "f"
   ]
  },
  {
   "cell_type": "code",
   "execution_count": 192,
   "id": "55e5730a-bfb8-4f5e-8fd2-a6f92011a0c5",
   "metadata": {
    "tags": []
   },
   "outputs": [
    {
     "data": {
      "text/latex": [
       "$\\displaystyle g{\\left(f{\\left(t \\right)} \\right)}$"
      ],
      "text/plain": [
       "g(f(t))"
      ]
     },
     "execution_count": 192,
     "metadata": {},
     "output_type": "execute_result"
    }
   ],
   "source": [
    "g = g(f)\n",
    "g"
   ]
  },
  {
   "cell_type": "code",
   "execution_count": 298,
   "id": "514e7663-b1ec-4000-aaee-d591b3790c26",
   "metadata": {
    "tags": []
   },
   "outputs": [
    {
     "data": {
      "text/latex": [
       "$\\displaystyle 5 f{\\left(t \\right)}$"
      ],
      "text/plain": [
       "5*f(t)"
      ]
     },
     "execution_count": 298,
     "metadata": {},
     "output_type": "execute_result"
    }
   ],
   "source": [
    "5*f"
   ]
  },
  {
   "cell_type": "code",
   "execution_count": 194,
   "id": "1416fd7b-3493-4c7a-9c39-b76f9617efc6",
   "metadata": {
    "tags": []
   },
   "outputs": [
    {
     "data": {
      "text/latex": [
       "$\\displaystyle \\sinh{\\left(\\frac{1}{f{\\left(t \\right)}} \\right)}$"
      ],
      "text/plain": [
       "sinh(1/f(t))"
      ]
     },
     "execution_count": 194,
     "metadata": {},
     "output_type": "execute_result"
    }
   ],
   "source": [
    "smp.sinh(1/f)"
   ]
  },
  {
   "cell_type": "code",
   "execution_count": 195,
   "id": "f592ce19-fac5-48dd-886c-12f056741980",
   "metadata": {
    "tags": []
   },
   "outputs": [
    {
     "data": {
      "text/latex": [
       "$\\displaystyle \\frac{\\cos{\\left(f{\\left(t \\right)} \\right)}}{\\cosh{\\left(g{\\left(f{\\left(t \\right)} \\right)} \\right)}}$"
      ],
      "text/plain": [
       "cos(f(t))/cosh(g(f(t)))"
      ]
     },
     "execution_count": 195,
     "metadata": {},
     "output_type": "execute_result"
    }
   ],
   "source": [
    "smp.cos(f)/smp.cosh(g)"
   ]
  },
  {
   "cell_type": "code",
   "execution_count": 197,
   "id": "0fff078e-41d1-4550-bfb7-fe84a3735a30",
   "metadata": {
    "tags": []
   },
   "outputs": [
    {
     "data": {
      "text/latex": [
       "$\\displaystyle \\frac{d}{d t} f{\\left(t \\right)}$"
      ],
      "text/plain": [
       "Derivative(f(t), t)"
      ]
     },
     "execution_count": 197,
     "metadata": {},
     "output_type": "execute_result"
    }
   ],
   "source": [
    "smp.diff(f, t)"
   ]
  },
  {
   "cell_type": "code",
   "execution_count": 199,
   "id": "f0e58e58-cf94-48cd-b196-a9856a411bc7",
   "metadata": {
    "tags": []
   },
   "outputs": [
    {
     "data": {
      "text/latex": [
       "$\\displaystyle \\frac{d}{d t} f{\\left(t \\right)} \\frac{d}{d f{\\left(t \\right)}} g{\\left(f{\\left(t \\right)} \\right)}$"
      ],
      "text/plain": [
       "Derivative(f(t), t)*Derivative(g(f(t)), f(t))"
      ]
     },
     "execution_count": 199,
     "metadata": {},
     "output_type": "execute_result"
    }
   ],
   "source": [
    "smp.diff(g, t)"
   ]
  },
  {
   "cell_type": "markdown",
   "id": "bfddfa0e-82f0-4536-b8ab-ff32ff187903",
   "metadata": {},
   "source": [
    "**Ecuaciones y Desigualdades**"
   ]
  },
  {
   "cell_type": "code",
   "execution_count": 200,
   "id": "4def6ad8-c529-4d9a-905f-8c53e319e414",
   "metadata": {
    "tags": []
   },
   "outputs": [],
   "source": [
    "x, y = smp.symbols('x y', real=True)\n",
    "r = smp.symbols('r', positive=True)"
   ]
  },
  {
   "cell_type": "code",
   "execution_count": 201,
   "id": "1fed489d-dafe-4808-b3c9-1d9fe252aea4",
   "metadata": {
    "tags": []
   },
   "outputs": [
    {
     "data": {
      "text/latex": [
       "$\\displaystyle y = x$"
      ],
      "text/plain": [
       "Eq(y, x)"
      ]
     },
     "execution_count": 201,
     "metadata": {},
     "output_type": "execute_result"
    }
   ],
   "source": [
    "# Eq es la función igualdad\n",
    "\n",
    "smp.Eq(y, x)"
   ]
  },
  {
   "cell_type": "code",
   "execution_count": 203,
   "id": "8a137fab-43e7-4426-a07a-f8983ac62eab",
   "metadata": {
    "tags": []
   },
   "outputs": [
    {
     "data": {
      "text/latex": [
       "$\\displaystyle y = x^{3}$"
      ],
      "text/plain": [
       "Eq(y, x**3)"
      ]
     },
     "execution_count": 203,
     "metadata": {},
     "output_type": "execute_result"
    }
   ],
   "source": [
    "smp.Eq(y, x**3)"
   ]
  },
  {
   "cell_type": "code",
   "execution_count": 210,
   "id": "da745f75-264f-4c03-9257-bf5668b94b65",
   "metadata": {
    "tags": []
   },
   "outputs": [
    {
     "data": {
      "text/latex": [
       "$\\displaystyle x^{2} + y^{2} = r^{2}$"
      ],
      "text/plain": [
       "Eq(x**2 + y**2, r**2)"
      ]
     },
     "execution_count": 210,
     "metadata": {},
     "output_type": "execute_result"
    }
   ],
   "source": [
    "circle_eq = smp.Eq(x**2 + y**2, r**2)\n",
    "circle_eq"
   ]
  },
  {
   "cell_type": "code",
   "execution_count": 211,
   "id": "33d2b35b-5f7a-4014-bc18-12ec6a1ab4ad",
   "metadata": {
    "tags": []
   },
   "outputs": [
    {
     "data": {
      "text/latex": [
       "$\\displaystyle x^{2} + y^{2}$"
      ],
      "text/plain": [
       "x**2 + y**2"
      ]
     },
     "execution_count": 211,
     "metadata": {},
     "output_type": "execute_result"
    }
   ],
   "source": [
    "circle_eq.lhs"
   ]
  },
  {
   "cell_type": "code",
   "execution_count": 212,
   "id": "bf213e6c-95ec-4a73-8aad-9126f4ee2f2a",
   "metadata": {
    "tags": []
   },
   "outputs": [
    {
     "data": {
      "text/latex": [
       "$\\displaystyle r^{2}$"
      ],
      "text/plain": [
       "r**2"
      ]
     },
     "execution_count": 212,
     "metadata": {},
     "output_type": "execute_result"
    }
   ],
   "source": [
    "circle_eq.rhs"
   ]
  },
  {
   "cell_type": "code",
   "execution_count": 214,
   "id": "4f848131-008f-4891-9d71-ec460581d275",
   "metadata": {
    "tags": []
   },
   "outputs": [
    {
     "data": {
      "text/latex": [
       "$\\displaystyle x^{2} + y^{2} \\neq r^{2}$"
      ],
      "text/plain": [
       "Ne(x**2 + y**2, r**2)"
      ]
     },
     "execution_count": 214,
     "metadata": {},
     "output_type": "execute_result"
    }
   ],
   "source": [
    "# Eq es la función no-igualdad\n",
    "\n",
    "smp.Ne(x**2 + y**2, r**2)"
   ]
  },
  {
   "cell_type": "code",
   "execution_count": 215,
   "id": "1ca32ef0-d301-42c1-b5b5-a1c5ffab523b",
   "metadata": {
    "tags": []
   },
   "outputs": [
    {
     "data": {
      "text/latex": [
       "$\\displaystyle x^{2} + y^{2} \\geq r^{2}$"
      ],
      "text/plain": [
       "x**2 + y**2 >= r**2"
      ]
     },
     "execution_count": 215,
     "metadata": {},
     "output_type": "execute_result"
    }
   ],
   "source": [
    "# Eq es la función mayor o igual\n",
    "\n",
    "smp.Ge(x**2 + y**2, r**2)"
   ]
  },
  {
   "cell_type": "code",
   "execution_count": 216,
   "id": "e508f343-37a0-48b5-a0bb-3cb2990db5e6",
   "metadata": {
    "tags": []
   },
   "outputs": [
    {
     "data": {
      "text/latex": [
       "$\\displaystyle x^{2} + y^{2} > r^{2}$"
      ],
      "text/plain": [
       "x**2 + y**2 > r**2"
      ]
     },
     "execution_count": 216,
     "metadata": {},
     "output_type": "execute_result"
    }
   ],
   "source": [
    "# Eq es la función estrictamente mayor\n",
    "\n",
    "smp.Gt(x**2 + y**2, r**2)"
   ]
  },
  {
   "cell_type": "code",
   "execution_count": 218,
   "id": "8b664875-acec-4851-991d-203888826dfd",
   "metadata": {
    "tags": []
   },
   "outputs": [
    {
     "data": {
      "text/latex": [
       "$\\displaystyle x^{2} + y^{2} \\leq r^{2}$"
      ],
      "text/plain": [
       "x**2 + y**2 <= r**2"
      ]
     },
     "execution_count": 218,
     "metadata": {},
     "output_type": "execute_result"
    }
   ],
   "source": [
    "# Eq es la función menor o igual\n",
    "\n",
    "smp.Le(x**2 + y**2, r**2)"
   ]
  },
  {
   "cell_type": "code",
   "execution_count": 219,
   "id": "04d48993-a823-4bbc-9863-22c8224115a0",
   "metadata": {
    "tags": []
   },
   "outputs": [
    {
     "data": {
      "text/latex": [
       "$\\displaystyle x^{2} + y^{2} < r^{2}$"
      ],
      "text/plain": [
       "x**2 + y**2 < r**2"
      ]
     },
     "execution_count": 219,
     "metadata": {},
     "output_type": "execute_result"
    }
   ],
   "source": [
    "# Eq es la función estrictamente menor\n",
    "\n",
    "smp.Lt(x**2 + y**2, r**2)"
   ]
  },
  {
   "cell_type": "markdown",
   "id": "bc63a1a2-0428-4314-aeff-ccae89e17949",
   "metadata": {},
   "source": [
    "**Despejar o Resolver Ecuaciones**"
   ]
  },
  {
   "cell_type": "markdown",
   "id": "b0dd52ee-1470-4549-bf90-3903af6d02df",
   "metadata": {},
   "source": [
    "Ejemplo 1"
   ]
  },
  {
   "cell_type": "code",
   "execution_count": 220,
   "id": "41d270aa-e0e3-450f-bc33-3a5007dd9e42",
   "metadata": {
    "tags": []
   },
   "outputs": [
    {
     "data": {
      "text/latex": [
       "$\\displaystyle x^{2} + y^{2} = r^{2}$"
      ],
      "text/plain": [
       "Eq(x**2 + y**2, r**2)"
      ]
     },
     "execution_count": 220,
     "metadata": {},
     "output_type": "execute_result"
    }
   ],
   "source": [
    "Eq = smp.Eq(x**2 + y**2, r**2)\n",
    "Eq"
   ]
  },
  {
   "cell_type": "code",
   "execution_count": 222,
   "id": "6692302c-171c-47ae-8e17-04d22662dabe",
   "metadata": {
    "tags": []
   },
   "outputs": [
    {
     "data": {
      "text/plain": [
       "[-sqrt((r - y)*(r + y)), sqrt((r - y)*(r + y))]"
      ]
     },
     "execution_count": 222,
     "metadata": {},
     "output_type": "execute_result"
    }
   ],
   "source": [
    "sol = smp.solve(Eq, x)\n",
    "sol"
   ]
  },
  {
   "cell_type": "code",
   "execution_count": 223,
   "id": "3290981e-e566-454c-b09b-f3e22bf5a354",
   "metadata": {
    "tags": []
   },
   "outputs": [
    {
     "data": {
      "text/latex": [
       "$\\displaystyle - \\sqrt{\\left(r - y\\right) \\left(r + y\\right)}$"
      ],
      "text/plain": [
       "-sqrt((r - y)*(r + y))"
      ]
     },
     "execution_count": 223,
     "metadata": {},
     "output_type": "execute_result"
    }
   ],
   "source": [
    "sol[0]"
   ]
  },
  {
   "cell_type": "code",
   "execution_count": 224,
   "id": "a934ec27-9359-482c-8168-117be20ff650",
   "metadata": {
    "tags": []
   },
   "outputs": [
    {
     "data": {
      "text/latex": [
       "$\\displaystyle \\sqrt{\\left(r - y\\right) \\left(r + y\\right)}$"
      ],
      "text/plain": [
       "sqrt((r - y)*(r + y))"
      ]
     },
     "execution_count": 224,
     "metadata": {},
     "output_type": "execute_result"
    }
   ],
   "source": [
    "sol[1]"
   ]
  },
  {
   "cell_type": "code",
   "execution_count": 227,
   "id": "1723953a-d69d-4ca8-8e18-44e727cad5e7",
   "metadata": {
    "tags": []
   },
   "outputs": [
    {
     "data": {
      "text/latex": [
       "$\\displaystyle \\mathbb{R} \\cap \\left\\{- \\sqrt{r^{2} - y^{2}}, \\sqrt{r^{2} - y^{2}}\\right\\}$"
      ],
      "text/plain": [
       "Intersection({-sqrt(r**2 - y**2), sqrt(r**2 - y**2)}, Reals)"
      ]
     },
     "execution_count": 227,
     "metadata": {},
     "output_type": "execute_result"
    }
   ],
   "source": [
    "sol = smp.solveset(Eq, x, domain=smp.S.Reals)\n",
    "sol"
   ]
  },
  {
   "cell_type": "code",
   "execution_count": 234,
   "id": "0cdbb303-261e-4b85-bce5-52ab209112bb",
   "metadata": {
    "tags": []
   },
   "outputs": [
    {
     "data": {
      "text/latex": [
       "$\\displaystyle \\sqrt{r^{2} - y^{2}}$"
      ],
      "text/plain": [
       "sqrt(r**2 - y**2)"
      ]
     },
     "execution_count": 234,
     "metadata": {},
     "output_type": "execute_result"
    }
   ],
   "source": [
    "sol.args[1].args[0]"
   ]
  },
  {
   "cell_type": "code",
   "execution_count": 235,
   "id": "fdf6c435-553c-469c-a1be-4f6f1f62de37",
   "metadata": {
    "tags": []
   },
   "outputs": [
    {
     "data": {
      "text/latex": [
       "$\\displaystyle - \\sqrt{r^{2} - y^{2}}$"
      ],
      "text/plain": [
       "-sqrt(r**2 - y**2)"
      ]
     },
     "execution_count": 235,
     "metadata": {},
     "output_type": "execute_result"
    }
   ],
   "source": [
    "sol.args[1].args[1]"
   ]
  },
  {
   "cell_type": "markdown",
   "id": "74de1dd9-094c-4de7-b988-4357cd5a1186",
   "metadata": {},
   "source": [
    "Ejemplo 2"
   ]
  },
  {
   "cell_type": "code",
   "execution_count": 239,
   "id": "2ead5a81-7621-48ef-b3ae-0131c41b9078",
   "metadata": {
    "tags": []
   },
   "outputs": [
    {
     "data": {
      "text/latex": [
       "$\\displaystyle \\frac{\\sin{\\left(y \\right)}}{\\cos{\\left(x^{2} \\right)}}$"
      ],
      "text/plain": [
       "sin(y)/cos(x**2)"
      ]
     },
     "execution_count": 239,
     "metadata": {},
     "output_type": "execute_result"
    }
   ],
   "source": [
    "lhs = smp.sin(y)/smp.cos(x**2)\n",
    "lhs"
   ]
  },
  {
   "cell_type": "code",
   "execution_count": 240,
   "id": "c592821c-9996-41b5-aea7-6757eaad52cf",
   "metadata": {
    "tags": []
   },
   "outputs": [
    {
     "data": {
      "text/latex": [
       "$\\displaystyle \\cos{\\left(x^{2} \\right)} \\cosh{\\left(r \\right)}$"
      ],
      "text/plain": [
       "cos(x**2)*cosh(r)"
      ]
     },
     "execution_count": 240,
     "metadata": {},
     "output_type": "execute_result"
    }
   ],
   "source": [
    "rhs = smp.cos(x**2) * smp.cosh(r)\n",
    "rhs"
   ]
  },
  {
   "cell_type": "code",
   "execution_count": 242,
   "id": "d223f1cb-881b-488c-a90b-328890f32ef6",
   "metadata": {
    "tags": []
   },
   "outputs": [
    {
     "data": {
      "text/latex": [
       "$\\displaystyle \\frac{\\sin{\\left(y \\right)}}{\\cos{\\left(x^{2} \\right)}} = \\cos{\\left(x^{2} \\right)} \\cosh{\\left(r \\right)}$"
      ],
      "text/plain": [
       "Eq(sin(y)/cos(x**2), cos(x**2)*cosh(r))"
      ]
     },
     "execution_count": 242,
     "metadata": {},
     "output_type": "execute_result"
    }
   ],
   "source": [
    "Eq = smp.Eq(lhs, rhs)\n",
    "Eq"
   ]
  },
  {
   "cell_type": "code",
   "execution_count": 245,
   "id": "40c2b624-35c5-47af-8e82-13d34f7d26f6",
   "metadata": {
    "tags": []
   },
   "outputs": [
    {
     "data": {
      "text/plain": [
       "[-sqrt(sin(y))/sqrt(cosh(r)), sqrt(sin(y))/sqrt(cosh(r))]"
      ]
     },
     "execution_count": 245,
     "metadata": {},
     "output_type": "execute_result"
    }
   ],
   "source": [
    "sol = smp.solve(Eq, smp.cos(x**2))\n",
    "sol"
   ]
  },
  {
   "cell_type": "code",
   "execution_count": 246,
   "id": "b5bff153-38cc-4a48-8009-cdb70150bd43",
   "metadata": {
    "tags": []
   },
   "outputs": [
    {
     "data": {
      "text/latex": [
       "$\\displaystyle - \\frac{\\sqrt{\\sin{\\left(y \\right)}}}{\\sqrt{\\cosh{\\left(r \\right)}}}$"
      ],
      "text/plain": [
       "-sqrt(sin(y))/sqrt(cosh(r))"
      ]
     },
     "execution_count": 246,
     "metadata": {},
     "output_type": "execute_result"
    }
   ],
   "source": [
    "sol[0]"
   ]
  },
  {
   "cell_type": "code",
   "execution_count": 247,
   "id": "6e4b094f-b3ac-4464-931d-2324e7fbb63f",
   "metadata": {
    "tags": []
   },
   "outputs": [
    {
     "data": {
      "text/latex": [
       "$\\displaystyle \\frac{\\sqrt{\\sin{\\left(y \\right)}}}{\\sqrt{\\cosh{\\left(r \\right)}}}$"
      ],
      "text/plain": [
       "sqrt(sin(y))/sqrt(cosh(r))"
      ]
     },
     "execution_count": 247,
     "metadata": {},
     "output_type": "execute_result"
    }
   ],
   "source": [
    "sol[1]"
   ]
  },
  {
   "cell_type": "code",
   "execution_count": 248,
   "id": "74974d60-195d-48bf-b42a-71622ac00331",
   "metadata": {
    "tags": []
   },
   "outputs": [
    {
     "data": {
      "text/latex": [
       "$\\displaystyle \\frac{\\sin{\\left(y \\right)}}{\\cos{\\left(x^{2} \\right)}} = \\cos{\\left(x^{2} \\right)} \\cosh{\\left(r \\right)}$"
      ],
      "text/plain": [
       "Eq(sin(y)/cos(x**2), cos(x**2)*cosh(r))"
      ]
     },
     "execution_count": 248,
     "metadata": {},
     "output_type": "execute_result"
    }
   ],
   "source": [
    "Eq"
   ]
  },
  {
   "cell_type": "code",
   "execution_count": 253,
   "id": "f1374132-c170-4a0a-93e5-b441426b8d8b",
   "metadata": {
    "tags": []
   },
   "outputs": [
    {
     "data": {
      "text/plain": [
       "8"
      ]
     },
     "execution_count": 253,
     "metadata": {},
     "output_type": "execute_result"
    }
   ],
   "source": [
    "sol = smp.solve(Eq, x)\n",
    "len(sol)"
   ]
  },
  {
   "cell_type": "code",
   "execution_count": 254,
   "id": "a249454a-839a-4825-80dd-f322a8c1949a",
   "metadata": {
    "tags": []
   },
   "outputs": [
    {
     "data": {
      "text/latex": [
       "$\\displaystyle - \\sqrt{- \\operatorname{acos}{\\left(- \\frac{\\sqrt{\\sin{\\left(y \\right)}}}{\\sqrt{\\cosh{\\left(r \\right)}}} \\right)} + 2 \\pi}$"
      ],
      "text/plain": [
       "-sqrt(-acos(-sqrt(sin(y))/sqrt(cosh(r))) + 2*pi)"
      ]
     },
     "execution_count": 254,
     "metadata": {},
     "output_type": "execute_result"
    }
   ],
   "source": [
    "sol[0]"
   ]
  },
  {
   "cell_type": "code",
   "execution_count": 255,
   "id": "65895a35-90bd-46df-9e65-e912b778e6d6",
   "metadata": {
    "tags": []
   },
   "outputs": [
    {
     "data": {
      "text/latex": [
       "$\\displaystyle \\sqrt{\\operatorname{acos}{\\left(\\frac{\\sqrt{\\sin{\\left(y \\right)}}}{\\sqrt{\\cosh{\\left(r \\right)}}} \\right)}}$"
      ],
      "text/plain": [
       "sqrt(acos(sqrt(sin(y))/sqrt(cosh(r))))"
      ]
     },
     "execution_count": 255,
     "metadata": {},
     "output_type": "execute_result"
    }
   ],
   "source": [
    "sol[-1]"
   ]
  },
  {
   "cell_type": "code",
   "execution_count": 259,
   "id": "35b246bb-31a7-4307-84d4-3b07eb00d459",
   "metadata": {
    "tags": []
   },
   "outputs": [
    {
     "data": {
      "text/latex": [
       "$\\displaystyle a x^{2} + b x + c$"
      ],
      "text/plain": [
       "a*x**2 + b*x + c"
      ]
     },
     "execution_count": 259,
     "metadata": {},
     "output_type": "execute_result"
    }
   ],
   "source": [
    "eq  = a*x**2 + b*x + c\n",
    "eq"
   ]
  },
  {
   "cell_type": "code",
   "execution_count": 261,
   "id": "a9933116-5f42-401a-9c03-b285fcde6825",
   "metadata": {},
   "outputs": [
    {
     "data": {
      "text/latex": [
       "$\\displaystyle \\frac{- b - \\sqrt{- 4 a c + b^{2}}}{2 a}$"
      ],
      "text/plain": [
       "(-b - sqrt(-4*a*c + b**2))/(2*a)"
      ]
     },
     "execution_count": 261,
     "metadata": {},
     "output_type": "execute_result"
    }
   ],
   "source": [
    "sol = smp.solve(eq, x)\n",
    "sol[0]"
   ]
  },
  {
   "cell_type": "code",
   "execution_count": 262,
   "id": "6bbff38b-577b-4178-a6ee-059e133746bd",
   "metadata": {
    "tags": []
   },
   "outputs": [
    {
     "data": {
      "text/latex": [
       "$\\displaystyle \\frac{- b + \\sqrt{- 4 a c + b^{2}}}{2 a}$"
      ],
      "text/plain": [
       "(-b + sqrt(-4*a*c + b**2))/(2*a)"
      ]
     },
     "execution_count": 262,
     "metadata": {},
     "output_type": "execute_result"
    }
   ],
   "source": [
    "sol[1]"
   ]
  },
  {
   "cell_type": "code",
   "execution_count": 265,
   "id": "e2c32301-3466-4436-87c9-0c0ec85d22df",
   "metadata": {
    "tags": []
   },
   "outputs": [
    {
     "data": {
      "text/latex": [
       "$\\displaystyle \\left\\{- \\frac{b}{2 a} - \\frac{\\sqrt{- 4 a c + b^{2}}}{2 a}, - \\frac{b}{2 a} + \\frac{\\sqrt{- 4 a c + b^{2}}}{2 a}\\right\\}$"
      ],
      "text/plain": [
       "{-b/(2*a) - sqrt(-4*a*c + b**2)/(2*a), -b/(2*a) + sqrt(-4*a*c + b**2)/(2*a)}"
      ]
     },
     "execution_count": 265,
     "metadata": {},
     "output_type": "execute_result"
    }
   ],
   "source": [
    "smp.solveset(eq, x, domain=smp.S.Complexes)"
   ]
  },
  {
   "cell_type": "markdown",
   "id": "5a48403a-3ee5-4ee1-8e0d-6d2113f37320",
   "metadata": {},
   "source": [
    "**Resolver desigualdades**"
   ]
  },
  {
   "cell_type": "code",
   "execution_count": 327,
   "id": "af8ff962-34ec-4c02-af04-58ff9d66d90e",
   "metadata": {
    "tags": []
   },
   "outputs": [
    {
     "data": {
      "text/latex": [
       "$\\displaystyle x^{2} \\left|{x}\\right| - x$"
      ],
      "text/plain": [
       "x**2*Abs(x) - x"
      ]
     },
     "execution_count": 327,
     "metadata": {},
     "output_type": "execute_result"
    }
   ],
   "source": [
    "lhs = smp.Abs(x**3) - x\n",
    "lhs"
   ]
  },
  {
   "cell_type": "code",
   "execution_count": 328,
   "id": "5dff28c9-84f6-4d99-9455-060f6cd389a9",
   "metadata": {
    "tags": []
   },
   "outputs": [
    {
     "data": {
      "text/latex": [
       "$\\displaystyle x^{3}$"
      ],
      "text/plain": [
       "x**3"
      ]
     },
     "execution_count": 328,
     "metadata": {},
     "output_type": "execute_result"
    }
   ],
   "source": [
    "rhs = x**3\n",
    "rhs"
   ]
  },
  {
   "cell_type": "code",
   "execution_count": 329,
   "id": "906d0397-3c57-4c05-965e-edf7d6dd3701",
   "metadata": {
    "tags": []
   },
   "outputs": [
    {
     "data": {
      "text/latex": [
       "$\\displaystyle x^{2} \\left|{x}\\right| - x \\neq x^{3}$"
      ],
      "text/plain": [
       "Ne(x**2*Abs(x) - x, x**3)"
      ]
     },
     "execution_count": 329,
     "metadata": {},
     "output_type": "execute_result"
    }
   ],
   "source": [
    "ineq_1 = smp.Ne(lhs, rhs)\n",
    "ineq_1"
   ]
  },
  {
   "cell_type": "code",
   "execution_count": 330,
   "id": "c0b1a0f1-da13-4f09-b644-fcaafad1c991",
   "metadata": {
    "tags": []
   },
   "outputs": [
    {
     "data": {
      "text/latex": [
       "$\\displaystyle x \\neq 0$"
      ],
      "text/plain": [
       "Ne(x, 0)"
      ]
     },
     "execution_count": 330,
     "metadata": {},
     "output_type": "execute_result"
    }
   ],
   "source": [
    "smp.reduce_inequalities(ineq_1, x)"
   ]
  },
  {
   "cell_type": "code",
   "execution_count": 331,
   "id": "30e70cf7-6397-46ff-a7a0-3d693b76b6ad",
   "metadata": {
    "tags": []
   },
   "outputs": [
    {
     "data": {
      "text/latex": [
       "$\\displaystyle \\left(-\\infty, 0\\right) \\cup \\left(0, \\infty\\right)$"
      ],
      "text/plain": [
       "Union(Interval.open(-oo, 0), Interval.open(0, oo))"
      ]
     },
     "execution_count": 331,
     "metadata": {},
     "output_type": "execute_result"
    }
   ],
   "source": [
    "smp.solveset(ineq_1, x, domain=smp.S.Reals)"
   ]
  },
  {
   "cell_type": "code",
   "execution_count": 332,
   "id": "167639b2-ff48-471c-8eff-c9c281b0daf5",
   "metadata": {
    "tags": []
   },
   "outputs": [
    {
     "data": {
      "text/latex": [
       "$\\displaystyle x \\neq 0$"
      ],
      "text/plain": [
       "Ne(x, 0)"
      ]
     },
     "execution_count": 332,
     "metadata": {},
     "output_type": "execute_result"
    }
   ],
   "source": [
    "smp.solve(ineq_1, x)"
   ]
  },
  {
   "cell_type": "markdown",
   "id": "3dd96456-f2b3-4591-abb6-a26530e8d394",
   "metadata": {},
   "source": [
    "**Resolver Numericamente Ecuaciones con Sympy**"
   ]
  },
  {
   "cell_type": "code",
   "execution_count": 336,
   "id": "11441155-b3a8-45a5-a3dd-a90fe19fa1dd",
   "metadata": {
    "tags": []
   },
   "outputs": [
    {
     "data": {
      "text/latex": [
       "$\\displaystyle \\cos^{2}{\\left(x \\right)}$"
      ],
      "text/plain": [
       "cos(x)**2"
      ]
     },
     "execution_count": 336,
     "metadata": {},
     "output_type": "execute_result"
    }
   ],
   "source": [
    "lhs = smp.cos(x)**2\n",
    "lhs"
   ]
  },
  {
   "cell_type": "code",
   "execution_count": 337,
   "id": "ac2420cb-5765-4ef9-a735-a3372e8c041e",
   "metadata": {
    "tags": []
   },
   "outputs": [
    {
     "data": {
      "text/latex": [
       "$\\displaystyle e^{x}$"
      ],
      "text/plain": [
       "exp(x)"
      ]
     },
     "execution_count": 337,
     "metadata": {},
     "output_type": "execute_result"
    }
   ],
   "source": [
    "rhs = smp.exp(x)\n",
    "rhs"
   ]
  },
  {
   "cell_type": "code",
   "execution_count": 339,
   "id": "8fbceac8-3744-4af3-830c-c2d12978f018",
   "metadata": {
    "tags": []
   },
   "outputs": [
    {
     "data": {
      "text/latex": [
       "$\\displaystyle \\cos^{2}{\\left(x \\right)} = e^{x}$"
      ],
      "text/plain": [
       "Eq(cos(x)**2, exp(x))"
      ]
     },
     "execution_count": 339,
     "metadata": {},
     "output_type": "execute_result"
    }
   ],
   "source": [
    "eq = smp.Eq(lhs, rhs)\n",
    "eq"
   ]
  },
  {
   "cell_type": "code",
   "execution_count": 344,
   "id": "2c1f3c14-d13f-4e6d-bd25-5a4973c39042",
   "metadata": {
    "tags": []
   },
   "outputs": [
    {
     "data": {
      "text/latex": [
       "$\\displaystyle - e^{x} + \\cos^{2}{\\left(x \\right)}$"
      ],
      "text/plain": [
       "-exp(x) + cos(x)**2"
      ]
     },
     "execution_count": 344,
     "metadata": {},
     "output_type": "execute_result"
    }
   ],
   "source": [
    "eq_0 = eq.lhs - eq.rhs\n",
    "eq_0"
   ]
  },
  {
   "cell_type": "code",
   "execution_count": 350,
   "id": "520fe15d-218e-4628-903e-107d2bb7b2ea",
   "metadata": {
    "tags": []
   },
   "outputs": [],
   "source": [
    "eq_f = smp.lambdify(x, eq_0, 'numpy')"
   ]
  },
  {
   "cell_type": "code",
   "execution_count": 357,
   "id": "b3040af2-d248-4671-b246-558fed3e79a6",
   "metadata": {
    "tags": []
   },
   "outputs": [
    {
     "data": {
      "image/png": "[encoded data removed]",
      "text/plain": [
       "<Figure size 640x480 with 1 Axes>"
      ]
     },
     "metadata": {},
     "output_type": "display_data"
    }
   ],
   "source": [
    "xf = np.linspace(-6, 1, 100)\n",
    "y = eq_f(xf)\n",
    "\n",
    "plt.plot(xf, y)\n",
    "plt.grid()"
   ]
  },
  {
   "cell_type": "code",
   "execution_count": 383,
   "id": "1a004ed0-eb8d-444d-a6ee-6d57d3292481",
   "metadata": {
    "tags": []
   },
   "outputs": [
    {
     "data": {
      "text/latex": [
       "$\\displaystyle -4.80309114563531$"
      ],
      "text/plain": [
       "-4.80309114563531"
      ]
     },
     "execution_count": 383,
     "metadata": {},
     "output_type": "execute_result"
    }
   ],
   "source": [
    "nsol = smp.nsolve(eq, x, -5)\n",
    "nsol"
   ]
  },
  {
   "cell_type": "code",
   "execution_count": 384,
   "id": "a0632eb3-97d0-4b07-8d32-1ff541c809f1",
   "metadata": {
    "tags": []
   },
   "outputs": [
    {
     "data": {
      "text/latex": [
       "$\\displaystyle \\cos^{2}{\\left(x \\right)} = e^{x}$"
      ],
      "text/plain": [
       "Eq(cos(x)**2, exp(x))"
      ]
     },
     "execution_count": 384,
     "metadata": {},
     "output_type": "execute_result"
    }
   ],
   "source": [
    "eq"
   ]
  },
  {
   "cell_type": "code",
   "execution_count": 385,
   "id": "c9515c1e-97b2-4bfe-9a80-b5789b4626d5",
   "metadata": {
    "tags": []
   },
   "outputs": [
    {
     "data": {
      "text/latex": [
       "$\\displaystyle 0.00820434698023089$"
      ],
      "text/plain": [
       "0.00820434698023089"
      ]
     },
     "execution_count": 385,
     "metadata": {},
     "output_type": "execute_result"
    }
   ],
   "source": [
    "eq.lhs.subs(x, nsol)"
   ]
  },
  {
   "cell_type": "code",
   "execution_count": 386,
   "id": "6f562c2f-2bba-43c7-b38d-a9e97fbff789",
   "metadata": {
    "tags": []
   },
   "outputs": [
    {
     "data": {
      "text/latex": [
       "$\\displaystyle 0.00820434698023082$"
      ],
      "text/plain": [
       "0.00820434698023082"
      ]
     },
     "execution_count": 386,
     "metadata": {},
     "output_type": "execute_result"
    }
   ],
   "source": [
    "eq.rhs.subs(x, nsol)"
   ]
  },
  {
   "cell_type": "code",
   "execution_count": 387,
   "id": "09c601f5-9ddb-4987-acf7-6008ea7cb0a9",
   "metadata": {
    "tags": []
   },
   "outputs": [
    {
     "data": {
      "text/latex": [
       "$\\displaystyle 6.93889390390723 \\cdot 10^{-17}$"
      ],
      "text/plain": [
       "6.93889390390723e-17"
      ]
     },
     "execution_count": 387,
     "metadata": {},
     "output_type": "execute_result"
    }
   ],
   "source": [
    "eq.lhs.subs(x, nsol) - eq.rhs.subs(x, nsol)"
   ]
  },
  {
   "cell_type": "markdown",
   "id": "86c282d1-70d0-4792-ac09-af09c2316a1e",
   "metadata": {},
   "source": [
    "**Sumatorias y Productorios**"
   ]
  },
  {
   "cell_type": "code",
   "execution_count": 388,
   "id": "854a1299-8f0d-4548-baca-b544281c306c",
   "metadata": {
    "tags": []
   },
   "outputs": [
    {
     "data": {
      "text/latex": [
       "$\\displaystyle n$"
      ],
      "text/plain": [
       "n"
      ]
     },
     "execution_count": 388,
     "metadata": {},
     "output_type": "execute_result"
    }
   ],
   "source": [
    "i, n = smp.symbols('i n', real=True)\n",
    "n"
   ]
  },
  {
   "cell_type": "markdown",
   "id": "33853035-a3c2-4c9f-8eb2-dff0e441bd59",
   "metadata": {},
   "source": [
    "$$\\sum_{i=1}^{10} 10$$"
   ]
  },
  {
   "cell_type": "code",
   "execution_count": 390,
   "id": "3f8b25d9-b8dc-4c8d-a906-bb551af2c18b",
   "metadata": {
    "tags": []
   },
   "outputs": [
    {
     "data": {
      "text/latex": [
       "$\\displaystyle \\sum_{i=1}^{10} 10$"
      ],
      "text/plain": [
       "Sum(10, (i, 1, 10))"
      ]
     },
     "execution_count": 390,
     "metadata": {},
     "output_type": "execute_result"
    }
   ],
   "source": [
    "smp.Sum(10, (i, 1, 10))"
   ]
  },
  {
   "cell_type": "code",
   "execution_count": 391,
   "id": "f80f3ba9-8f09-4b89-9884-5a7ff50f0619",
   "metadata": {
    "tags": []
   },
   "outputs": [
    {
     "data": {
      "text/latex": [
       "$\\displaystyle 100$"
      ],
      "text/plain": [
       "100"
      ]
     },
     "execution_count": 391,
     "metadata": {},
     "output_type": "execute_result"
    }
   ],
   "source": [
    "smp.Sum(10, (i, 1, 10)).doit()"
   ]
  },
  {
   "cell_type": "markdown",
   "id": "3bfaa194-d202-4392-8974-e6318ba7928f",
   "metadata": {},
   "source": [
    "$$\\prod_{i=1}^{3} 10$$"
   ]
  },
  {
   "cell_type": "code",
   "execution_count": 393,
   "id": "826d88aa-a8dc-4774-bf0d-e31882a2c04e",
   "metadata": {
    "tags": []
   },
   "outputs": [
    {
     "data": {
      "text/latex": [
       "$\\displaystyle \\prod_{i=1}^{3} 10$"
      ],
      "text/plain": [
       "Product(10, (i, 1, 3))"
      ]
     },
     "execution_count": 393,
     "metadata": {},
     "output_type": "execute_result"
    }
   ],
   "source": [
    "smp.Product(10, (i, 1, 3))"
   ]
  },
  {
   "cell_type": "code",
   "execution_count": 394,
   "id": "3a9f54aa-faef-4e13-99a1-6d658955013c",
   "metadata": {
    "tags": []
   },
   "outputs": [
    {
     "data": {
      "text/latex": [
       "$\\displaystyle 1000$"
      ],
      "text/plain": [
       "1000"
      ]
     },
     "execution_count": 394,
     "metadata": {},
     "output_type": "execute_result"
    }
   ],
   "source": [
    "smp.Product(10, (i, 1, 3)).doit()"
   ]
  },
  {
   "cell_type": "markdown",
   "id": "c2de1054-be96-4e89-90da-3fe06c7ceda8",
   "metadata": {},
   "source": [
    "$$\\sum_{i=0}^{n} i$$"
   ]
  },
  {
   "cell_type": "code",
   "execution_count": 396,
   "id": "e622039a-5b12-4dbb-8e86-1a8195cf6d1a",
   "metadata": {
    "tags": []
   },
   "outputs": [
    {
     "data": {
      "text/latex": [
       "$\\displaystyle \\sum_{i=0}^{n} i$"
      ],
      "text/plain": [
       "Sum(i, (i, 0, n))"
      ]
     },
     "execution_count": 396,
     "metadata": {},
     "output_type": "execute_result"
    }
   ],
   "source": [
    "smp.Sum(i, (i, 0, n))"
   ]
  },
  {
   "cell_type": "code",
   "execution_count": 398,
   "id": "b9ca5456-d26a-44d4-a588-310bd07e10e1",
   "metadata": {
    "tags": []
   },
   "outputs": [
    {
     "data": {
      "text/latex": [
       "$\\displaystyle \\frac{n \\left(n + 1\\right)}{2}$"
      ],
      "text/plain": [
       "n*(n + 1)/2"
      ]
     },
     "execution_count": 398,
     "metadata": {},
     "output_type": "execute_result"
    }
   ],
   "source": [
    "smp.Sum(i, (i, 0, n)).doit().simplify()"
   ]
  },
  {
   "cell_type": "markdown",
   "id": "d3441c8a-930b-468e-a69f-955cf7bc9f0d",
   "metadata": {},
   "source": [
    "$$\\sum_{i=0}^{n} i^{2}$$"
   ]
  },
  {
   "cell_type": "code",
   "execution_count": 401,
   "id": "4a1d7fea-71df-4ba3-9dbf-89ca8215d931",
   "metadata": {
    "tags": []
   },
   "outputs": [
    {
     "data": {
      "text/latex": [
       "$\\displaystyle \\sum_{i=0}^{n} i^{2}$"
      ],
      "text/plain": [
       "Sum(i**2, (i, 0, n))"
      ]
     },
     "execution_count": 401,
     "metadata": {},
     "output_type": "execute_result"
    }
   ],
   "source": [
    "smp.Sum(i**2, (i, 0, n))"
   ]
  },
  {
   "cell_type": "code",
   "execution_count": 403,
   "id": "2e1bbeb1-f317-4170-9719-ac75dd179e10",
   "metadata": {
    "tags": []
   },
   "outputs": [
    {
     "data": {
      "text/latex": [
       "$\\displaystyle \\frac{n \\left(2 n^{2} + 3 n + 1\\right)}{6}$"
      ],
      "text/plain": [
       "n*(2*n**2 + 3*n + 1)/6"
      ]
     },
     "execution_count": 403,
     "metadata": {},
     "output_type": "execute_result"
    }
   ],
   "source": [
    "smp.Sum(i**2, (i, 0, n)).doit().simplify()"
   ]
  },
  {
   "cell_type": "markdown",
   "id": "634c64ba-099c-48ac-84e3-802c0d87abd5",
   "metadata": {},
   "source": [
    "$$\\prod_{i=1}^{n} i$$"
   ]
  },
  {
   "cell_type": "code",
   "execution_count": 405,
   "id": "c7d14653-2c6a-4125-8ff2-3104c3ed698a",
   "metadata": {
    "tags": []
   },
   "outputs": [
    {
     "data": {
      "text/latex": [
       "$\\displaystyle \\prod_{i=0}^{n} i$"
      ],
      "text/plain": [
       "Product(i, (i, 0, n))"
      ]
     },
     "execution_count": 405,
     "metadata": {},
     "output_type": "execute_result"
    }
   ],
   "source": [
    "smp.Product(i, (i, 0, n))"
   ]
  },
  {
   "cell_type": "code",
   "execution_count": 407,
   "id": "114bbe5e-8f3f-42cf-8fc3-7a04207f1e47",
   "metadata": {
    "tags": []
   },
   "outputs": [
    {
     "data": {
      "text/latex": [
       "$\\displaystyle n!$"
      ],
      "text/plain": [
       "factorial(n)"
      ]
     },
     "execution_count": 407,
     "metadata": {},
     "output_type": "execute_result"
    }
   ],
   "source": [
    "smp.Product(i, (i, 1, n)).doit()"
   ]
  },
  {
   "cell_type": "markdown",
   "id": "0e6dc546-7234-49cb-bd0b-e6090c3e0363",
   "metadata": {},
   "source": [
    "$$\\prod_{i=1}^{n} i^{2}$$"
   ]
  },
  {
   "cell_type": "code",
   "execution_count": 408,
   "id": "893bae7d-73b1-4d51-9a1a-23d6c6df4d5a",
   "metadata": {
    "tags": []
   },
   "outputs": [
    {
     "data": {
      "text/latex": [
       "$\\displaystyle \\prod_{i=0}^{n} i^{2}$"
      ],
      "text/plain": [
       "Product(i**2, (i, 0, n))"
      ]
     },
     "execution_count": 408,
     "metadata": {},
     "output_type": "execute_result"
    }
   ],
   "source": [
    "smp.Product(i**2, (i, 0, n))"
   ]
  },
  {
   "cell_type": "code",
   "execution_count": 409,
   "id": "d3f4bd93-1eb8-4ce3-9111-08c0aab84bbf",
   "metadata": {
    "tags": []
   },
   "outputs": [
    {
     "data": {
      "text/latex": [
       "$\\displaystyle n!^{2}$"
      ],
      "text/plain": [
       "factorial(n)**2"
      ]
     },
     "execution_count": 409,
     "metadata": {},
     "output_type": "execute_result"
    }
   ],
   "source": [
    "smp.Product(i**2, (i, 1, n)).doit()"
   ]
  },
  {
   "cell_type": "markdown",
   "id": "9c85c1c4-3836-4d79-9dd6-eb05cdaac5ce",
   "metadata": {},
   "source": [
    "Vamos a calcular $\\pi$ con la siguiente fórmula: <br> <br>\n",
    "\n",
    "$$\\pi = 4\\sum_{n=0}^{\\infty} (\\frac{1}{4n+1} - \\frac{1}{4n+3})$$"
   ]
  },
  {
   "cell_type": "code",
   "execution_count": 412,
   "id": "37fb367f-9702-4d7b-8498-d6c6d31a3a85",
   "metadata": {
    "tags": []
   },
   "outputs": [
    {
     "data": {
      "text/latex": [
       "$\\displaystyle - \\frac{1}{4 n + 3} + \\frac{1}{4 n + 1}$"
      ],
      "text/plain": [
       "-1/(4*n + 3) + 1/(4*n + 1)"
      ]
     },
     "execution_count": 412,
     "metadata": {},
     "output_type": "execute_result"
    }
   ],
   "source": [
    "to_sum = 1/(4*n + 1) - 1/(4*n + 3)\n",
    "to_sum"
   ]
  },
  {
   "cell_type": "code",
   "execution_count": 415,
   "id": "d6bd64ee-ed1e-43df-be96-d528d51cafb1",
   "metadata": {
    "tags": []
   },
   "outputs": [
    {
     "data": {
      "text/latex": [
       "$\\displaystyle 4 \\sum_{n=0}^{\\infty} \\left(- \\frac{1}{4 n + 3} + \\frac{1}{4 n + 1}\\right)$"
      ],
      "text/plain": [
       "4*Sum(-1/(4*n + 3) + 1/(4*n + 1), (n, 0, oo))"
      ]
     },
     "execution_count": 415,
     "metadata": {},
     "output_type": "execute_result"
    }
   ],
   "source": [
    "summation = 4*smp.Sum(to_sum, (n, 0, smp.oo))\n",
    "summation"
   ]
  },
  {
   "cell_type": "markdown",
   "id": "e48b31d4-3e4a-4912-a3be-e9a1bd591f78",
   "metadata": {},
   "source": [
    "A la hora de evaluar tenemos que ayudar a sympy, para esto vamos a hacer un poco de trabajo \"manual\", para esto evaluaremos las expresiones complejas"
   ]
  },
  {
   "cell_type": "code",
   "execution_count": 418,
   "id": "b2f7f062-6af0-4bfa-a43a-19ff11b59182",
   "metadata": {},
   "outputs": [
    {
     "data": {
      "text/latex": [
       "$\\displaystyle 2 i \\left(- \\log{\\left(1 - e^{\\frac{3 i \\pi}{2}} \\right)} + \\log{\\left(1 - e^{\\frac{i \\pi}{2}} \\right)}\\right)$"
      ],
      "text/plain": [
       "2*I*(-log(1 - exp_polar(3*I*pi/2)) + log(1 - exp_polar(I*pi/2)))"
      ]
     },
     "execution_count": 418,
     "metadata": {},
     "output_type": "execute_result"
    }
   ],
   "source": [
    "result = summation.doit().simplify(force=True)\n",
    "result"
   ]
  },
  {
   "cell_type": "code",
   "execution_count": 426,
   "id": "eae1af1b-ca08-4ce8-bd5d-9304a16fcd62",
   "metadata": {
    "tags": []
   },
   "outputs": [
    {
     "data": {
      "text/latex": [
       "$\\displaystyle 1 + i$"
      ],
      "text/plain": [
       "1 + I"
      ]
     },
     "execution_count": 426,
     "metadata": {},
     "output_type": "execute_result"
    }
   ],
   "source": [
    "arg1 = 1 - smp.exp(3*smp.I*smp.pi/2)\n",
    "arg1"
   ]
  },
  {
   "cell_type": "code",
   "execution_count": 427,
   "id": "c345e3c1-d020-4fea-8be9-de69ae86b166",
   "metadata": {
    "tags": []
   },
   "outputs": [
    {
     "data": {
      "text/latex": [
       "$\\displaystyle - 2 i \\left(\\log{\\left(\\sqrt{2} \\right)} + \\frac{i \\pi}{4}\\right)$"
      ],
      "text/plain": [
       "-2*I*(log(sqrt(2)) + I*pi/4)"
      ]
     },
     "execution_count": 427,
     "metadata": {},
     "output_type": "execute_result"
    }
   ],
   "source": [
    "arg1 = -2*smp.I*smp.log(arg1)\n",
    "arg1"
   ]
  },
  {
   "cell_type": "code",
   "execution_count": 428,
   "id": "2f89041b-81a2-4466-a9ab-f934ea980a1d",
   "metadata": {
    "tags": []
   },
   "outputs": [
    {
     "data": {
      "text/latex": [
       "$\\displaystyle \\frac{\\pi}{2} - i \\log{\\left(2 \\right)}$"
      ],
      "text/plain": [
       "pi/2 - I*log(2)"
      ]
     },
     "execution_count": 428,
     "metadata": {},
     "output_type": "execute_result"
    }
   ],
   "source": [
    "arg1 = arg1.simplify(force=True)\n",
    "arg1"
   ]
  },
  {
   "cell_type": "code",
   "execution_count": 429,
   "id": "171ee3fa-2ed8-4cd2-ba77-f173971b6071",
   "metadata": {
    "tags": []
   },
   "outputs": [
    {
     "data": {
      "text/latex": [
       "$\\displaystyle 2 i \\left(- \\log{\\left(1 - e^{\\frac{3 i \\pi}{2}} \\right)} + \\log{\\left(1 - e^{\\frac{i \\pi}{2}} \\right)}\\right)$"
      ],
      "text/plain": [
       "2*I*(-log(1 - exp_polar(3*I*pi/2)) + log(1 - exp_polar(I*pi/2)))"
      ]
     },
     "execution_count": 429,
     "metadata": {},
     "output_type": "execute_result"
    }
   ],
   "source": [
    "result"
   ]
  },
  {
   "cell_type": "code",
   "execution_count": 432,
   "id": "c34b447c-8a3a-4e52-bb4e-1ef3574fbfb1",
   "metadata": {
    "tags": []
   },
   "outputs": [
    {
     "data": {
      "text/latex": [
       "$\\displaystyle 1 - i$"
      ],
      "text/plain": [
       "1 - I"
      ]
     },
     "execution_count": 432,
     "metadata": {},
     "output_type": "execute_result"
    }
   ],
   "source": [
    "arg2 = 1 - smp.exp(smp.I*smp.pi/2)\n",
    "arg2"
   ]
  },
  {
   "cell_type": "code",
   "execution_count": 434,
   "id": "6921b849-0684-4b02-881b-fc3c666a8265",
   "metadata": {
    "tags": []
   },
   "outputs": [
    {
     "data": {
      "text/latex": [
       "$\\displaystyle 2 i \\left(\\log{\\left(\\sqrt{2} \\right)} - \\frac{i \\pi}{4}\\right)$"
      ],
      "text/plain": [
       "2*I*(log(sqrt(2)) - I*pi/4)"
      ]
     },
     "execution_count": 434,
     "metadata": {},
     "output_type": "execute_result"
    }
   ],
   "source": [
    "arg2 = 2*smp.I*smp.log(arg2)\n",
    "arg2"
   ]
  },
  {
   "cell_type": "code",
   "execution_count": 435,
   "id": "2c691a66-8e6f-4e0a-86a5-d7ca6318afcc",
   "metadata": {
    "tags": []
   },
   "outputs": [
    {
     "data": {
      "text/latex": [
       "$\\displaystyle \\frac{\\pi}{2} + i \\log{\\left(2 \\right)}$"
      ],
      "text/plain": [
       "pi/2 + I*log(2)"
      ]
     },
     "execution_count": 435,
     "metadata": {},
     "output_type": "execute_result"
    }
   ],
   "source": [
    "arg2 = arg2.simplify(force=True)\n",
    "arg2"
   ]
  },
  {
   "cell_type": "code",
   "execution_count": 436,
   "id": "2a3ec55c-0f6a-4d6f-80a4-c54cc0cbf080",
   "metadata": {
    "tags": []
   },
   "outputs": [
    {
     "data": {
      "text/latex": [
       "$\\displaystyle 2 i \\left(- \\log{\\left(1 - e^{\\frac{3 i \\pi}{2}} \\right)} + \\log{\\left(1 - e^{\\frac{i \\pi}{2}} \\right)}\\right)$"
      ],
      "text/plain": [
       "2*I*(-log(1 - exp_polar(3*I*pi/2)) + log(1 - exp_polar(I*pi/2)))"
      ]
     },
     "execution_count": 436,
     "metadata": {},
     "output_type": "execute_result"
    }
   ],
   "source": [
    "result"
   ]
  },
  {
   "cell_type": "code",
   "execution_count": 437,
   "id": "a1c402c4-1f8d-4f4c-b00e-a1f23ec0eb53",
   "metadata": {
    "tags": []
   },
   "outputs": [
    {
     "data": {
      "text/latex": [
       "$\\displaystyle \\pi$"
      ],
      "text/plain": [
       "pi"
      ]
     },
     "execution_count": 437,
     "metadata": {},
     "output_type": "execute_result"
    }
   ],
   "source": [
    "pi = arg1 + arg2\n",
    "pi"
   ]
  },
  {
   "cell_type": "markdown",
   "id": "fda6de67-eb32-47a1-8961-52f940454d17",
   "metadata": {},
   "source": [
    "Vamos a calcular $\\pi$ con la siguiente fórmula: <br> <br>\n",
    "\n",
    "$$\\pi = 2\\prod_{n=1}^{\\infty} \\frac{4n^{2}}{4n^{2}-1}$$"
   ]
  },
  {
   "cell_type": "code",
   "execution_count": 440,
   "id": "2221ab46-0b91-4afd-8857-ecc207b95f90",
   "metadata": {
    "tags": []
   },
   "outputs": [
    {
     "data": {
      "text/latex": [
       "$\\displaystyle \\frac{4 i^{2}}{4 i^{2} - 1}$"
      ],
      "text/plain": [
       "4*i**2/(4*i**2 - 1)"
      ]
     },
     "execution_count": 440,
     "metadata": {},
     "output_type": "execute_result"
    }
   ],
   "source": [
    "to_mult = (4*i**2) / (4*i**2 - 1)\n",
    "to_mult"
   ]
  },
  {
   "cell_type": "markdown",
   "id": "d07e7f92-a1ab-4d41-b3d4-eddffbd4c901",
   "metadata": {},
   "source": [
    "Si ponemos límite en la función producto este no se va a evaluar, lo mejor es tomar el límite después de evaluar el producto de 1 a $n$"
   ]
  },
  {
   "cell_type": "code",
   "execution_count": 446,
   "id": "f1a5ea15-0067-4474-8032-bcb831932485",
   "metadata": {
    "tags": []
   },
   "outputs": [
    {
     "data": {
      "text/latex": [
       "$\\displaystyle 2 \\prod_{i=1}^{n} \\frac{4 i^{2}}{4 i^{2} - 1}$"
      ],
      "text/plain": [
       "2*Product(4*i**2/(4*i**2 - 1), (i, 1, n))"
      ]
     },
     "execution_count": 446,
     "metadata": {},
     "output_type": "execute_result"
    }
   ],
   "source": [
    "multiplication = 2*smp.Product(to_mult, (i, 1, n))\n",
    "multiplication"
   ]
  },
  {
   "cell_type": "code",
   "execution_count": 448,
   "id": "d50a9a5a-60ee-426f-beb4-d501a76802d6",
   "metadata": {
    "tags": []
   },
   "outputs": [
    {
     "data": {
      "text/latex": [
       "$\\displaystyle \\frac{2 n!^{2}}{{\\left(\\frac{1}{2}\\right)}^{\\left(n\\right)} {\\left(\\frac{3}{2}\\right)}^{\\left(n\\right)}}$"
      ],
      "text/plain": [
       "2*factorial(n)**2/(RisingFactorial(1/2, n)*RisingFactorial(3/2, n))"
      ]
     },
     "execution_count": 448,
     "metadata": {},
     "output_type": "execute_result"
    }
   ],
   "source": [
    "result = multiplication.doit()\n",
    "result"
   ]
  },
  {
   "cell_type": "code",
   "execution_count": 449,
   "id": "9e711a81-a019-451c-983e-667591004086",
   "metadata": {
    "tags": []
   },
   "outputs": [
    {
     "data": {
      "text/latex": [
       "$\\displaystyle \\lim_{n \\to \\infty}\\left(\\frac{2 n!^{2}}{{\\left(\\frac{1}{2}\\right)}^{\\left(n\\right)} {\\left(\\frac{3}{2}\\right)}^{\\left(n\\right)}}\\right)$"
      ],
      "text/plain": [
       "Limit(2*factorial(n)**2/(RisingFactorial(1/2, n)*RisingFactorial(3/2, n)), n, oo, dir='-')"
      ]
     },
     "execution_count": 449,
     "metadata": {},
     "output_type": "execute_result"
    }
   ],
   "source": [
    "smp.Limit(result, n, smp.oo)"
   ]
  },
  {
   "cell_type": "code",
   "execution_count": 450,
   "id": "eefb2e8a-6659-48aa-80c6-3bfa88c078e0",
   "metadata": {
    "tags": []
   },
   "outputs": [
    {
     "data": {
      "text/latex": [
       "$\\displaystyle \\pi$"
      ],
      "text/plain": [
       "pi"
      ]
     },
     "execution_count": 450,
     "metadata": {},
     "output_type": "execute_result"
    }
   ],
   "source": [
    "smp.Limit(result, n, smp.oo).doit()"
   ]
  },
  {
   "cell_type": "markdown",
   "id": "fb92e98c-d43b-4db4-bc53-7618e11cc6ab",
   "metadata": {},
   "source": [
    "$$\\sum_{n=0}^{\\infty} x^{n}$$"
   ]
  },
  {
   "cell_type": "code",
   "execution_count": 453,
   "id": "d377e099-e3f0-4f8e-82cb-2ac8fe3c0c86",
   "metadata": {
    "tags": []
   },
   "outputs": [
    {
     "data": {
      "text/latex": [
       "$\\displaystyle \\sum_{n=0}^{\\infty} x^{n}$"
      ],
      "text/plain": [
       "Sum(x**n, (n, 0, oo))"
      ]
     },
     "execution_count": 453,
     "metadata": {},
     "output_type": "execute_result"
    }
   ],
   "source": [
    "smp.Sum(x**n, (n, 0, smp.oo))"
   ]
  },
  {
   "cell_type": "code",
   "execution_count": 455,
   "id": "784b5b87-161f-416a-83f2-f0145ac44177",
   "metadata": {
    "tags": []
   },
   "outputs": [
    {
     "data": {
      "text/latex": [
       "$\\displaystyle \\begin{cases} \\frac{1}{1 - x} & \\text{for}\\: \\left|{x}\\right| < 1 \\\\\\sum_{n=0}^{\\infty} x^{n} & \\text{otherwise} \\end{cases}$"
      ],
      "text/plain": [
       "Piecewise((1/(1 - x), Abs(x) < 1), (Sum(x**n, (n, 0, oo)), True))"
      ]
     },
     "execution_count": 455,
     "metadata": {},
     "output_type": "execute_result"
    }
   ],
   "source": [
    "smp.Sum(x**n, (n, 0, smp.oo)).doit()"
   ]
  },
  {
   "cell_type": "markdown",
   "id": "737959f1-2a21-48b7-ae44-37ea1af5f079",
   "metadata": {},
   "source": [
    "**Simplificación y substitución**"
   ]
  },
  {
   "cell_type": "code",
   "execution_count": 456,
   "id": "f28f3304-bc1f-46e6-9ed1-2dbe2e792c0a",
   "metadata": {
    "tags": []
   },
   "outputs": [],
   "source": [
    "x, y, z = smp.symbols('x y z')"
   ]
  },
  {
   "cell_type": "markdown",
   "id": "764a5cda-796c-4c77-9045-db8eef91b166",
   "metadata": {},
   "source": [
    "**expresion.subs(valor a sustituir, nuevo valor)**, función para sustituir valores <br> <br>\n",
    "**expresion1.subs([\n",
    "    [valor1 a sustituir, nuevo valor1],\n",
    "    [valor2 a sustituir, nuevo valor2],\n",
    "    ...\n",
    "])** <br> <br>\n",
    "\n",
    "**Nota:** También sirve para funciones"
   ]
  },
  {
   "cell_type": "code",
   "execution_count": 457,
   "id": "45d5b144-2aa8-40c4-b4a3-4414512c2852",
   "metadata": {
    "tags": []
   },
   "outputs": [
    {
     "data": {
      "text/latex": [
       "$\\displaystyle x^{2} + 5$"
      ],
      "text/plain": [
       "x**2 + 5"
      ]
     },
     "execution_count": 457,
     "metadata": {},
     "output_type": "execute_result"
    }
   ],
   "source": [
    "expr = x**2 + 5\n",
    "expr"
   ]
  },
  {
   "cell_type": "code",
   "execution_count": 458,
   "id": "4223b5a7-fc3b-4c0d-8e81-0f62557d177d",
   "metadata": {
    "tags": []
   },
   "outputs": [
    {
     "data": {
      "text/latex": [
       "$\\displaystyle y^{2} + 5$"
      ],
      "text/plain": [
       "y**2 + 5"
      ]
     },
     "execution_count": 458,
     "metadata": {},
     "output_type": "execute_result"
    }
   ],
   "source": [
    "expr.subs(x, y)"
   ]
  },
  {
   "cell_type": "code",
   "execution_count": 459,
   "id": "51c80e16-3afd-4885-bbd8-ec599d1fe417",
   "metadata": {
    "tags": []
   },
   "outputs": [
    {
     "data": {
      "text/latex": [
       "$\\displaystyle \\left(z + 5\\right)^{4} + 5$"
      ],
      "text/plain": [
       "(z + 5)**4 + 5"
      ]
     },
     "execution_count": 459,
     "metadata": {},
     "output_type": "execute_result"
    }
   ],
   "source": [
    "expr.subs(x, (5+z)**2)"
   ]
  },
  {
   "cell_type": "code",
   "execution_count": 461,
   "id": "581f00d2-9f59-4ae1-802e-62f7bcc4bc54",
   "metadata": {
    "tags": []
   },
   "outputs": [
    {
     "data": {
      "text/latex": [
       "$\\displaystyle x^{2} + x y - z + 7$"
      ],
      "text/plain": [
       "x**2 + x*y - z + 7"
      ]
     },
     "execution_count": 461,
     "metadata": {},
     "output_type": "execute_result"
    }
   ],
   "source": [
    "expr = x**2 + x*y - z + 7\n",
    "expr"
   ]
  },
  {
   "cell_type": "code",
   "execution_count": 463,
   "id": "0193ac48-894c-4041-82b5-3e7719ee761b",
   "metadata": {
    "tags": []
   },
   "outputs": [
    {
     "data": {
      "text/latex": [
       "$\\displaystyle 32 - z$"
      ],
      "text/plain": [
       "32 - z"
      ]
     },
     "execution_count": 463,
     "metadata": {},
     "output_type": "execute_result"
    }
   ],
   "source": [
    "expr.subs([\n",
    "    [x, 5],\n",
    "    [y, 0]\n",
    "])"
   ]
  },
  {
   "cell_type": "code",
   "execution_count": 464,
   "id": "3bafa849-94a1-466a-bbb3-2fe75c035065",
   "metadata": {
    "tags": []
   },
   "outputs": [
    {
     "data": {
      "text/latex": [
       "$\\displaystyle y^{4} + y^{3} - z + 7$"
      ],
      "text/plain": [
       "y**4 + y**3 - z + 7"
      ]
     },
     "execution_count": 464,
     "metadata": {},
     "output_type": "execute_result"
    }
   ],
   "source": [
    "expr.subs([\n",
    "    [x, y**2],\n",
    "])"
   ]
  },
  {
   "cell_type": "code",
   "execution_count": 465,
   "id": "95e1bea1-f056-441d-829e-020ebe7f8229",
   "metadata": {
    "tags": []
   },
   "outputs": [
    {
     "data": {
      "text/latex": [
       "$\\displaystyle 7 - z$"
      ],
      "text/plain": [
       "7 - z"
      ]
     },
     "execution_count": 465,
     "metadata": {},
     "output_type": "execute_result"
    }
   ],
   "source": [
    "expr.subs([\n",
    "    [x, y**2],\n",
    "    [y, 0]\n",
    "])"
   ]
  },
  {
   "cell_type": "code",
   "execution_count": 466,
   "id": "68dcebd5-951b-4a15-99c2-7ec8e4879a7e",
   "metadata": {
    "tags": []
   },
   "outputs": [
    {
     "data": {
      "text/latex": [
       "$\\displaystyle y^{4} - z + 7$"
      ],
      "text/plain": [
       "y**4 - z + 7"
      ]
     },
     "execution_count": 466,
     "metadata": {},
     "output_type": "execute_result"
    }
   ],
   "source": [
    "expr.subs([\n",
    "    [y, 0],\n",
    "    [x, y**2]\n",
    "])"
   ]
  },
  {
   "cell_type": "code",
   "execution_count": 470,
   "id": "281dc1f9-167e-4e24-be94-8302fba9913f",
   "metadata": {
    "tags": []
   },
   "outputs": [
    {
     "data": {
      "text/latex": [
       "$\\displaystyle y \\left(\\left(y + 1\\right)^{12} - 5\\right) - \\left(y + 1\\right)^{4} + \\left(\\left(y + 1\\right)^{12} - 5\\right)^{2} + 7$"
      ],
      "text/plain": [
       "y*((y + 1)**12 - 5) - (y + 1)**4 + ((y + 1)**12 - 5)**2 + 7"
      ]
     },
     "execution_count": 470,
     "metadata": {},
     "output_type": "execute_result"
    }
   ],
   "source": [
    "expr.subs([\n",
    "    [x, z**3 - 5],\n",
    "    [z, (1 + y)**4]\n",
    "])"
   ]
  },
  {
   "cell_type": "code",
   "execution_count": 475,
   "id": "04141d3c-5906-49a2-b3b2-4e75b2d900ae",
   "metadata": {
    "tags": []
   },
   "outputs": [
    {
     "data": {
      "text/latex": [
       "$\\displaystyle 8.8151917462697$"
      ],
      "text/plain": [
       "8.81519174626970"
      ]
     },
     "execution_count": 475,
     "metadata": {},
     "output_type": "execute_result"
    }
   ],
   "source": [
    "expr.subs([\n",
    "    [x, z**3 - 5],\n",
    "    [z, (1 + y)**4],\n",
    "    [y, 1/10]\n",
    "])"
   ]
  },
  {
   "cell_type": "markdown",
   "id": "80cedbac-aff2-4f91-bd5e-e8bf699dab44",
   "metadata": {},
   "source": [
    "Simplificación General"
   ]
  },
  {
   "cell_type": "markdown",
   "id": "37eda1c0-2bf3-4575-8921-e57565fece7e",
   "metadata": {},
   "source": [
    "**simplify()**, realiza múltiples operaciones para simplificar expresiones"
   ]
  },
  {
   "cell_type": "markdown",
   "id": "9ce18ba7-e977-4c62-a151-541f86f0daab",
   "metadata": {},
   "source": [
    "Se utiliza sobre una expresión ya definida: <br>\n",
    "**expresion_1.simplify(force=True)** <br>\n",
    "o se manda a llamar la función <br>\n",
    "**smp.simplify(expresion_1, force=True)**"
   ]
  },
  {
   "cell_type": "markdown",
   "id": "7dfdfbff-dba6-4d3e-b001-64cce884e12d",
   "metadata": {},
   "source": [
    "Polinomios"
   ]
  },
  {
   "cell_type": "code",
   "execution_count": 476,
   "id": "a60caa52-6d05-4fda-97d4-d17c023588f4",
   "metadata": {
    "tags": []
   },
   "outputs": [
    {
     "data": {
      "text/latex": [
       "$\\displaystyle \\left(x + 1\\right)^{3}$"
      ],
      "text/plain": [
       "(x + 1)**3"
      ]
     },
     "execution_count": 476,
     "metadata": {},
     "output_type": "execute_result"
    }
   ],
   "source": [
    "poly_1 = (x + 1)**3\n",
    "poly_1"
   ]
  },
  {
   "cell_type": "markdown",
   "id": "17a8dc67-2b95-415a-ae5f-abaab30c221c",
   "metadata": {},
   "source": [
    "**expand()**, expande polinomios, funciona con otras funciones"
   ]
  },
  {
   "cell_type": "code",
   "execution_count": 477,
   "id": "ec6ab9ac-b470-4b19-8efb-1d0517350488",
   "metadata": {
    "tags": []
   },
   "outputs": [
    {
     "data": {
      "text/latex": [
       "$\\displaystyle x^{3} + 3 x^{2} + 3 x + 1$"
      ],
      "text/plain": [
       "x**3 + 3*x**2 + 3*x + 1"
      ]
     },
     "execution_count": 477,
     "metadata": {},
     "output_type": "execute_result"
    }
   ],
   "source": [
    "poly_1.expand()"
   ]
  },
  {
   "cell_type": "code",
   "execution_count": 478,
   "id": "e3630c65-af36-4a95-a7ab-3b1b1c88f68b",
   "metadata": {
    "tags": []
   },
   "outputs": [
    {
     "data": {
      "text/latex": [
       "$\\displaystyle x^{3} + 3 x^{2} + 3 x + 1$"
      ],
      "text/plain": [
       "x**3 + 3*x**2 + 3*x + 1"
      ]
     },
     "execution_count": 478,
     "metadata": {},
     "output_type": "execute_result"
    }
   ],
   "source": [
    "poly_2 = smp.expand(poly_1)\n",
    "poly_2"
   ]
  },
  {
   "cell_type": "markdown",
   "id": "32fc3b41-3ef9-4ba7-ac61-c73f1afce12f",
   "metadata": {},
   "source": [
    "**factor()**, reduce polinomios a factores irreducibles"
   ]
  },
  {
   "cell_type": "code",
   "execution_count": 479,
   "id": "0b302611-47bf-4ef1-bbfe-8cd0d58782ca",
   "metadata": {
    "tags": []
   },
   "outputs": [
    {
     "data": {
      "text/latex": [
       "$\\displaystyle \\left(x + 1\\right)^{3}$"
      ],
      "text/plain": [
       "(x + 1)**3"
      ]
     },
     "execution_count": 479,
     "metadata": {},
     "output_type": "execute_result"
    }
   ],
   "source": [
    "poly_2.factor()"
   ]
  },
  {
   "cell_type": "code",
   "execution_count": 481,
   "id": "6e8fff3a-ac1e-4426-ae15-3c1cda82def0",
   "metadata": {
    "tags": []
   },
   "outputs": [
    {
     "data": {
      "text/latex": [
       "$\\displaystyle \\left(x + 1\\right)^{3}$"
      ],
      "text/plain": [
       "(x + 1)**3"
      ]
     },
     "execution_count": 481,
     "metadata": {},
     "output_type": "execute_result"
    }
   ],
   "source": [
    "smp.factor(poly_2)"
   ]
  },
  {
   "cell_type": "markdown",
   "id": "195ae056-24f3-4f73-9130-c9c078751839",
   "metadata": {},
   "source": [
    "**collect()**, agrupa potencias de una variable"
   ]
  },
  {
   "cell_type": "code",
   "execution_count": 483,
   "id": "34de803b-2c1f-4300-869d-f401e55bf9c8",
   "metadata": {
    "tags": []
   },
   "outputs": [
    {
     "data": {
      "text/latex": [
       "$\\displaystyle x^{3} - x^{2} y + 2 x^{2} + x y - x$"
      ],
      "text/plain": [
       "x**3 - x**2*y + 2*x**2 + x*y - x"
      ]
     },
     "execution_count": 483,
     "metadata": {},
     "output_type": "execute_result"
    }
   ],
   "source": [
    "poly_3 = x*y - x + 2*x**2 - y*x**2 + x**3\n",
    "poly_3"
   ]
  },
  {
   "cell_type": "code",
   "execution_count": 484,
   "id": "8ed4f0b7-1016-4ba3-9f9f-d0fdb3aa3572",
   "metadata": {
    "tags": []
   },
   "outputs": [
    {
     "data": {
      "text/latex": [
       "$\\displaystyle x^{3} + x^{2} \\cdot \\left(2 - y\\right) + x \\left(y - 1\\right)$"
      ],
      "text/plain": [
       "x**3 + x**2*(2 - y) + x*(y - 1)"
      ]
     },
     "execution_count": 484,
     "metadata": {},
     "output_type": "execute_result"
    }
   ],
   "source": [
    "poly_3.collect(x)"
   ]
  },
  {
   "cell_type": "code",
   "execution_count": 485,
   "id": "a680b27a-9f4f-45cf-bebc-a7c3d661face",
   "metadata": {
    "tags": []
   },
   "outputs": [
    {
     "data": {
      "text/latex": [
       "$\\displaystyle x^{3} + x^{2} \\cdot \\left(2 - y\\right) + x \\left(y - 1\\right)$"
      ],
      "text/plain": [
       "x**3 + x**2*(2 - y) + x*(y - 1)"
      ]
     },
     "execution_count": 485,
     "metadata": {},
     "output_type": "execute_result"
    }
   ],
   "source": [
    "smp.collect(poly_3, x)"
   ]
  },
  {
   "cell_type": "markdown",
   "id": "eeea8bf6-ba91-4c86-bd18-1b0ee122cbc5",
   "metadata": {},
   "source": [
    "**cancel()**, ejecuta cancelaciones donde $\\frac{p}{q}$ y $p$ y $q$ son polinomios"
   ]
  },
  {
   "cell_type": "code",
   "execution_count": 487,
   "id": "9238e2a3-2336-4f96-97f4-3f50e1dec360",
   "metadata": {
    "tags": []
   },
   "outputs": [
    {
     "data": {
      "text/latex": [
       "$\\displaystyle \\frac{x^{2} + 2 x + 1}{x^{2} - 1}$"
      ],
      "text/plain": [
       "(x**2 + 2*x + 1)/(x**2 - 1)"
      ]
     },
     "execution_count": 487,
     "metadata": {},
     "output_type": "execute_result"
    }
   ],
   "source": [
    "expr = (x**2 + 2*x + 1) / (x**2 - 1)\n",
    "expr"
   ]
  },
  {
   "cell_type": "code",
   "execution_count": 488,
   "id": "2fbe4558-d413-4fd8-a89d-cc562526eaee",
   "metadata": {
    "tags": []
   },
   "outputs": [
    {
     "data": {
      "text/latex": [
       "$\\displaystyle \\frac{x + 1}{x - 1}$"
      ],
      "text/plain": [
       "(x + 1)/(x - 1)"
      ]
     },
     "execution_count": 488,
     "metadata": {},
     "output_type": "execute_result"
    }
   ],
   "source": [
    "expr.cancel()"
   ]
  },
  {
   "cell_type": "code",
   "execution_count": 489,
   "id": "096a301e-3d33-4802-940c-af849d0e7f79",
   "metadata": {
    "tags": []
   },
   "outputs": [
    {
     "data": {
      "text/latex": [
       "$\\displaystyle \\frac{x + 1}{x - 1}$"
      ],
      "text/plain": [
       "(x + 1)/(x - 1)"
      ]
     },
     "execution_count": 489,
     "metadata": {},
     "output_type": "execute_result"
    }
   ],
   "source": [
    "smp.cancel(expr)"
   ]
  },
  {
   "cell_type": "markdown",
   "id": "e1ea3bd8-071a-4dee-a3f3-dd1b1d481015",
   "metadata": {},
   "source": [
    "**apart()**, realiza descomposición en fracciones parcial"
   ]
  },
  {
   "cell_type": "code",
   "execution_count": 490,
   "id": "ea697427-b7bf-4804-9d4f-42605bfd656f",
   "metadata": {
    "tags": []
   },
   "outputs": [
    {
     "data": {
      "text/latex": [
       "$\\displaystyle \\frac{4 x^{4} - x^{2} + 1}{x^{5} - 10 x^{2}}$"
      ],
      "text/plain": [
       "(4*x**4 - x**2 + 1)/(x**5 - 10*x**2)"
      ]
     },
     "execution_count": 490,
     "metadata": {},
     "output_type": "execute_result"
    }
   ],
   "source": [
    "expr_2 = (4*x**4 - x**2 + 1) / (x**5 - 10*x**2)\n",
    "expr_2"
   ]
  },
  {
   "cell_type": "code",
   "execution_count": 491,
   "id": "a88c6201-5ae1-452d-a4a9-6c26d3aec8f2",
   "metadata": {
    "tags": []
   },
   "outputs": [
    {
     "data": {
      "text/latex": [
       "$\\displaystyle \\frac{40 x^{2} + x - 10}{10 \\left(x^{3} - 10\\right)} - \\frac{1}{10 x^{2}}$"
      ],
      "text/plain": [
       "(40*x**2 + x - 10)/(10*(x**3 - 10)) - 1/(10*x**2)"
      ]
     },
     "execution_count": 491,
     "metadata": {},
     "output_type": "execute_result"
    }
   ],
   "source": [
    "expr_2.apart()"
   ]
  },
  {
   "cell_type": "code",
   "execution_count": 492,
   "id": "542c6dc7-e38a-4120-b1bb-26d5308c0e3c",
   "metadata": {
    "tags": []
   },
   "outputs": [
    {
     "data": {
      "text/latex": [
       "$\\displaystyle \\frac{40 x^{2} + x - 10}{10 \\left(x^{3} - 10\\right)} - \\frac{1}{10 x^{2}}$"
      ],
      "text/plain": [
       "(40*x**2 + x - 10)/(10*(x**3 - 10)) - 1/(10*x**2)"
      ]
     },
     "execution_count": 492,
     "metadata": {},
     "output_type": "execute_result"
    }
   ],
   "source": [
    "smp.apart(expr_2)"
   ]
  },
  {
   "cell_type": "markdown",
   "id": "480af662-2b2f-481b-b70c-b821d3d67828",
   "metadata": {},
   "source": [
    "Simplificaciones Trigonométricas e Hiperbólicas"
   ]
  },
  {
   "cell_type": "markdown",
   "id": "54dd7461-e7b5-441e-84b9-11de9bf67644",
   "metadata": {},
   "source": [
    "**trigsimp()**, utiliza múltiples propiedades para simplificar expresiones"
   ]
  },
  {
   "cell_type": "code",
   "execution_count": 494,
   "id": "1107abb9-c4f2-42cb-a192-ff309e27a499",
   "metadata": {
    "tags": []
   },
   "outputs": [
    {
     "data": {
      "text/latex": [
       "$\\displaystyle \\sin^{2}{\\left(x \\right)} + \\cos^{2}{\\left(x \\right)}$"
      ],
      "text/plain": [
       "sin(x)**2 + cos(x)**2"
      ]
     },
     "execution_count": 494,
     "metadata": {},
     "output_type": "execute_result"
    }
   ],
   "source": [
    "expr = smp.cos(x)**2 + smp.sin(x)**2\n",
    "expr"
   ]
  },
  {
   "cell_type": "code",
   "execution_count": 495,
   "id": "7f7f9598-3b87-42cd-87b0-666e1297a877",
   "metadata": {
    "tags": []
   },
   "outputs": [
    {
     "data": {
      "text/latex": [
       "$\\displaystyle 1$"
      ],
      "text/plain": [
       "1"
      ]
     },
     "execution_count": 495,
     "metadata": {},
     "output_type": "execute_result"
    }
   ],
   "source": [
    "expr.trigsimp()"
   ]
  },
  {
   "cell_type": "code",
   "execution_count": 496,
   "id": "1e6ba643-bb63-4973-99ed-520b0045225b",
   "metadata": {
    "tags": []
   },
   "outputs": [
    {
     "data": {
      "text/latex": [
       "$\\displaystyle 1$"
      ],
      "text/plain": [
       "1"
      ]
     },
     "execution_count": 496,
     "metadata": {},
     "output_type": "execute_result"
    }
   ],
   "source": [
    "smp.trigsimp(expr)"
   ]
  },
  {
   "cell_type": "code",
   "execution_count": 497,
   "id": "5fea3131-5cf1-41ca-9566-7ab54ece9bd1",
   "metadata": {
    "tags": []
   },
   "outputs": [
    {
     "data": {
      "text/latex": [
       "$\\displaystyle - \\sinh^{2}{\\left(x \\right)} + \\cosh^{2}{\\left(x \\right)}$"
      ],
      "text/plain": [
       "-sinh(x)**2 + cosh(x)**2"
      ]
     },
     "execution_count": 497,
     "metadata": {},
     "output_type": "execute_result"
    }
   ],
   "source": [
    "expr = smp.cosh(x)**2 - smp.sinh(x)**2\n",
    "expr"
   ]
  },
  {
   "cell_type": "code",
   "execution_count": 498,
   "id": "56fdac38-c89d-4791-ad25-dd20803a1d4f",
   "metadata": {
    "tags": []
   },
   "outputs": [
    {
     "data": {
      "text/latex": [
       "$\\displaystyle 1$"
      ],
      "text/plain": [
       "1"
      ]
     },
     "execution_count": 498,
     "metadata": {},
     "output_type": "execute_result"
    }
   ],
   "source": [
    "expr.trigsimp()"
   ]
  },
  {
   "cell_type": "markdown",
   "id": "18e38f28-e15b-4808-9ef3-4ada991c9d92",
   "metadata": {},
   "source": [
    "**expand_trig()**, expande funciones trigonométricas e hiperbólicas usando distintas relaciones"
   ]
  },
  {
   "cell_type": "code",
   "execution_count": 503,
   "id": "9e928f0b-c718-4abd-840a-9842a0d15a4c",
   "metadata": {
    "tags": []
   },
   "outputs": [
    {
     "data": {
      "text/latex": [
       "$\\displaystyle \\cos{\\left(x + y \\right)}$"
      ],
      "text/plain": [
       "cos(x + y)"
      ]
     },
     "execution_count": 503,
     "metadata": {},
     "output_type": "execute_result"
    }
   ],
   "source": [
    "expr = smp.cos(x + y)\n",
    "expr"
   ]
  },
  {
   "cell_type": "code",
   "execution_count": 504,
   "id": "962b0fcd-c6a2-43d3-95cf-6c4a81385250",
   "metadata": {
    "tags": []
   },
   "outputs": [
    {
     "data": {
      "text/latex": [
       "$\\displaystyle - \\sin{\\left(x \\right)} \\sin{\\left(y \\right)} + \\cos{\\left(x \\right)} \\cos{\\left(y \\right)}$"
      ],
      "text/plain": [
       "-sin(x)*sin(y) + cos(x)*cos(y)"
      ]
     },
     "execution_count": 504,
     "metadata": {},
     "output_type": "execute_result"
    }
   ],
   "source": [
    "smp.expand_trig(expr)"
   ]
  },
  {
   "cell_type": "code",
   "execution_count": 505,
   "id": "a52abfbd-87c4-4a11-9464-e560dd505169",
   "metadata": {
    "tags": []
   },
   "outputs": [
    {
     "data": {
      "text/latex": [
       "$\\displaystyle \\tanh{\\left(x + y \\right)}$"
      ],
      "text/plain": [
       "tanh(x + y)"
      ]
     },
     "execution_count": 505,
     "metadata": {},
     "output_type": "execute_result"
    }
   ],
   "source": [
    "expr = smp.tanh(x + y)\n",
    "expr"
   ]
  },
  {
   "cell_type": "code",
   "execution_count": 506,
   "id": "7575b796-53d4-4d29-aa35-297d63afe5c9",
   "metadata": {
    "tags": []
   },
   "outputs": [
    {
     "data": {
      "text/latex": [
       "$\\displaystyle \\frac{\\tanh{\\left(x \\right)} + \\tanh{\\left(y \\right)}}{\\tanh{\\left(x \\right)} \\tanh{\\left(y \\right)} + 1}$"
      ],
      "text/plain": [
       "(tanh(x) + tanh(y))/(tanh(x)*tanh(y) + 1)"
      ]
     },
     "execution_count": 506,
     "metadata": {},
     "output_type": "execute_result"
    }
   ],
   "source": [
    "smp.expand_trig(expr)"
   ]
  },
  {
   "cell_type": "markdown",
   "id": "ba57aace-2df0-4066-b101-599c4fe37e73",
   "metadata": {},
   "source": [
    "Para exponenciales tenemos: <br>\n",
    "**powsimp(), expand_power_exp(), expand_power_base(), powdenest()** <br>\n",
    "Para exponenciales y logaritmos <br>\n",
    "**expand_log(), logcombine()**"
   ]
  },
  {
   "cell_type": "markdown",
   "id": "dc2e79fd-4d11-4dd9-a3cb-7f620f136057",
   "metadata": {},
   "source": [
    "**Algunas funciones especiales**"
   ]
  },
  {
   "cell_type": "code",
   "execution_count": 507,
   "id": "48a473d4-bf0c-47f3-9ca9-d0db7b0591f3",
   "metadata": {
    "tags": []
   },
   "outputs": [
    {
     "data": {
      "text/latex": [
       "$\\displaystyle x!$"
      ],
      "text/plain": [
       "factorial(x)"
      ]
     },
     "execution_count": 507,
     "metadata": {},
     "output_type": "execute_result"
    }
   ],
   "source": [
    "smp.factorial(x)"
   ]
  },
  {
   "cell_type": "code",
   "execution_count": 508,
   "id": "38421400-7471-4384-b1c8-ace67420c338",
   "metadata": {
    "tags": []
   },
   "outputs": [
    {
     "data": {
      "text/latex": [
       "$\\displaystyle {\\binom{i}{n}}$"
      ],
      "text/plain": [
       "binomial(i, n)"
      ]
     },
     "execution_count": 508,
     "metadata": {},
     "output_type": "execute_result"
    }
   ],
   "source": [
    "smp.binomial(i, n)"
   ]
  },
  {
   "cell_type": "code",
   "execution_count": 509,
   "id": "ec51e9c4-49c9-46cb-b505-6be1d743e862",
   "metadata": {
    "tags": []
   },
   "outputs": [
    {
     "data": {
      "text/latex": [
       "$\\displaystyle \\Gamma\\left(x\\right)$"
      ],
      "text/plain": [
       "gamma(x)"
      ]
     },
     "execution_count": 509,
     "metadata": {},
     "output_type": "execute_result"
    }
   ],
   "source": [
    "smp.gamma(x)"
   ]
  },
  {
   "cell_type": "markdown",
   "id": "8919d567-1931-4a42-80d7-0f287ab70895",
   "metadata": {},
   "source": [
    "**Simplificación de funciones especiales**"
   ]
  },
  {
   "cell_type": "markdown",
   "id": "23d42913-f39a-4126-b68b-44f53e086c4d",
   "metadata": {},
   "source": [
    "**rewrite()**, reescribe funciones en términos de otras, funciona para cualquier expresión"
   ]
  },
  {
   "cell_type": "code",
   "execution_count": 517,
   "id": "50a371d9-442e-455c-bd07-54627b6d41e5",
   "metadata": {
    "tags": []
   },
   "outputs": [
    {
     "data": {
      "text/latex": [
       "$\\displaystyle e^{x}$"
      ],
      "text/plain": [
       "exp(x)"
      ]
     },
     "execution_count": 517,
     "metadata": {},
     "output_type": "execute_result"
    }
   ],
   "source": [
    "expr = smp.exp(x)\n",
    "expr"
   ]
  },
  {
   "cell_type": "code",
   "execution_count": 518,
   "id": "34a3d655-7b29-450d-8292-71d8b5e87a64",
   "metadata": {
    "tags": []
   },
   "outputs": [
    {
     "data": {
      "text/latex": [
       "$\\displaystyle \\sinh{\\left(x \\right)} + \\cosh{\\left(x \\right)}$"
      ],
      "text/plain": [
       "sinh(x) + cosh(x)"
      ]
     },
     "execution_count": 518,
     "metadata": {},
     "output_type": "execute_result"
    }
   ],
   "source": [
    "expr.rewrite(smp.cos)"
   ]
  },
  {
   "cell_type": "markdown",
   "id": "eac30180-6afd-4aa4-915f-bf153264390e",
   "metadata": {},
   "source": [
    "**expand_func()**, expande funciones"
   ]
  },
  {
   "cell_type": "code",
   "execution_count": 547,
   "id": "7d6d6c64-c240-4173-a5f0-fc5cf8800e35",
   "metadata": {
    "tags": []
   },
   "outputs": [
    {
     "data": {
      "text/latex": [
       "$\\displaystyle \\Gamma\\left(x + 3\\right)$"
      ],
      "text/plain": [
       "gamma(x + 3)"
      ]
     },
     "execution_count": 547,
     "metadata": {},
     "output_type": "execute_result"
    }
   ],
   "source": [
    "expr = smp.gamma(x+3)\n",
    "expr"
   ]
  },
  {
   "cell_type": "code",
   "execution_count": 549,
   "id": "188205f3-62e2-4109-816d-6800e9e8dbbe",
   "metadata": {
    "tags": []
   },
   "outputs": [
    {
     "data": {
      "text/latex": [
       "$\\displaystyle x \\left(x + 1\\right) \\left(x + 2\\right) \\Gamma\\left(x\\right)$"
      ],
      "text/plain": [
       "x*(x + 1)*(x + 2)*gamma(x)"
      ]
     },
     "execution_count": 549,
     "metadata": {},
     "output_type": "execute_result"
    }
   ],
   "source": [
    "smp.expand_func(expr)"
   ]
  },
  {
   "cell_type": "markdown",
   "id": "e44858c1-86c1-45ad-9817-147702e56b26",
   "metadata": {},
   "source": [
    "**combsimp()**, simplifica expresiones con combinaciones"
   ]
  },
  {
   "cell_type": "code",
   "execution_count": 521,
   "id": "cc2798f6-be6b-4909-be37-72ae474b9118",
   "metadata": {
    "tags": []
   },
   "outputs": [
    {
     "data": {
      "text/latex": [
       "$\\displaystyle \\frac{n!}{\\left(n - 3\\right)!}$"
      ],
      "text/plain": [
       "factorial(n)/factorial(n - 3)"
      ]
     },
     "execution_count": 521,
     "metadata": {},
     "output_type": "execute_result"
    }
   ],
   "source": [
    "expr = smp.factorial(n) / smp.factorial(n-3)\n",
    "expr"
   ]
  },
  {
   "cell_type": "code",
   "execution_count": 522,
   "id": "4dd0f022-1b30-4c7e-8210-539dbfaa67fb",
   "metadata": {
    "tags": []
   },
   "outputs": [
    {
     "data": {
      "text/latex": [
       "$\\displaystyle n \\left(n - 2\\right) \\left(n - 1\\right)$"
      ],
      "text/plain": [
       "n*(n - 2)*(n - 1)"
      ]
     },
     "execution_count": 522,
     "metadata": {},
     "output_type": "execute_result"
    }
   ],
   "source": [
    "smp.combsimp(expr)"
   ]
  },
  {
   "cell_type": "code",
   "execution_count": 524,
   "id": "931f33e4-5d1a-42e3-a0b1-113d5b0a7acb",
   "metadata": {
    "tags": []
   },
   "outputs": [
    {
     "data": {
      "text/latex": [
       "$\\displaystyle \\frac{{\\binom{n + 1}{i + 1}}}{{\\binom{n}{i}}}$"
      ],
      "text/plain": [
       "binomial(n + 1, i + 1)/binomial(n, i)"
      ]
     },
     "execution_count": 524,
     "metadata": {},
     "output_type": "execute_result"
    }
   ],
   "source": [
    "expr = smp.binomial(n+1, i+1) / smp.binomial(n, i)\n",
    "expr"
   ]
  },
  {
   "cell_type": "code",
   "execution_count": 525,
   "id": "01dbcb4d-0ec4-47e4-a8e1-ef670f378f31",
   "metadata": {
    "tags": []
   },
   "outputs": [
    {
     "data": {
      "text/latex": [
       "$\\displaystyle \\frac{n + 1}{i + 1}$"
      ],
      "text/plain": [
       "(n + 1)/(i + 1)"
      ]
     },
     "execution_count": 525,
     "metadata": {},
     "output_type": "execute_result"
    }
   ],
   "source": [
    "smp.combsimp(expr)"
   ]
  },
  {
   "cell_type": "markdown",
   "id": "02a3bafe-5d46-4077-9982-e6e1fefc869f",
   "metadata": {},
   "source": [
    "**gammasimp()**, simplifica funciones gamma o combinaciones que no tengan argumento entero"
   ]
  },
  {
   "cell_type": "code",
   "execution_count": 530,
   "id": "35b0652f-8c52-46cc-8fd2-b331e8f9ed5e",
   "metadata": {
    "tags": []
   },
   "outputs": [
    {
     "data": {
      "text/latex": [
       "$\\displaystyle \\Gamma\\left(x\\right) \\Gamma\\left(1 - x\\right)$"
      ],
      "text/plain": [
       "gamma(x)*gamma(1 - x)"
      ]
     },
     "execution_count": 530,
     "metadata": {},
     "output_type": "execute_result"
    }
   ],
   "source": [
    "expr = smp.gamma(x) * smp.gamma(1-x)\n",
    "expr"
   ]
  },
  {
   "cell_type": "code",
   "execution_count": 531,
   "id": "02d5f998-6aac-4d2e-a01a-f309f9161d7a",
   "metadata": {
    "tags": []
   },
   "outputs": [
    {
     "data": {
      "text/latex": [
       "$\\displaystyle \\frac{\\pi}{\\sin{\\left(\\pi x \\right)}}$"
      ],
      "text/plain": [
       "pi/sin(pi*x)"
      ]
     },
     "execution_count": 531,
     "metadata": {},
     "output_type": "execute_result"
    }
   ],
   "source": [
    "smp.gammasimp(expr)"
   ]
  },
  {
   "cell_type": "code",
   "execution_count": null,
   "id": "5dd664fb-32f6-4571-8825-4f64b34d7f69",
   "metadata": {},
   "outputs": [],
   "source": []
  }
 ],
 "metadata": {
  "kernelspec": {
   "display_name": "Python 3 (ipykernel)",
   "language": "python",
   "name": "python3"
  },
  "language_info": {
   "codemirror_mode": {
    "name": "ipython",
    "version": 3
   },
   "file_extension": ".py",
   "mimetype": "text/x-python",
   "name": "python",
   "nbconvert_exporter": "python",
   "pygments_lexer": "ipython3",
   "version": "3.11.3"
  }
 },
 "nbformat": 4,
 "nbformat_minor": 5
}
