{
 "cells": [
  {
   "cell_type": "code",
   "execution_count": 1,
   "id": "4066bad1-badb-4dfb-985a-54831af7a7c6",
   "metadata": {
    "tags": []
   },
   "outputs": [],
   "source": [
    "import sympy as smp\n",
    "from sympy.physics.quantum.constants import hbar"
   ]
  },
  {
   "cell_type": "code",
   "execution_count": 2,
   "id": "5d9c144e-d28c-482f-9040-e7efc060c6ef",
   "metadata": {
    "tags": []
   },
   "outputs": [],
   "source": [
    "m, E, k, a = smp.symbols('m E k a', positive=True)\n",
    "x = smp.symbols('x', real=True)\n",
    "Psi = smp.symbols(r'\\Psi', cls=smp.Function)(x)"
   ]
  },
  {
   "cell_type": "code",
   "execution_count": 3,
   "id": "9aab6b98-4d7b-4b38-bea2-c2e86d902af9",
   "metadata": {
    "tags": []
   },
   "outputs": [],
   "source": [
    "d1_Psi = smp.diff(Psi, x)\n",
    "d2_Psi = smp.diff(d1_Psi, x)"
   ]
  },
  {
   "cell_type": "code",
   "execution_count": 4,
   "id": "7e4edfc7-becc-4a68-814d-7e4a03b20c0d",
   "metadata": {
    "tags": []
   },
   "outputs": [
    {
     "data": {
      "text/latex": [
       "$\\displaystyle - \\frac{\\hbar^{2} \\frac{d^{2}}{d x^{2}} \\Psi{\\left(x \\right)}}{2 m} = E \\Psi{\\left(x \\right)}$"
      ],
      "text/plain": [
       "Eq(-hbar**2*Derivative(\\Psi(x), (x, 2))/(2*m), E*\\Psi(x))"
      ]
     },
     "execution_count": 4,
     "metadata": {},
     "output_type": "execute_result"
    }
   ],
   "source": [
    "rhs = -(hbar**2 / (2*m)) * d2_Psi\n",
    "lhs = E * Psi\n",
    "eq = smp.Eq(rhs, lhs)\n",
    "eq"
   ]
  },
  {
   "cell_type": "code",
   "execution_count": 5,
   "id": "bca12ec9-282a-42e4-9b5f-48eb0a80d0ac",
   "metadata": {
    "tags": []
   },
   "outputs": [
    {
     "data": {
      "text/latex": [
       "$\\displaystyle \\Psi{\\left(x \\right)} = C_{1} \\sin{\\left(\\frac{\\sqrt{2} \\sqrt{E} \\sqrt{m} x}{\\hbar} \\right)} + C_{2} \\cos{\\left(\\frac{\\sqrt{2} \\sqrt{E} \\sqrt{m} x}{\\hbar} \\right)}$"
      ],
      "text/plain": [
       "Eq(\\Psi(x), C1*sin(sqrt(2)*sqrt(E)*sqrt(m)*x/hbar) + C2*cos(sqrt(2)*sqrt(E)*sqrt(m)*x/hbar))"
      ]
     },
     "execution_count": 5,
     "metadata": {},
     "output_type": "execute_result"
    }
   ],
   "source": [
    "x0 = 0\n",
    "xa = 0\n",
    "\n",
    "gen_sol = smp.dsolve(eq, Psi)\n",
    "gen_sol"
   ]
  },
  {
   "cell_type": "code",
   "execution_count": 6,
   "id": "a3f9d802-2c51-4d81-9cd5-5fb91f455db9",
   "metadata": {
    "tags": []
   },
   "outputs": [],
   "source": [
    "C1, C2 = smp.symbols('C1 C2')"
   ]
  },
  {
   "cell_type": "code",
   "execution_count": 7,
   "id": "3ae0d66f-c9f4-42f0-9f04-2e908c2144e5",
   "metadata": {
    "tags": []
   },
   "outputs": [
    {
     "data": {
      "text/latex": [
       "$\\displaystyle 0 = C_{2}$"
      ],
      "text/plain": [
       "Eq(0, C2)"
      ]
     },
     "execution_count": 7,
     "metadata": {},
     "output_type": "execute_result"
    }
   ],
   "source": [
    "Psi_at_0 = gen_sol.subs([\n",
    "    [Psi, x0],\n",
    "    [x, 0]\n",
    "])\n",
    "Psi_at_0"
   ]
  },
  {
   "cell_type": "code",
   "execution_count": 9,
   "id": "35ad6e64-ec70-432e-96c2-0306c5067c0c",
   "metadata": {
    "tags": []
   },
   "outputs": [
    {
     "data": {
      "text/latex": [
       "$\\displaystyle 0 = C_{1} \\sin{\\left(\\frac{\\sqrt{2} \\sqrt{E} a \\sqrt{m}}{\\hbar} \\right)}$"
      ],
      "text/plain": [
       "Eq(0, C1*sin(sqrt(2)*sqrt(E)*a*sqrt(m)/hbar))"
      ]
     },
     "execution_count": 9,
     "metadata": {},
     "output_type": "execute_result"
    }
   ],
   "source": [
    "Psi_at_a = gen_sol.subs([\n",
    "    [Psi, xa],\n",
    "    [x, a],\n",
    "    [C2, 0]\n",
    "])\n",
    "Psi_at_a"
   ]
  },
  {
   "cell_type": "code",
   "execution_count": 10,
   "id": "c2e8a1e8-8816-4513-99c2-3a9f8647083f",
   "metadata": {
    "tags": []
   },
   "outputs": [
    {
     "data": {
      "text/latex": [
       "$\\displaystyle \\frac{\\sqrt{2} \\sqrt{E} a \\sqrt{m}}{\\hbar}$"
      ],
      "text/plain": [
       "sqrt(2)*sqrt(E)*a*sqrt(m)/hbar"
      ]
     },
     "execution_count": 10,
     "metadata": {},
     "output_type": "execute_result"
    }
   ],
   "source": [
    "argument0 = smp.asin(Psi_at_a.rhs/C1).simplify(force=True, inverse=True)\n",
    "argument0"
   ]
  },
  {
   "cell_type": "code",
   "execution_count": 11,
   "id": "004ded22-35d1-4f7c-a349-8efda2323888",
   "metadata": {
    "tags": []
   },
   "outputs": [],
   "source": [
    "n = smp.symbols('n', integer=True, positive=True)"
   ]
  },
  {
   "cell_type": "code",
   "execution_count": 12,
   "id": "258c01c8-3b30-4932-bab3-998c6c350864",
   "metadata": {
    "tags": []
   },
   "outputs": [
    {
     "data": {
      "text/latex": [
       "$\\displaystyle \\frac{\\sqrt{2} \\sqrt{E} a \\sqrt{m}}{\\hbar} = \\pi n$"
      ],
      "text/plain": [
       "Eq(sqrt(2)*sqrt(E)*a*sqrt(m)/hbar, pi*n)"
      ]
     },
     "execution_count": 12,
     "metadata": {},
     "output_type": "execute_result"
    }
   ],
   "source": [
    "pre_E = smp.Eq(argument0, n*smp.pi)\n",
    "pre_E"
   ]
  },
  {
   "cell_type": "code",
   "execution_count": 13,
   "id": "dcab9e1f-cdb7-4a75-a413-1d7345919308",
   "metadata": {
    "tags": []
   },
   "outputs": [
    {
     "data": {
      "text/latex": [
       "$\\displaystyle \\frac{\\hbar^{2} \\pi^{2} n^{2}}{2 a^{2} m}$"
      ],
      "text/plain": [
       "hbar**2*pi**2*n**2/(2*a**2*m)"
      ]
     },
     "execution_count": 13,
     "metadata": {},
     "output_type": "execute_result"
    }
   ],
   "source": [
    "energies = smp.solve(pre_E, E)[0]\n",
    "energies"
   ]
  },
  {
   "cell_type": "code",
   "execution_count": 14,
   "id": "38c9140f-5a5b-4f05-aa59-05e1f607f275",
   "metadata": {
    "tags": []
   },
   "outputs": [
    {
     "data": {
      "text/latex": [
       "$\\displaystyle \\Psi{\\left(x \\right)} = C_{1} \\sin{\\left(\\frac{\\sqrt{2} \\sqrt{E} \\sqrt{m} x}{\\hbar} \\right)} + C_{2} \\cos{\\left(\\frac{\\sqrt{2} \\sqrt{E} \\sqrt{m} x}{\\hbar} \\right)}$"
      ],
      "text/plain": [
       "Eq(\\Psi(x), C1*sin(sqrt(2)*sqrt(E)*sqrt(m)*x/hbar) + C2*cos(sqrt(2)*sqrt(E)*sqrt(m)*x/hbar))"
      ]
     },
     "execution_count": 14,
     "metadata": {},
     "output_type": "execute_result"
    }
   ],
   "source": [
    "gen_sol"
   ]
  },
  {
   "cell_type": "code",
   "execution_count": 16,
   "id": "fae66fe5-09fe-4dd5-8b74-ffa79ac343e5",
   "metadata": {
    "tags": []
   },
   "outputs": [
    {
     "data": {
      "text/latex": [
       "$\\displaystyle \\Psi{\\left(x \\right)} = C_{1} \\sin{\\left(\\frac{\\pi n x}{a} \\right)}$"
      ],
      "text/plain": [
       "Eq(\\Psi(x), C1*sin(pi*n*x/a))"
      ]
     },
     "execution_count": 16,
     "metadata": {},
     "output_type": "execute_result"
    }
   ],
   "source": [
    "particular_sol = gen_sol.subs([\n",
    "    [C2, 0],\n",
    "    [E, energies]\n",
    "])\n",
    "particular_sol"
   ]
  },
  {
   "cell_type": "code",
   "execution_count": 17,
   "id": "f0b0ece3-645d-405a-ac0c-014207a1eefc",
   "metadata": {
    "tags": []
   },
   "outputs": [
    {
     "data": {
      "text/latex": [
       "$\\displaystyle C_{1} \\sin^{2}{\\left(\\frac{\\pi n x}{a} \\right)} \\overline{C_{1}}$"
      ],
      "text/plain": [
       "C1*sin(pi*n*x/a)**2*conjugate(C1)"
      ]
     },
     "execution_count": 17,
     "metadata": {},
     "output_type": "execute_result"
    }
   ],
   "source": [
    "integrand = particular_sol.rhs * particular_sol.rhs.conjugate()\n",
    "integrand"
   ]
  },
  {
   "cell_type": "code",
   "execution_count": 18,
   "id": "1193d058-b979-442d-b08d-0155d4bab05e",
   "metadata": {
    "tags": []
   },
   "outputs": [
    {
     "data": {
      "text/latex": [
       "$\\displaystyle \\frac{C_{1} a \\overline{C_{1}}}{2}$"
      ],
      "text/plain": [
       "C1*a*conjugate(C1)/2"
      ]
     },
     "execution_count": 18,
     "metadata": {},
     "output_type": "execute_result"
    }
   ],
   "source": [
    "integral = smp.integrate(integrand, (x, 0, a))\n",
    "integral"
   ]
  },
  {
   "cell_type": "code",
   "execution_count": 19,
   "id": "bd097dd3-7c2b-4b45-8e0f-0347e9ffdf5c",
   "metadata": {
    "tags": []
   },
   "outputs": [
    {
     "data": {
      "text/latex": [
       "$\\displaystyle \\frac{C_{1} a \\overline{C_{1}}}{2} = 1$"
      ],
      "text/plain": [
       "Eq(C1*a*conjugate(C1)/2, 1)"
      ]
     },
     "execution_count": 19,
     "metadata": {},
     "output_type": "execute_result"
    }
   ],
   "source": [
    "pre_norm_factor = smp.Eq(integral, 1)\n",
    "pre_norm_factor"
   ]
  },
  {
   "cell_type": "code",
   "execution_count": 20,
   "id": "57af36a4-f60c-43f6-8210-d3bb3d3889cb",
   "metadata": {
    "tags": []
   },
   "outputs": [
    {
     "data": {
      "text/latex": [
       "$\\displaystyle \\frac{\\sqrt{2}}{\\sqrt{a}}$"
      ],
      "text/plain": [
       "sqrt(2)/sqrt(a)"
      ]
     },
     "execution_count": 20,
     "metadata": {},
     "output_type": "execute_result"
    }
   ],
   "source": [
    "norm_factor = smp.solve(pre_norm_factor, C1)[1]\n",
    "norm_factor"
   ]
  },
  {
   "cell_type": "code",
   "execution_count": 21,
   "id": "fc055014-0e1d-44a2-9824-232f0936441e",
   "metadata": {
    "tags": []
   },
   "outputs": [
    {
     "data": {
      "text/latex": [
       "$\\displaystyle \\Psi{\\left(x \\right)} = C_{1} \\sin{\\left(\\frac{\\pi n x}{a} \\right)}$"
      ],
      "text/plain": [
       "Eq(\\Psi(x), C1*sin(pi*n*x/a))"
      ]
     },
     "execution_count": 21,
     "metadata": {},
     "output_type": "execute_result"
    }
   ],
   "source": [
    "particular_sol"
   ]
  },
  {
   "cell_type": "code",
   "execution_count": 22,
   "id": "794c0d00-901b-469e-b432-e64990db7ce4",
   "metadata": {
    "tags": []
   },
   "outputs": [
    {
     "data": {
      "text/latex": [
       "$\\displaystyle \\Psi{\\left(x \\right)} = \\frac{\\sqrt{2} \\sin{\\left(\\frac{\\pi n x}{a} \\right)}}{\\sqrt{a}}$"
      ],
      "text/plain": [
       "Eq(\\Psi(x), sqrt(2)*sin(pi*n*x/a)/sqrt(a))"
      ]
     },
     "execution_count": 22,
     "metadata": {},
     "output_type": "execute_result"
    }
   ],
   "source": [
    "normalized_sol = particular_sol.subs(C1, norm_factor)\n",
    "normalized_sol"
   ]
  },
  {
   "cell_type": "code",
   "execution_count": 23,
   "id": "a1f66e2d-a7c5-454e-8984-847ceda3f1ab",
   "metadata": {
    "tags": []
   },
   "outputs": [
    {
     "data": {
      "text/latex": [
       "$\\displaystyle \\begin{cases} 0 & \\text{for}\\: m \\neq n \\\\1 & \\text{otherwise} \\end{cases}$"
      ],
      "text/plain": [
       "Piecewise((0, Ne(m, n)), (1, True))"
      ]
     },
     "execution_count": 23,
     "metadata": {},
     "output_type": "execute_result"
    }
   ],
   "source": [
    "m = smp.symbols('m', integer=True, positive=True)\n",
    "dummy = normalized_sol.rhs.subs(n,m)\n",
    "smp.integrate(dummy*normalized_sol.rhs, (x, 0, a)).simplify(force=True)"
   ]
  },
  {
   "cell_type": "code",
   "execution_count": null,
   "id": "61195355-37aa-4791-9778-b2931c8efe4c",
   "metadata": {},
   "outputs": [],
   "source": []
  }
 ],
 "metadata": {
  "kernelspec": {
   "display_name": "Python 3 (ipykernel)",
   "language": "python",
   "name": "python3"
  },
  "language_info": {
   "codemirror_mode": {
    "name": "ipython",
    "version": 3
   },
   "file_extension": ".py",
   "mimetype": "text/x-python",
   "name": "python",
   "nbconvert_exporter": "python",
   "pygments_lexer": "ipython3",
   "version": "3.11.3"
  }
 },
 "nbformat": 4,
 "nbformat_minor": 5
}
