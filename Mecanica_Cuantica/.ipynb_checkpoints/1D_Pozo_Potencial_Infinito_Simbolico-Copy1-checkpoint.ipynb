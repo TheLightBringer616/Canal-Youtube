{
 "cells": [
  {
   "cell_type": "markdown",
   "id": "eac07ddb-8a5a-4808-bc9e-2ff772922420",
   "metadata": {},
   "source": [
    "# Pared de Potencial Infinito en 1D de forma simbólica"
   ]
  },
  {
   "cell_type": "code",
   "execution_count": 1,
   "id": "4066bad1-badb-4dfb-985a-54831af7a7c6",
   "metadata": {
    "tags": []
   },
   "outputs": [],
   "source": [
    "%reset -f\n",
    "\n",
    "import sympy as smp\n",
    "import numpy as np\n",
    "from sympy.physics.quantum.constants import hbar\n",
    "\n",
    "import matplotlib.pyplot as plt"
   ]
  },
  {
   "cell_type": "markdown",
   "id": "7694d15d-62b5-4f43-a42a-6d2881d7dede",
   "metadata": {},
   "source": [
    "La ecuación de Schrodinger dependiente del tiempo es la siguiente: <br><br>\n",
    "\n",
    "$$i\\hbar\\frac{\\partial\\Psi}{\\partial t} = -\\frac{\\hbar^{2}}{2m} \\nabla^{2}\\Psi + V\\Psi$$\n",
    "\n",
    "Consideraremos que el potencial es independiente del tiempo.\n",
    "\n",
    "Para resolverla podemos usar separación de variables tal que: <br><br>\n",
    "\n",
    "$$\\Psi(\\vec{r}, t) = \\psi(\\vec{r})\\phi(t)$$ <br><br>\n",
    "\n",
    "La solución general es: <br><br>\n",
    "\n",
    "$$\\Psi(\\vec{r}, t) =  \\sum_{n=1}^{\\infty} c_{n}\\psi_{n}(\\vec{r}) e^{-i\\frac{E_{n}t}{\\hbar}}$$"
   ]
  },
  {
   "cell_type": "markdown",
   "id": "d657f0f1-50e6-4367-bebd-2dd96d54d9ed",
   "metadata": {},
   "source": [
    "Dado lo anterior: <br><br>\n",
    "\n",
    "$$\\phi_{n}(t) = e^{-i\\frac{E_{n}t}{\\hbar}}$$,\n",
    "\n",
    "Y para hallar la solución general hay que resolver primero: <br><br>\n",
    "\n",
    "$$-\\frac{\\hbar^{2}}{2m} \\nabla^{2}\\psi + V\\psi = E\\psi$$"
   ]
  },
  {
   "cell_type": "markdown",
   "id": "6a21e5d7-625b-467e-bf72-9dcfc5ef177e",
   "metadata": {},
   "source": [
    "$$\\int_{V} \\Psi^{*}\\Psi dV = 1$$"
   ]
  },
  {
   "attachments": {
    "26c2578c-00f6-495f-b0e8-284439821468.png": {
     "image/png": "[encoded data removed]"
    }
   },
   "cell_type": "markdown",
   "id": "741ec56b-23c7-4297-8f01-175804af659e",
   "metadata": {},
   "source": [
    "![download.png](attachment:26c2578c-00f6-495f-b0e8-284439821468.png)"
   ]
  },
  {
   "attachments": {
    "3ca42ef9-b32b-4ec5-b337-6d4a1240ea1b.png": {
     "image/png": "[encoded data removed]"
    }
   },
   "cell_type": "markdown",
   "id": "c1693a25-e7cb-4413-8cdb-12eb4fd8b7a7",
   "metadata": {},
   "source": [
    "![download.png](attachment:3ca42ef9-b32b-4ec5-b337-6d4a1240ea1b.png)"
   ]
  },
  {
   "cell_type": "markdown",
   "id": "46d0ae23-0c3c-4a08-bb70-a30a7cf79d80",
   "metadata": {},
   "source": [
    "Como no podemos poner directamente un potencial infinito, lo que se hace es considerar al potencial de $V=0$ a la hora de resolver el problema. Y también se considerará como condiciones de frontera que la ecuación de onda es $\\psi=0$ en $x=0$ y $x=a$"
   ]
  },
  {
   "cell_type": "markdown",
   "id": "02ffcd46-9520-4a35-92b8-02eb920dc8eb",
   "metadata": {},
   "source": [
    "Definimos algunos simbolos apropiados"
   ]
  },
  {
   "cell_type": "code",
   "execution_count": 28,
   "id": "5d9c144e-d28c-482f-9040-e7efc060c6ef",
   "metadata": {
    "tags": []
   },
   "outputs": [],
   "source": [
    "t, m, E, a = smp.symbols('t m E a', positive=True)\n",
    "x = smp.symbols('x', real=True)\n",
    "i = smp.symbols('i', integer=True, positive=True)"
   ]
  },
  {
   "cell_type": "markdown",
   "id": "bdd1aa55-4b94-4389-8473-2c7bc4e51643",
   "metadata": {},
   "source": [
    "Definimos a $\\psi$ como una función dependiente de $x$ y guardamos sus primeras dos derivadas espaciales."
   ]
  },
  {
   "cell_type": "code",
   "execution_count": 43,
   "id": "9aab6b98-4d7b-4b38-bea2-c2e86d902af9",
   "metadata": {
    "tags": []
   },
   "outputs": [],
   "source": [
    "Psi = smp.symbols(r'\\Psi', complex=True, cls=smp.Function)(x)\n",
    "Psi_func = smp.symbols(r'\\Psi', complex=True, cls=smp.Function)\n",
    "Psi_discrete = smp.IndexedBase(r'\\Psi', complex=True)\n",
    "deltaX = smp.symbols(r'\\Delta{X}')\n",
    "d1_Psi = smp.diff(Psi, x)\n",
    "d2_Psi = smp.diff(d1_Psi, x)"
   ]
  },
  {
   "cell_type": "code",
   "execution_count": 81,
   "id": "7c5eeb2d-1c16-40c8-921c-9899c72a034e",
   "metadata": {
    "tags": []
   },
   "outputs": [
    {
     "data": {
      "text/latex": [
       "$\\displaystyle {\\Psi}_{i}$"
      ],
      "text/plain": [
       "\\Psi[i]"
      ]
     },
     "execution_count": 81,
     "metadata": {},
     "output_type": "execute_result"
    }
   ],
   "source": [
    "finite_Psi = Psi_discrete[i]\n",
    "finite_Psi"
   ]
  },
  {
   "cell_type": "code",
   "execution_count": 63,
   "id": "deaae2ec-f43e-46ab-bffd-7cabb481d899",
   "metadata": {
    "tags": []
   },
   "outputs": [
    {
     "data": {
      "text/latex": [
       "$\\displaystyle \\frac{- \\Psi{\\left(- \\Delta{X} + x \\right)} + \\Psi{\\left(\\Delta{X} + x \\right)}}{2 \\Delta{X}}$"
      ],
      "text/plain": [
       "(-\\Psi(-\\Delta{X} + x) + \\Psi(\\Delta{X} + x))/(2*\\Delta{X})"
      ]
     },
     "execution_count": 63,
     "metadata": {},
     "output_type": "execute_result"
    }
   ],
   "source": [
    "finite_d1_Psi = smp.differentiate_finite(Psi, x, 1, points=[x-deltaX, x+deltaX]).simplify()\n",
    "finite_d1_Psi"
   ]
  },
  {
   "cell_type": "code",
   "execution_count": 64,
   "id": "ac16f862-ea35-41b5-bfac-4258843758ed",
   "metadata": {
    "tags": []
   },
   "outputs": [
    {
     "data": {
      "text/latex": [
       "$\\displaystyle \\frac{{\\Psi}_{i + 1} - {\\Psi}_{i - 1}}{2 \\Delta{X}}$"
      ],
      "text/plain": [
       "(\\Psi[i + 1] - \\Psi[i - 1])/(2*\\Delta{X})"
      ]
     },
     "execution_count": 64,
     "metadata": {},
     "output_type": "execute_result"
    }
   ],
   "source": [
    "finite_d1_Psi = finite_d1_Psi.subs([\n",
    "    [Psi_func(x-deltaX), Psi_discrete[i-1]],\n",
    "    [Psi_func(x+deltaX), Psi_discrete[i+1]]\n",
    "])\n",
    "finite_d1_Psi"
   ]
  },
  {
   "cell_type": "code",
   "execution_count": 71,
   "id": "03c01629-acac-42c1-8b9d-7b6b87b20326",
   "metadata": {
    "tags": []
   },
   "outputs": [
    {
     "data": {
      "text/latex": [
       "$\\displaystyle \\frac{- 2 \\Psi{\\left(x \\right)} + \\Psi{\\left(- \\Delta{X} + x \\right)} + \\Psi{\\left(\\Delta{X} + x \\right)}}{\\Delta{X}^{2}}$"
      ],
      "text/plain": [
       "(-2*\\Psi(x) + \\Psi(-\\Delta{X} + x) + \\Psi(\\Delta{X} + x))/\\Delta{X}**2"
      ]
     },
     "execution_count": 71,
     "metadata": {},
     "output_type": "execute_result"
    }
   ],
   "source": [
    "finite_d2_Psi = smp.differentiate_finite(Psi, x, 2, points=[x, x-deltaX, x+deltaX]).simplify()\n",
    "finite_d2_Psi"
   ]
  },
  {
   "cell_type": "code",
   "execution_count": 74,
   "id": "e9d8a979-dc39-47d7-a649-cd0b3f424ddd",
   "metadata": {
    "tags": []
   },
   "outputs": [
    {
     "data": {
      "text/latex": [
       "$\\displaystyle \\frac{{\\Psi}_{i + 1} + {\\Psi}_{i - 1} - 2 {\\Psi}_{i}}{\\Delta{X}^{2}}$"
      ],
      "text/plain": [
       "(\\Psi[i + 1] + \\Psi[i - 1] - 2*\\Psi[i])/\\Delta{X}**2"
      ]
     },
     "execution_count": 74,
     "metadata": {},
     "output_type": "execute_result"
    }
   ],
   "source": [
    "finite_d2_Psi = finite_d2_Psi.subs([\n",
    "    [Psi_func(x-deltaX), Psi_discrete[i-1]],\n",
    "    [Psi_func(x+deltaX), Psi_discrete[i+1]],\n",
    "    [Psi_func(x), Psi_discrete[i]]\n",
    "])\n",
    "finite_d2_Psi"
   ]
  },
  {
   "cell_type": "markdown",
   "id": "becf5453-465f-4237-85a7-fba0bffd89da",
   "metadata": {},
   "source": [
    "$$-\\frac{\\hbar^{2}}{2m} \\nabla^{2}\\psi + V\\psi = E\\psi$$\n",
    "$$\\implies-\\frac{\\hbar^{2}}{2m} \\nabla^{2}\\psi = E\\psi$$"
   ]
  },
  {
   "cell_type": "code",
   "execution_count": 75,
   "id": "7e4edfc7-becc-4a68-814d-7e4a03b20c0d",
   "metadata": {
    "tags": []
   },
   "outputs": [
    {
     "data": {
      "text/latex": [
       "$\\displaystyle - \\frac{\\hbar^{2} \\frac{d^{2}}{d x^{2}} \\Psi{\\left(x \\right)}}{2 m} = E \\Psi{\\left(x \\right)}$"
      ],
      "text/plain": [
       "Eq(-hbar**2*Derivative(\\Psi(x), (x, 2))/(2*m), E*\\Psi(x))"
      ]
     },
     "execution_count": 75,
     "metadata": {},
     "output_type": "execute_result"
    }
   ],
   "source": [
    "lhs = -(hbar**2 / (2*m)) * d2_Psi\n",
    "rhs = E * Psi\n",
    "eq = smp.Eq(lhs, rhs)\n",
    "eq"
   ]
  },
  {
   "cell_type": "code",
   "execution_count": 76,
   "id": "133ca86e-4830-4bd4-b7ee-4b411668d94a",
   "metadata": {
    "tags": []
   },
   "outputs": [
    {
     "data": {
      "text/latex": [
       "$\\displaystyle \\frac{2 E m}{\\hbar^{2}}$"
      ],
      "text/plain": [
       "2*E*m/hbar**2"
      ]
     },
     "execution_count": 76,
     "metadata": {},
     "output_type": "execute_result"
    }
   ],
   "source": [
    "const = -smp.solve(eq, d2_Psi)[0]/Psi\n",
    "const"
   ]
  },
  {
   "cell_type": "code",
   "execution_count": 77,
   "id": "7c2fdc15-2e16-4305-9777-6be5cb54efcc",
   "metadata": {
    "tags": []
   },
   "outputs": [],
   "source": [
    "omega = smp.symbols(r'\\omega', positive=True)\n",
    "omega_squared_explicit = smp.Eq(omega**2, const)\n",
    "omega_explicit = smp.solve(omega_squared_explicit, omega)[0]"
   ]
  },
  {
   "cell_type": "code",
   "execution_count": 78,
   "id": "c0c97d68-fbee-4f7c-8684-a621d9840ed3",
   "metadata": {
    "tags": []
   },
   "outputs": [
    {
     "data": {
      "text/latex": [
       "$\\displaystyle \\frac{d^{2}}{d x^{2}} \\Psi{\\left(x \\right)} = - \\omega^{2} \\Psi{\\left(x \\right)}$"
      ],
      "text/plain": [
       "Eq(Derivative(\\Psi(x), (x, 2)), -\\omega**2*\\Psi(x))"
      ]
     },
     "execution_count": 78,
     "metadata": {},
     "output_type": "execute_result"
    }
   ],
   "source": [
    "rhs = smp.solve(eq, d2_Psi)[0].subs(const, omega**2)\n",
    "diff_eq = smp.Eq(d2_Psi, rhs)\n",
    "diff_eq"
   ]
  },
  {
   "cell_type": "code",
   "execution_count": 84,
   "id": "bcf2ba7b-4b41-4141-8abf-aa6efb02c908",
   "metadata": {
    "tags": []
   },
   "outputs": [
    {
     "data": {
      "text/latex": [
       "$\\displaystyle \\frac{{\\Psi}_{i + 1} + {\\Psi}_{i - 1} - 2 {\\Psi}_{i}}{\\Delta{X}^{2}} = - \\omega^{2} {\\Psi}_{i}$"
      ],
      "text/plain": [
       "Eq((\\Psi[i + 1] + \\Psi[i - 1] - 2*\\Psi[i])/\\Delta{X}**2, -\\omega**2*\\Psi[i])"
      ]
     },
     "execution_count": 84,
     "metadata": {},
     "output_type": "execute_result"
    }
   ],
   "source": [
    "tisa = diff_eq.subs([\n",
    "    [d2_Psi, finite_d2_Psi],\n",
    "    [Psi, finite_Psi]\n",
    "])\n",
    "tisa"
   ]
  },
  {
   "cell_type": "code",
   "execution_count": 178,
   "id": "259d16dc-a86b-42ec-9f52-712eee01d983",
   "metadata": {
    "tags": []
   },
   "outputs": [
    {
     "data": {
      "text/latex": [
       "$\\displaystyle \\left[\\begin{matrix}{\\Psi}_{1}\\\\{\\Psi}_{2}\\\\{\\Psi}_{3}\\\\{\\Psi}_{4}\\\\{\\Psi}_{5}\\\\{\\Psi}_{6}\\\\{\\Psi}_{7}\\end{matrix}\\right]$"
      ],
      "text/plain": [
       "Matrix([\n",
       "[\\Psi[1]],\n",
       "[\\Psi[2]],\n",
       "[\\Psi[3]],\n",
       "[\\Psi[4]],\n",
       "[\\Psi[5]],\n",
       "[\\Psi[6]],\n",
       "[\\Psi[7]]])"
      ]
     },
     "execution_count": 178,
     "metadata": {},
     "output_type": "execute_result"
    }
   ],
   "source": [
    "Psi_vector = smp.Matrix([\n",
    "    [Psi_discrete[1]],\n",
    "    [Psi_discrete[2]],\n",
    "    [Psi_discrete[3]],\n",
    "    [Psi_discrete[4]],\n",
    "    [Psi_discrete[5]],\n",
    "    [Psi_discrete[6]],\n",
    "    [Psi_discrete[7]]\n",
    "])\n",
    "Psi_vector"
   ]
  },
  {
   "cell_type": "code",
   "execution_count": 179,
   "id": "4ec0ab7c-c1f6-4559-a795-eefdc710bbdf",
   "metadata": {
    "tags": []
   },
   "outputs": [
    {
     "data": {
      "text/latex": [
       "$\\displaystyle -2.0$"
      ],
      "text/plain": [
       "-2.00000000000000"
      ]
     },
     "execution_count": 179,
     "metadata": {},
     "output_type": "execute_result"
    }
   ],
   "source": [
    "tisa2 = smp.Matrix([\n",
    "    [-2, 1, 0, 0, 0, 0, 0],\n",
    "    [1, -2, 1, 0, 0, 0, 0],\n",
    "    [0, 1, -2, 1, 0, 0, 0],\n",
    "    [0, 0, 1, -2, 1, 0, 0],\n",
    "    [0, 0, 0, 1, -2, 1, 0],\n",
    "    [0, 0, 0, 0, 1, -2, 1],\n",
    "    [0, 0, 0, 0, 0, 1, -2]\n",
    "])\n",
    "tisa2.eigenvects()[0][0].n()"
   ]
  },
  {
   "cell_type": "code",
   "execution_count": 180,
   "id": "1c2f40a7-ed67-4c08-af72-7adfaaa25b4a",
   "metadata": {
    "tags": []
   },
   "outputs": [
    {
     "data": {
      "text/latex": [
       "$\\displaystyle \\frac{n^{2}}{2}$"
      ],
      "text/plain": [
       "n**2/2"
      ]
     },
     "execution_count": 180,
     "metadata": {},
     "output_type": "execute_result"
    }
   ],
   "source": [
    "energies * m * a**2 / (hbar**2 * smp.pi**2)"
   ]
  },
  {
   "cell_type": "code",
   "execution_count": 181,
   "id": "bf0279f7-215c-4141-b9cd-a00c2f0d1206",
   "metadata": {
    "tags": []
   },
   "outputs": [
    {
     "data": {
      "text/latex": [
       "$\\displaystyle \\left[\\begin{matrix}- 2 {\\Psi}_{1} + {\\Psi}_{2}\\\\{\\Psi}_{1} - 2 {\\Psi}_{2} + {\\Psi}_{3}\\\\{\\Psi}_{2} - 2 {\\Psi}_{3} + {\\Psi}_{4}\\\\{\\Psi}_{3} - 2 {\\Psi}_{4} + {\\Psi}_{5}\\\\{\\Psi}_{4} - 2 {\\Psi}_{5} + {\\Psi}_{6}\\\\{\\Psi}_{5} - 2 {\\Psi}_{6} + {\\Psi}_{7}\\\\{\\Psi}_{6} - 2 {\\Psi}_{7}\\end{matrix}\\right]$"
      ],
      "text/plain": [
       "Matrix([\n",
       "[         -2*\\Psi[1] + \\Psi[2]],\n",
       "[\\Psi[1] - 2*\\Psi[2] + \\Psi[3]],\n",
       "[\\Psi[2] - 2*\\Psi[3] + \\Psi[4]],\n",
       "[\\Psi[3] - 2*\\Psi[4] + \\Psi[5]],\n",
       "[\\Psi[4] - 2*\\Psi[5] + \\Psi[6]],\n",
       "[\\Psi[5] - 2*\\Psi[6] + \\Psi[7]],\n",
       "[          \\Psi[6] - 2*\\Psi[7]]])"
      ]
     },
     "execution_count": 181,
     "metadata": {},
     "output_type": "execute_result"
    }
   ],
   "source": [
    "tisa2 * Psi_vector"
   ]
  },
  {
   "cell_type": "code",
   "execution_count": 146,
   "id": "3fc0c31e-e37d-429d-abf8-a2fc0b3f0a9c",
   "metadata": {
    "tags": []
   },
   "outputs": [
    {
     "data": {
      "text/latex": [
       "$\\displaystyle \\frac{{\\Psi}_{0} - 2 {\\Psi}_{1} + {\\Psi}_{2}}{\\Delta{X}^{2}} = - \\omega^{2} {\\Psi}_{1}$"
      ],
      "text/plain": [
       "Eq((\\Psi[0] - 2*\\Psi[1] + \\Psi[2])/\\Delta{X}**2, -\\omega**2*\\Psi[1])"
      ]
     },
     "execution_count": 146,
     "metadata": {},
     "output_type": "execute_result"
    }
   ],
   "source": [
    "tisa.subs(i, 1)"
   ]
  },
  {
   "cell_type": "code",
   "execution_count": 147,
   "id": "a489f553-9bb1-40be-86c2-5d0e1c2d5606",
   "metadata": {
    "tags": []
   },
   "outputs": [
    {
     "data": {
      "text/latex": [
       "$\\displaystyle \\left[\\begin{matrix}- 2 {\\Psi}_{1} + {\\Psi}_{2}\\\\{\\Psi}_{1} - 2 {\\Psi}_{2} + {\\Psi}_{3}\\\\{\\Psi}_{2} - 2 {\\Psi}_{3} + {\\Psi}_{4}\\\\{\\Psi}_{3} - 2 {\\Psi}_{4}\\end{matrix}\\right] = \\left[\\begin{matrix}- \\omega^{2} {\\Psi}_{1}\\\\- \\omega^{2} {\\Psi}_{2}\\\\- \\omega^{2} {\\Psi}_{3}\\\\- \\omega^{2} {\\Psi}_{4}\\end{matrix}\\right]$"
      ],
      "text/plain": [
       "Eq(Matrix([\n",
       "[         -2*\\Psi[1] + \\Psi[2]],\n",
       "[\\Psi[1] - 2*\\Psi[2] + \\Psi[3]],\n",
       "[\\Psi[2] - 2*\\Psi[3] + \\Psi[4]],\n",
       "[          \\Psi[3] - 2*\\Psi[4]]]), Matrix([\n",
       "[-\\omega**2*\\Psi[1]],\n",
       "[-\\omega**2*\\Psi[2]],\n",
       "[-\\omega**2*\\Psi[3]],\n",
       "[-\\omega**2*\\Psi[4]]]))"
      ]
     },
     "execution_count": 147,
     "metadata": {},
     "output_type": "execute_result"
    }
   ],
   "source": [
    "syst = smp.Eq(tisa2 * Psi_vector, -omega**2 * Psi_vector)\n",
    "syst"
   ]
  },
  {
   "cell_type": "code",
   "execution_count": null,
   "id": "f016b9ec-278c-4d22-9cd7-1d012ee09b9d",
   "metadata": {},
   "outputs": [],
   "source": []
  },
  {
   "cell_type": "code",
   "execution_count": null,
   "id": "6edf4676-0991-4f7c-99b9-c24cb789a593",
   "metadata": {},
   "outputs": [],
   "source": []
  },
  {
   "cell_type": "code",
   "execution_count": 148,
   "id": "2d5ca7f6-4e25-451b-b6cf-09ad2a8a634f",
   "metadata": {
    "tags": []
   },
   "outputs": [
    {
     "data": {
      "text/latex": [
       "$\\displaystyle {\\Psi}_{i + 1} = - \\Delta{X}^{2} \\omega^{2} {\\Psi}_{i} - {\\Psi}_{i - 1} + 2 {\\Psi}_{i}$"
      ],
      "text/plain": [
       "Eq(\\Psi[i + 1], -\\Delta{X}**2*\\omega**2*\\Psi[i] - \\Psi[i - 1] + 2*\\Psi[i])"
      ]
     },
     "execution_count": 148,
     "metadata": {},
     "output_type": "execute_result"
    }
   ],
   "source": [
    "eq = smp.Eq(Psi_discrete[i+1], smp.solve(tisa, Psi_discrete[i+1])[0])\n",
    "eq"
   ]
  },
  {
   "cell_type": "code",
   "execution_count": null,
   "id": "6084f7fc-5f03-4110-bf1d-824c4bb6bb4b",
   "metadata": {},
   "outputs": [],
   "source": []
  },
  {
   "cell_type": "code",
   "execution_count": null,
   "id": "831cd7da-36e7-4e3d-90e8-d4a39d83fae5",
   "metadata": {},
   "outputs": [],
   "source": []
  },
  {
   "cell_type": "code",
   "execution_count": null,
   "id": "a20d820b-b8e7-43b0-9abb-d76375a97fd2",
   "metadata": {},
   "outputs": [],
   "source": []
  },
  {
   "cell_type": "code",
   "execution_count": 149,
   "id": "bca12ec9-282a-42e4-9b5f-48eb0a80d0ac",
   "metadata": {
    "tags": []
   },
   "outputs": [
    {
     "data": {
      "text/latex": [
       "$\\displaystyle \\Psi{\\left(x \\right)} = C_{1} \\sin{\\left(\\omega x \\right)} + C_{2} \\cos{\\left(\\omega x \\right)}$"
      ],
      "text/plain": [
       "Eq(\\Psi(x), C1*sin(\\omega*x) + C2*cos(\\omega*x))"
      ]
     },
     "execution_count": 149,
     "metadata": {},
     "output_type": "execute_result"
    }
   ],
   "source": [
    "x0 = 0\n",
    "xa = a\n",
    "\n",
    "Psi_at_x0 = 0\n",
    "Psi_at_xa = 0\n",
    "\n",
    "gen_sol = smp.dsolve(diff_eq, Psi)\n",
    "gen_sol"
   ]
  },
  {
   "cell_type": "code",
   "execution_count": 150,
   "id": "a3f9d802-2c51-4d81-9cd5-5fb91f455db9",
   "metadata": {
    "tags": []
   },
   "outputs": [],
   "source": [
    "C1, C2 = smp.symbols('C1 C2')"
   ]
  },
  {
   "cell_type": "code",
   "execution_count": 151,
   "id": "3ae0d66f-c9f4-42f0-9f04-2e908c2144e5",
   "metadata": {
    "tags": []
   },
   "outputs": [
    {
     "data": {
      "text/latex": [
       "$\\displaystyle 0 = C_{2}$"
      ],
      "text/plain": [
       "Eq(0, C2)"
      ]
     },
     "execution_count": 151,
     "metadata": {},
     "output_type": "execute_result"
    }
   ],
   "source": [
    "Psi_at_0 = gen_sol.subs([\n",
    "    [Psi, Psi_at_x0],\n",
    "    [x, x0]\n",
    "])\n",
    "Psi_at_0"
   ]
  },
  {
   "cell_type": "code",
   "execution_count": 152,
   "id": "35ad6e64-ec70-432e-96c2-0306c5067c0c",
   "metadata": {
    "tags": []
   },
   "outputs": [
    {
     "data": {
      "text/latex": [
       "$\\displaystyle 0 = C_{1} \\sin{\\left(\\omega a \\right)}$"
      ],
      "text/plain": [
       "Eq(0, C1*sin(\\omega*a))"
      ]
     },
     "execution_count": 152,
     "metadata": {},
     "output_type": "execute_result"
    }
   ],
   "source": [
    "Psi_at_a = gen_sol.subs([\n",
    "    [C2, 0],\n",
    "    [Psi, Psi_at_xa],\n",
    "    [x, xa]\n",
    "])\n",
    "Psi_at_a"
   ]
  },
  {
   "cell_type": "code",
   "execution_count": 153,
   "id": "c2e8a1e8-8816-4513-99c2-3a9f8647083f",
   "metadata": {
    "tags": []
   },
   "outputs": [
    {
     "data": {
      "text/latex": [
       "$\\displaystyle \\omega a$"
      ],
      "text/plain": [
       "\\omega*a"
      ]
     },
     "execution_count": 153,
     "metadata": {},
     "output_type": "execute_result"
    }
   ],
   "source": [
    "argument0 = smp.asin(Psi_at_a.rhs/C1).simplify(inverse=True)\n",
    "argument0"
   ]
  },
  {
   "cell_type": "code",
   "execution_count": 154,
   "id": "004ded22-35d1-4f7c-a349-8efda2323888",
   "metadata": {
    "tags": []
   },
   "outputs": [],
   "source": [
    "n = smp.symbols('n', integer=True, positive=True)"
   ]
  },
  {
   "cell_type": "code",
   "execution_count": 155,
   "id": "258c01c8-3b30-4932-bab3-998c6c350864",
   "metadata": {
    "tags": []
   },
   "outputs": [
    {
     "data": {
      "text/latex": [
       "$\\displaystyle \\omega a = \\pi n$"
      ],
      "text/plain": [
       "Eq(\\omega*a, pi*n)"
      ]
     },
     "execution_count": 155,
     "metadata": {},
     "output_type": "execute_result"
    }
   ],
   "source": [
    "pre_E = smp.Eq(argument0, n*smp.pi)\n",
    "pre_E"
   ]
  },
  {
   "cell_type": "code",
   "execution_count": 156,
   "id": "c919737d-37f3-447a-98de-ea21496affe2",
   "metadata": {
    "tags": []
   },
   "outputs": [
    {
     "data": {
      "text/latex": [
       "$\\displaystyle \\frac{\\sqrt{2} \\sqrt{E} a \\sqrt{m}}{\\hbar} = \\pi n$"
      ],
      "text/plain": [
       "Eq(sqrt(2)*sqrt(E)*a*sqrt(m)/hbar, pi*n)"
      ]
     },
     "execution_count": 156,
     "metadata": {},
     "output_type": "execute_result"
    }
   ],
   "source": [
    "pre_E = pre_E.subs(omega, omega_explicit)\n",
    "pre_E"
   ]
  },
  {
   "cell_type": "code",
   "execution_count": 157,
   "id": "dcab9e1f-cdb7-4a75-a413-1d7345919308",
   "metadata": {
    "tags": []
   },
   "outputs": [
    {
     "data": {
      "text/latex": [
       "$\\displaystyle \\frac{\\hbar^{2} \\pi^{2} n^{2}}{2 a^{2} m}$"
      ],
      "text/plain": [
       "hbar**2*pi**2*n**2/(2*a**2*m)"
      ]
     },
     "execution_count": 157,
     "metadata": {},
     "output_type": "execute_result"
    }
   ],
   "source": [
    "energies = smp.solve(pre_E, E)[0]\n",
    "energies"
   ]
  },
  {
   "cell_type": "code",
   "execution_count": null,
   "id": "aa58b1bc-d464-4ee5-9bd8-e473f9a0e8ab",
   "metadata": {},
   "outputs": [],
   "source": [
    "energies"
   ]
  },
  {
   "cell_type": "code",
   "execution_count": 158,
   "id": "54dedc9a-16c9-48c4-83ff-276b4c4247a5",
   "metadata": {
    "tags": []
   },
   "outputs": [],
   "source": [
    "energies_f = smp.lambdify((a, n, m), energies, 'numpy')"
   ]
  },
  {
   "cell_type": "code",
   "execution_count": 159,
   "id": "38c9140f-5a5b-4f05-aa59-05e1f607f275",
   "metadata": {
    "tags": []
   },
   "outputs": [
    {
     "data": {
      "text/latex": [
       "$\\displaystyle \\Psi{\\left(x \\right)} = C_{1} \\sin{\\left(\\omega x \\right)} + C_{2} \\cos{\\left(\\omega x \\right)}$"
      ],
      "text/plain": [
       "Eq(\\Psi(x), C1*sin(\\omega*x) + C2*cos(\\omega*x))"
      ]
     },
     "execution_count": 159,
     "metadata": {},
     "output_type": "execute_result"
    }
   ],
   "source": [
    "gen_sol"
   ]
  },
  {
   "cell_type": "code",
   "execution_count": 19,
   "id": "fae66fe5-09fe-4dd5-8b74-ffa79ac343e5",
   "metadata": {
    "tags": []
   },
   "outputs": [
    {
     "data": {
      "text/latex": [
       "$\\displaystyle \\Psi{\\left(x \\right)} = C_{1} \\sin{\\left(\\frac{\\pi n x}{a} \\right)}$"
      ],
      "text/plain": [
       "Eq(\\Psi(x), C1*sin(pi*n*x/a))"
      ]
     },
     "execution_count": 19,
     "metadata": {},
     "output_type": "execute_result"
    }
   ],
   "source": [
    "particular_sol = gen_sol.subs([\n",
    "    [C2, 0],\n",
    "    [omega, omega_explicit],\n",
    "    [E, energies]\n",
    "])\n",
    "particular_sol"
   ]
  },
  {
   "cell_type": "code",
   "execution_count": 20,
   "id": "f0b0ece3-645d-405a-ac0c-014207a1eefc",
   "metadata": {
    "tags": []
   },
   "outputs": [
    {
     "data": {
      "text/latex": [
       "$\\displaystyle C_{1} \\sin^{2}{\\left(\\frac{\\pi n x}{a} \\right)} \\overline{C_{1}}$"
      ],
      "text/plain": [
       "C1*sin(pi*n*x/a)**2*conjugate(C1)"
      ]
     },
     "execution_count": 20,
     "metadata": {},
     "output_type": "execute_result"
    }
   ],
   "source": [
    "integrand = particular_sol.rhs.conjugate() * particular_sol.rhs\n",
    "integrand"
   ]
  },
  {
   "cell_type": "code",
   "execution_count": 21,
   "id": "1193d058-b979-442d-b08d-0155d4bab05e",
   "metadata": {
    "tags": []
   },
   "outputs": [
    {
     "data": {
      "text/latex": [
       "$\\displaystyle \\frac{C_{1} a \\overline{C_{1}}}{2}$"
      ],
      "text/plain": [
       "C1*a*conjugate(C1)/2"
      ]
     },
     "execution_count": 21,
     "metadata": {},
     "output_type": "execute_result"
    }
   ],
   "source": [
    "integral = smp.integrate(integrand, (x, 0, a))\n",
    "integral"
   ]
  },
  {
   "cell_type": "code",
   "execution_count": 22,
   "id": "bd097dd3-7c2b-4b45-8e0f-0347e9ffdf5c",
   "metadata": {
    "tags": []
   },
   "outputs": [
    {
     "data": {
      "text/latex": [
       "$\\displaystyle \\frac{C_{1} a \\overline{C_{1}}}{2} = 1$"
      ],
      "text/plain": [
       "Eq(C1*a*conjugate(C1)/2, 1)"
      ]
     },
     "execution_count": 22,
     "metadata": {},
     "output_type": "execute_result"
    }
   ],
   "source": [
    "pre_norm_factor = smp.Eq(integral, 1)\n",
    "pre_norm_factor"
   ]
  },
  {
   "cell_type": "code",
   "execution_count": 23,
   "id": "57af36a4-f60c-43f6-8210-d3bb3d3889cb",
   "metadata": {
    "tags": []
   },
   "outputs": [
    {
     "data": {
      "text/latex": [
       "$\\displaystyle \\frac{\\sqrt{2}}{\\sqrt{a}}$"
      ],
      "text/plain": [
       "sqrt(2)/sqrt(a)"
      ]
     },
     "execution_count": 23,
     "metadata": {},
     "output_type": "execute_result"
    }
   ],
   "source": [
    "norm_factor = smp.solve(pre_norm_factor, C1)[1]\n",
    "norm_factor"
   ]
  },
  {
   "cell_type": "code",
   "execution_count": 24,
   "id": "794c0d00-901b-469e-b432-e64990db7ce4",
   "metadata": {
    "tags": []
   },
   "outputs": [
    {
     "data": {
      "text/latex": [
       "$\\displaystyle \\frac{\\sqrt{2} \\sin{\\left(\\frac{\\pi n x}{a} \\right)}}{\\sqrt{a}}$"
      ],
      "text/plain": [
       "sqrt(2)*sin(pi*n*x/a)/sqrt(a)"
      ]
     },
     "execution_count": 24,
     "metadata": {},
     "output_type": "execute_result"
    }
   ],
   "source": [
    "normalized_sol = particular_sol.subs(C1, norm_factor).rhs\n",
    "normalized_sol"
   ]
  },
  {
   "cell_type": "code",
   "execution_count": 25,
   "id": "61195355-37aa-4791-9778-b2931c8efe4c",
   "metadata": {},
   "outputs": [],
   "source": [
    "sol_f = smp.lambdify((a, n, x), normalized_sol, 'numpy')"
   ]
  },
  {
   "cell_type": "code",
   "execution_count": 26,
   "id": "1656b682-b273-45a3-976c-9e60419e02ec",
   "metadata": {
    "tags": []
   },
   "outputs": [
    {
     "data": {
      "text/latex": [
       "$\\displaystyle \\frac{2 \\sin^{2}{\\left(\\frac{\\pi n x}{a} \\right)}}{a}$"
      ],
      "text/plain": [
       "2*sin(pi*n*x/a)**2/a"
      ]
     },
     "execution_count": 26,
     "metadata": {},
     "output_type": "execute_result"
    }
   ],
   "source": [
    "prob_n = normalized_sol * normalized_sol.conjugate()\n",
    "prob_n"
   ]
  },
  {
   "cell_type": "code",
   "execution_count": 27,
   "id": "e789cd30-bb59-4a00-a395-4b2cdbad59c9",
   "metadata": {
    "tags": []
   },
   "outputs": [
    {
     "data": {
      "text/latex": [
       "$\\displaystyle 1$"
      ],
      "text/plain": [
       "1"
      ]
     },
     "execution_count": 27,
     "metadata": {},
     "output_type": "execute_result"
    }
   ],
   "source": [
    "smp.integrate(prob_n, (x, 0, a))"
   ]
  },
  {
   "cell_type": "code",
   "execution_count": 28,
   "id": "a09ad56a-89e5-4f97-ad59-8ba1db9cf3f6",
   "metadata": {
    "tags": []
   },
   "outputs": [],
   "source": [
    "prob_n_f = smp.lambdify((a, n, x), prob_n, 'numpy')"
   ]
  },
  {
   "cell_type": "code",
   "execution_count": 29,
   "id": "3e135351-9230-4691-af86-3a15ab81f559",
   "metadata": {
    "tags": []
   },
   "outputs": [],
   "source": [
    "m_num = 9.1093837015e-31\n",
    "a_num = 1\n",
    "points = 1001\n",
    "\n",
    "x_num = np.linspace(x0, a_num, points)"
   ]
  },
  {
   "cell_type": "code",
   "execution_count": 30,
   "id": "c46a0a4b-ed36-4d7e-83bd-547aaca0cbc1",
   "metadata": {
    "tags": []
   },
   "outputs": [],
   "source": [
    "n_num = 5\n",
    "i = 0\n",
    "solutions = []\n",
    "probs = []\n",
    "energies_list = []\n",
    "\n",
    "while i < n_num:\n",
    "    \n",
    "    i += 1    \n",
    "    \n",
    "    solutions.append(sol_f(a=a_num, n=i, x=x_num))\n",
    "    probs.append(prob_n_f(a=a_num, n=i, x=x_num))\n",
    "    energies_list.append(energies_f(a=a_num, n=i, m=m_num))\n"
   ]
  },
  {
   "cell_type": "code",
   "execution_count": 34,
   "id": "46e8181f-eb92-4aa6-bd73-badc9985dc6e",
   "metadata": {
    "tags": []
   },
   "outputs": [
    {
     "data": {
      "image/png": "[encoded data removed]",
      "text/plain": [
       "<Figure size 1200x800 with 1 Axes>"
      ]
     },
     "metadata": {},
     "output_type": "display_data"
    }
   ],
   "source": [
    "plt.figure(figsize=(12, 8))\n",
    "\n",
    "for i in range(n_num):\n",
    "    plt.plot(x_num, solutions[i], lw=2, label=f'n={i+1}')\n",
    "    \n",
    "\n",
    "plt.ylabel(r'$\\psi(x)$')\n",
    "plt.xlabel(r'x')\n",
    "plt.legend()\n",
    "plt.grid()\n",
    "plt.show()"
   ]
  },
  {
   "cell_type": "code",
   "execution_count": null,
   "id": "9b93334e-58c2-42fd-b07d-0e686d17c739",
   "metadata": {
    "tags": []
   },
   "outputs": [],
   "source": [
    "plt.figure(figsize=(12, 8))\n",
    "\n",
    "for i in range(len(solutions)):\n",
    "    plt.plot(x_num, probs[i], lw=3, label=f'n={i+1}')\n",
    "\n",
    "plt.legend()\n",
    "plt.grid()\n",
    "plt.show()"
   ]
  },
  {
   "cell_type": "code",
   "execution_count": null,
   "id": "11cc2eb2-c51c-4d08-83d9-d51262f067bb",
   "metadata": {
    "tags": []
   },
   "outputs": [],
   "source": [
    "n_list = np.arange(1, n_num+1, 1)\n",
    "\n",
    "plt.figure(figsize=(12, 8))\n",
    "\n",
    "plt.scatter(n_list, energies_list, s=100, c='red')\n",
    "\n",
    "plt.grid()\n",
    "plt.show()"
   ]
  },
  {
   "cell_type": "code",
   "execution_count": null,
   "id": "17d5d8ad-3fe5-4cb3-99c7-526fd245dddb",
   "metadata": {
    "tags": []
   },
   "outputs": [],
   "source": [
    "normalized_sol"
   ]
  },
  {
   "cell_type": "code",
   "execution_count": null,
   "id": "a1f66e2d-a7c5-454e-8984-847ceda3f1ab",
   "metadata": {
    "tags": []
   },
   "outputs": [],
   "source": [
    "i = smp.symbols('i', integer=True, positive=True)\n",
    "integrand = normalized_sol.subs(n, i) * normalized_sol\n",
    "dummy1 = smp.Integral(integrand, (x, 0, a))\n",
    "dummy1"
   ]
  },
  {
   "cell_type": "code",
   "execution_count": null,
   "id": "8259df78-1638-4e4b-8adf-95ed5f796f26",
   "metadata": {
    "tags": []
   },
   "outputs": [],
   "source": [
    "dummy1.doit()"
   ]
  },
  {
   "cell_type": "markdown",
   "id": "58c705d6-8364-417d-a9a4-4b7cb447463e",
   "metadata": {},
   "source": [
    "$$\\Psi(\\vec{r}, t) =  \\sum_{n=1}^{\\infty} c_{n}\\psi_{n}(\\vec{r}) e^{-i\\frac{E_{n}t}{\\hbar}}$$"
   ]
  },
  {
   "cell_type": "code",
   "execution_count": null,
   "id": "b3e6136d-1ba9-44f3-b33c-47e67591b7e7",
   "metadata": {
    "tags": []
   },
   "outputs": [],
   "source": [
    "C = smp.IndexedBase('C')[n]"
   ]
  },
  {
   "cell_type": "code",
   "execution_count": null,
   "id": "bb9e663b-f2b3-4ae4-9ec7-aaf7c179ccb8",
   "metadata": {
    "tags": []
   },
   "outputs": [],
   "source": [
    "time_sol_n = C * normalized_sol * smp.exp(-smp.I * energies * t / hbar)\n",
    "time_sol_n"
   ]
  },
  {
   "cell_type": "code",
   "execution_count": null,
   "id": "2389a1dc-6c3a-40be-b91a-089ce8fc2dd7",
   "metadata": {
    "tags": []
   },
   "outputs": [],
   "source": [
    "general_time_sol = smp.Sum(time_sol_n, (n, 1, smp.oo))\n",
    "general_time_sol"
   ]
  },
  {
   "cell_type": "markdown",
   "id": "6bceec65-bc31-4303-b438-1c14087d2722",
   "metadata": {},
   "source": [
    "$$C_{n} = \\int \\Psi_{n}\\Psi(x, 0)dx$$"
   ]
  },
  {
   "cell_type": "markdown",
   "id": "7f4c2657-5fba-42c9-86bf-147e27880ad6",
   "metadata": {},
   "source": [
    "**Ejemplo**: <br> <br>\n",
    "La ecuación de onda inicial, es un estado estacionario o excitado puro con nivel de energía $n$ <br> <br>"
   ]
  },
  {
   "cell_type": "code",
   "execution_count": null,
   "id": "d86f0986-7b6b-4d4b-8c83-82112e41d026",
   "metadata": {
    "tags": []
   },
   "outputs": [],
   "source": [
    "C = smp.IndexedBase('C')"
   ]
  },
  {
   "cell_type": "code",
   "execution_count": null,
   "id": "c0276520-08d4-4cb8-a0d3-e3a5e786a15e",
   "metadata": {},
   "outputs": [],
   "source": [
    "example = time_sol_n.subs(C[n], C[1])\n",
    "example"
   ]
  },
  {
   "cell_type": "code",
   "execution_count": null,
   "id": "c8d8f75d-bd4d-4a71-aeb9-a646bc92019c",
   "metadata": {},
   "outputs": [],
   "source": [
    "integrand = example.conjugate() * example\n",
    "integrand"
   ]
  },
  {
   "cell_type": "code",
   "execution_count": null,
   "id": "9148e41d-38fc-4b6f-83b6-d44633cb466d",
   "metadata": {},
   "outputs": [],
   "source": [
    "integral = smp.integrate(integrand, (x, 0, a))\n",
    "integral"
   ]
  },
  {
   "cell_type": "code",
   "execution_count": null,
   "id": "72970340-fd7d-4166-9233-44417dbb3406",
   "metadata": {
    "tags": []
   },
   "outputs": [],
   "source": [
    "pre_C = smp.Eq(integral, 1)\n",
    "pre_C"
   ]
  },
  {
   "cell_type": "code",
   "execution_count": null,
   "id": "faed8cd8-cd63-46ae-9cae-ef35387c931c",
   "metadata": {
    "tags": []
   },
   "outputs": [],
   "source": [
    "C_explicit = smp.solve(pre_C, C[1])[1]\n",
    "C_explicit"
   ]
  },
  {
   "cell_type": "code",
   "execution_count": null,
   "id": "ba0f6292-6726-4523-9fef-5ddd0feebdda",
   "metadata": {
    "tags": []
   },
   "outputs": [],
   "source": [
    "example_sol = example.subs(C[1], C_explicit)\n",
    "example_sol"
   ]
  },
  {
   "cell_type": "code",
   "execution_count": null,
   "id": "c2f2d7e6-bf42-4869-a4c6-409d0d4eb338",
   "metadata": {
    "tags": []
   },
   "outputs": [],
   "source": [
    "integrand = example_sol.conjugate() * example_sol\n",
    "integrand"
   ]
  },
  {
   "cell_type": "code",
   "execution_count": null,
   "id": "9631a428-0f8d-47b2-890b-a7d88502a9d4",
   "metadata": {
    "tags": []
   },
   "outputs": [],
   "source": [
    "smp.integrate(integrand, (x, 0, a))"
   ]
  },
  {
   "cell_type": "markdown",
   "id": "66e14170-1614-4a38-83fd-5fc5e4779066",
   "metadata": {},
   "source": [
    "Calcularemos el valor esperado (media o promedio) de la posición, momento y energía. <br> <br>\n",
    "Para ello recordaremos la forma de estos operadores: <br> <br>\n",
    "$$X = x$$\n",
    "$$p = -i\\hbar \\frac{\\partial}{\\partial x}$$\n",
    "$$H = \\frac{1}{2m}p^{2} = -\\frac{\\hbar^{2}}{2m}\\frac{\\partial^{2}}{\\partial^{2} x}$$"
   ]
  },
  {
   "cell_type": "markdown",
   "id": "8c7a8b4a-be56-4682-9e25-038e9ab673fd",
   "metadata": {},
   "source": [
    "Valor esperado o media: <br> <br>\n",
    "\n",
    "$$<A> = \\int_{-\\infty}^{\\infty} \\Psi^{*}(x, t) A \\Psi(x, t)$$ <br> <br>\n",
    "\n",
    "Como estamos tratando con un potencial infinito, solo tendremos que integrar de $x=0$ a $x=a$"
   ]
  },
  {
   "cell_type": "markdown",
   "id": "a2c0cb61-021f-4f3a-9f66-9e23faca3098",
   "metadata": {},
   "source": [
    "Incertidumbre o desviación estándar: <br> <br>\n",
    "\n",
    "$$\\Delta A = \\sqrt{<A^{2}> - <A>^{2}}$$"
   ]
  },
  {
   "cell_type": "code",
   "execution_count": null,
   "id": "96227564-71f4-4756-bbae-e7085476f527",
   "metadata": {
    "tags": []
   },
   "outputs": [],
   "source": [
    "# Valor esperado de la posición\n",
    "\n",
    "x_integrand = example_sol.conjugate() * x * example_sol\n",
    "x_integrand"
   ]
  },
  {
   "cell_type": "code",
   "execution_count": null,
   "id": "1d453aab-e30a-4c16-8221-8108531d9641",
   "metadata": {
    "tags": []
   },
   "outputs": [],
   "source": [
    "avg_x = smp.integrate(x_integrand, (x, 0, a)).simplify()\n",
    "avg_x"
   ]
  },
  {
   "cell_type": "code",
   "execution_count": null,
   "id": "de99c889-1367-4477-b5e5-1696150702bc",
   "metadata": {},
   "outputs": [],
   "source": [
    "# Desviación estándar de la posición\n",
    "\n",
    "x_squared_integrand = example_sol.conjugate() * (x**2) * example_sol\n",
    "avg_xsquared = smp.integrate(x_squared_integrand, (x, 0, a)).simplify()\n",
    "\n",
    "x_std = smp.sqrt(avg_xsquared - avg_x**2).simplify(force=True)\n",
    "x_std"
   ]
  },
  {
   "cell_type": "code",
   "execution_count": null,
   "id": "f7de175c-bdc1-4486-b013-f7792e636dae",
   "metadata": {},
   "outputs": [],
   "source": [
    "# Nuestra incertidumbre converge\n",
    "\n",
    "smp.Limit(x_std, n, smp.oo).doit()"
   ]
  },
  {
   "cell_type": "code",
   "execution_count": null,
   "id": "008f9eaf-52ed-4cd2-83e1-256fee348eaa",
   "metadata": {
    "tags": []
   },
   "outputs": [],
   "source": [
    "# Valor esperado del momento\n",
    "\n",
    "p_integrand = example_sol.conjugate() * (-smp.I*hbar) * example_sol.diff(x)\n",
    "p_integrand"
   ]
  },
  {
   "cell_type": "code",
   "execution_count": null,
   "id": "a48532b0-6c7a-45ab-a77b-a5f41e2564cc",
   "metadata": {
    "tags": []
   },
   "outputs": [],
   "source": [
    "avg_p = smp.integrate(p_integrand, (x, 0, a))\n",
    "avg_p"
   ]
  },
  {
   "cell_type": "code",
   "execution_count": null,
   "id": "9df71cb3-4c1f-41f9-b219-5f21879aeff9",
   "metadata": {},
   "outputs": [],
   "source": [
    "# Desviación estándar del momento\n",
    "p_squared_integrand = example_sol.conjugate() * ((-smp.I*hbar)**2) * example_sol.diff(x, 2)\n",
    "avg_psquared = smp.integrate(p_squared_integrand, (x, 0, a))\n",
    "p_std = smp.sqrt(avg_psquared - avg_p**2).simplify(force=True)\n",
    "p_std"
   ]
  },
  {
   "cell_type": "code",
   "execution_count": null,
   "id": "c6158a70-f532-44a3-9bf6-df0b6226a6ea",
   "metadata": {
    "tags": []
   },
   "outputs": [],
   "source": [
    "# Valor esperado de la energía\n",
    "\n",
    "H_integrand = example_sol.conjugate() * (-(hbar**2)/(2*m)) * example_sol.diff(x, 2)\n",
    "H_integrand"
   ]
  },
  {
   "cell_type": "code",
   "execution_count": null,
   "id": "f927cd9e-abd6-4b21-9b86-d6d11c37eca3",
   "metadata": {
    "tags": []
   },
   "outputs": [],
   "source": [
    "avg_H = smp.integrate(H_integrand, (x, 0, a))\n",
    "avg_H"
   ]
  },
  {
   "cell_type": "code",
   "execution_count": null,
   "id": "b40cc284-b46c-4d34-a3c2-1833fb3e6966",
   "metadata": {
    "tags": []
   },
   "outputs": [],
   "source": [
    "# Desviación estándar de la energía\n",
    "H_squared_integrand = example_sol.conjugate()*((-(hbar**2)/(2*m))**2)*example_sol.diff(x, 4)\n",
    "avg_Hsquared = smp.integrate(H_squared_integrand, (x, 0, a))\n",
    "H_std = smp.sqrt(avg_Hsquared - avg_H**2).simplify(force=True)\n",
    "H_std"
   ]
  },
  {
   "cell_type": "markdown",
   "id": "5260b30f-d524-4071-a54d-39f10a0897c7",
   "metadata": {},
   "source": [
    "**Ejemplo**: <br> <br>\n",
    "Sia ecuación de onda inicial, es una combinación lineal de diferentes estados puros y diferentes entre si además se considera que todos contribuyen en \"partes iguales\" a la función de onda, entonces: <br> <br>\n",
    "\n",
    "$$\\Psi(x, 0) = C_{n_{1}}\\Psi_{n_{1}} + C_{n_{2}}\\Psi_{n_{2}} + C_{n_{3}}\\Psi_{n_{3}} + ... + C_{n_{i}}\\Psi_{n_{i}}$$ <br> <br>\n",
    "$$\\implies C_{n_{1}}^{2} + C_{n_{2}}^{2} + C_{n_{3}}^{2} + ... + C_{n_{i}}^{2} = 1$$\n",
    "\n",
    "Donde $i$ es el iésimo estado y va de $1$ a $n$. <br> <br>\n",
    "\n",
    "Como los estados contribuyen en la misma magnitud entonces: <br> <br>\n",
    "\n",
    "$$\\implies C_{n_{1}}^{2} + C_{n_{2}}^{2} + C_{n_{3}}^{2} + ... + C_{n_{i}}^{2} = iA^{2} = 1$$\n",
    "\n",
    "$$\\implies A = \\sqrt{1/i}$$"
   ]
  },
  {
   "cell_type": "markdown",
   "id": "a5be22b7-b0b4-4a7d-a933-5a67218f5b05",
   "metadata": {},
   "source": [
    "Esto se debe a que el sistema debe cumplir que: <br> <br>\n",
    "\n",
    "$$\\int_{-\\infty}^{\\infty} \\Psi^{*}\\Psi dx = 1 $$"
   ]
  },
  {
   "cell_type": "code",
   "execution_count": null,
   "id": "1b07e248-8a54-4987-9f98-f40cbed7f4bf",
   "metadata": {
    "tags": []
   },
   "outputs": [],
   "source": [
    "# Ejemplo: Función de onda inicial que es combinación de tres estados puros diferentes\n",
    "\n",
    "l = smp.symbols('l', integer=True, positive=True)\n",
    "example = time_sol_n + time_sol_n.subs(n, i) + time_sol_n.subs(n, l)\n",
    "example"
   ]
  },
  {
   "cell_type": "code",
   "execution_count": null,
   "id": "f67fd996-9f38-4ce9-a2e5-c65d8594513e",
   "metadata": {
    "tags": []
   },
   "outputs": [],
   "source": [
    "integrand = (example.conjugate() * example).expand().powsimp()\n",
    "integrand"
   ]
  },
  {
   "cell_type": "code",
   "execution_count": null,
   "id": "076fa72b-9d4e-463a-92d5-b084147fb36b",
   "metadata": {
    "tags": []
   },
   "outputs": [],
   "source": [
    "A = smp.symbols('A')\n",
    "dummy = smp.Eq(3*A**2, 1)\n",
    "dummy"
   ]
  },
  {
   "cell_type": "code",
   "execution_count": null,
   "id": "5ae5bd40-ba6e-45ed-8c58-3d6fc5574598",
   "metadata": {
    "tags": []
   },
   "outputs": [],
   "source": [
    "A_explicit = smp.solve(dummy, A)[1]\n",
    "A_explicit"
   ]
  },
  {
   "cell_type": "code",
   "execution_count": null,
   "id": "2d35c212-8ea3-4dfc-9f20-039557b15263",
   "metadata": {
    "tags": []
   },
   "outputs": [],
   "source": [
    "sol_example = example.subs([\n",
    "    [C[n], A_explicit],\n",
    "    [C[l], A_explicit],\n",
    "    [C[i], A_explicit]\n",
    "])\n",
    "sol_example"
   ]
  },
  {
   "cell_type": "code",
   "execution_count": null,
   "id": "a4aad1fd-75e0-4dbb-913b-91d4ad3f7c68",
   "metadata": {
    "tags": []
   },
   "outputs": [],
   "source": [
    "dummy = 0\n",
    "\n",
    "for i in sol_example.args:\n",
    "    dummy += i.conjugate()*i\n",
    "\n",
    "dummy"
   ]
  },
  {
   "cell_type": "code",
   "execution_count": null,
   "id": "0af6f41a-7b14-480e-bf8c-6c83d8e3e864",
   "metadata": {
    "tags": []
   },
   "outputs": [],
   "source": [
    "smp.integrate(dummy, (x, 0, a))"
   ]
  },
  {
   "cell_type": "markdown",
   "id": "b5255ed5-4648-4729-9c65-e0bec0621363",
   "metadata": {},
   "source": [
    "**Ejemplo**: <br> <br>\n",
    "La ecuación de onda inicial es: $Ax(a-x)$<br> <br>"
   ]
  },
  {
   "cell_type": "code",
   "execution_count": null,
   "id": "7975d3b1-905b-4cd7-8d3a-7d0feb0f7e2c",
   "metadata": {
    "tags": []
   },
   "outputs": [],
   "source": [
    "A = smp.symbols('A')\n",
    "example_func = A*x*(a-x)\n",
    "example_func"
   ]
  },
  {
   "cell_type": "code",
   "execution_count": null,
   "id": "481eb896-bd84-4070-88d3-db078eadfa80",
   "metadata": {
    "tags": []
   },
   "outputs": [],
   "source": [
    "integrand = example_func.conjugate() * example_func\n",
    "integrand"
   ]
  },
  {
   "cell_type": "code",
   "execution_count": null,
   "id": "b83735f3-6949-4efc-9a75-6badbf3bd63b",
   "metadata": {
    "tags": []
   },
   "outputs": [],
   "source": [
    "dummy3 = smp.integrate(integrand, (x, 0, a))\n",
    "dummy3"
   ]
  },
  {
   "cell_type": "code",
   "execution_count": null,
   "id": "bfbbc857-dc2b-46a3-a76c-2d2407f5977d",
   "metadata": {
    "tags": []
   },
   "outputs": [],
   "source": [
    "dummy_Eq = smp.Eq(dummy3, 1)\n",
    "dummy_Eq"
   ]
  },
  {
   "cell_type": "code",
   "execution_count": null,
   "id": "ab3fad08-2438-4e08-903a-431b104c5122",
   "metadata": {
    "tags": []
   },
   "outputs": [],
   "source": [
    "A_explicit = smp.solve(dummy_Eq, A)[1]\n",
    "A_explicit"
   ]
  },
  {
   "cell_type": "code",
   "execution_count": null,
   "id": "d64313e8-af1b-4395-8fd7-13df93b4e541",
   "metadata": {
    "tags": []
   },
   "outputs": [],
   "source": [
    "example_func = example_func.subs(A, A_explicit)\n",
    "example_func"
   ]
  },
  {
   "cell_type": "code",
   "execution_count": null,
   "id": "9f1aa794-ad84-4f31-ae53-d0020d5749c7",
   "metadata": {
    "tags": []
   },
   "outputs": [],
   "source": [
    "integrand = example_func.conjugate() * example_func\n",
    "smp.integrate(integrand, (x, 0, a))"
   ]
  },
  {
   "cell_type": "markdown",
   "id": "f3727172-4632-44f5-a5da-0ce3af4d65ca",
   "metadata": {},
   "source": [
    "$$C_{n} = \\int \\Psi_{n}\\Psi(x, 0)dx$$"
   ]
  },
  {
   "cell_type": "code",
   "execution_count": null,
   "id": "9790581b-dad4-4334-b666-268397e3bf00",
   "metadata": {
    "tags": []
   },
   "outputs": [],
   "source": [
    "integrand = normalized_sol * example_func\n",
    "integrand"
   ]
  },
  {
   "cell_type": "code",
   "execution_count": null,
   "id": "86747032-5fb9-4faf-9352-c4f536aede55",
   "metadata": {
    "tags": []
   },
   "outputs": [],
   "source": [
    "Cn = smp.integrate(integrand, (x, 0, a)).simplify()\n",
    "Cn"
   ]
  },
  {
   "cell_type": "code",
   "execution_count": null,
   "id": "cd3fdbb6-31c5-48a6-a3d9-d211fa3a4b06",
   "metadata": {
    "tags": []
   },
   "outputs": [],
   "source": [
    "example_sol_n = time_sol_n.subs(C[n], Cn)\n",
    "example_sol_n"
   ]
  },
  {
   "cell_type": "code",
   "execution_count": null,
   "id": "ab09c1ca-517e-4d1b-980d-17dd27a93223",
   "metadata": {
    "tags": []
   },
   "outputs": [],
   "source": [
    "smp.Sum(example_sol_n, (n, 1, smp.oo))"
   ]
  },
  {
   "cell_type": "code",
   "execution_count": null,
   "id": "2cb5d250-58a1-4458-af67-9eaa6708165f",
   "metadata": {
    "tags": []
   },
   "outputs": [],
   "source": [
    "# Comprobar normalización. Parte 1\n",
    "\n",
    "integrand = example_sol_n.conjugate() * example_sol_n\n",
    "integral = smp.integrate(integrand, (x, 0, a))\n",
    "integral"
   ]
  },
  {
   "cell_type": "code",
   "execution_count": null,
   "id": "1ec0055d-a901-4580-a52d-ff9346789460",
   "metadata": {
    "tags": []
   },
   "outputs": [],
   "source": [
    "# Comprobar normalización. Parte 2\n",
    "\n",
    "summation = smp.Sum(integral, (n, 1, smp.oo))\n",
    "summation"
   ]
  },
  {
   "cell_type": "code",
   "execution_count": null,
   "id": "60b81e36-c497-4d02-8470-cdf6761953cc",
   "metadata": {
    "tags": []
   },
   "outputs": [],
   "source": [
    "summation.doit()"
   ]
  },
  {
   "cell_type": "code",
   "execution_count": null,
   "id": "cfab6900-fed6-4f4c-bc97-8f01e4643f6c",
   "metadata": {
    "tags": []
   },
   "outputs": [],
   "source": [
    "# Valor esperado de la posición\n",
    "\n",
    "x_integrand = example_sol_n.conjugate() * x * example_sol_n\n",
    "x_integrand"
   ]
  },
  {
   "cell_type": "code",
   "execution_count": null,
   "id": "f9c2f991-8e09-48fa-a2cc-3f609471bce5",
   "metadata": {
    "tags": []
   },
   "outputs": [],
   "source": [
    "expected_x_n = smp.integrate(x_integrand, (x, 0, a)).simplify(force=True)\n",
    "expected_x_n"
   ]
  },
  {
   "cell_type": "code",
   "execution_count": null,
   "id": "58c09008-8041-40c8-891a-720a779ce10b",
   "metadata": {
    "tags": []
   },
   "outputs": [],
   "source": [
    "expected_x = smp.Sum(expected_x_n, (n, 1, smp.oo))\n",
    "expected_x"
   ]
  },
  {
   "cell_type": "code",
   "execution_count": null,
   "id": "ce0f39a4-9246-412f-a582-4d7887169f13",
   "metadata": {
    "tags": []
   },
   "outputs": [],
   "source": [
    "expected_x.doit()"
   ]
  },
  {
   "cell_type": "code",
   "execution_count": null,
   "id": "ff968e00-fe86-4d2e-bf74-9d1b08a853a8",
   "metadata": {
    "tags": []
   },
   "outputs": [],
   "source": [
    "# Valor esperado del momento\n",
    "\n",
    "p_integrand = example_sol_n.conjugate() * (-smp.I*hbar) * example_sol_n.diff(x)\n",
    "p_integrand"
   ]
  },
  {
   "cell_type": "code",
   "execution_count": null,
   "id": "7d89bb9b-e774-4335-8497-23d31fad9276",
   "metadata": {
    "tags": []
   },
   "outputs": [],
   "source": [
    "smp.integrate(p_integrand, (x, 0, a)).simplify(force=True)"
   ]
  },
  {
   "cell_type": "code",
   "execution_count": null,
   "id": "1191c4db-339a-4488-a9b5-98c2754f6e3d",
   "metadata": {
    "tags": []
   },
   "outputs": [],
   "source": [
    "# Valor esperado de la energía\n",
    "\n",
    "H_integrand = example_sol_n.conjugate() * (-(hbar**2)/(2*m)) * example_sol_n.diff(x, 2)\n",
    "H_integrand"
   ]
  },
  {
   "cell_type": "code",
   "execution_count": null,
   "id": "6e9782e1-8327-447b-bdc4-e4c0e55cbc73",
   "metadata": {
    "tags": []
   },
   "outputs": [],
   "source": [
    "expected_H_n = smp.integrate(H_integrand, (x, 0, a)).simplify(force=True)\n",
    "expected_H_n"
   ]
  },
  {
   "cell_type": "code",
   "execution_count": null,
   "id": "9aa6ce2f-0065-4f8c-b787-763fea136a56",
   "metadata": {
    "tags": []
   },
   "outputs": [],
   "source": [
    "expected_H = smp.Sum(expected_H_n, (n, 1, smp.oo))\n",
    "expected_H"
   ]
  },
  {
   "cell_type": "code",
   "execution_count": null,
   "id": "acbf390a-e4da-4521-9bc3-11b032f9893f",
   "metadata": {
    "tags": []
   },
   "outputs": [],
   "source": [
    "expected_H.doit()"
   ]
  },
  {
   "cell_type": "code",
   "execution_count": null,
   "id": "fd149007-46d3-4c58-af0c-2fb44cff5d5b",
   "metadata": {
    "tags": []
   },
   "outputs": [],
   "source": [
    "energies.subs(n, 1)"
   ]
  },
  {
   "cell_type": "code",
   "execution_count": null,
   "id": "b28ce916-b148-4c4d-b372-8118986ed7c6",
   "metadata": {
    "tags": []
   },
   "outputs": [],
   "source": [
    "expected_H.doit() / energies.subs(n, 1)"
   ]
  },
  {
   "cell_type": "code",
   "execution_count": null,
   "id": "81cab2c3-b8d4-41f9-947d-591332fb10a3",
   "metadata": {
    "tags": []
   },
   "outputs": [],
   "source": [
    "(expected_H.doit() / energies.subs(n, 1)).n(15)"
   ]
  },
  {
   "cell_type": "code",
   "execution_count": null,
   "id": "87534026-92b3-483b-ae79-101980e6cad8",
   "metadata": {},
   "outputs": [],
   "source": []
  }
 ],
 "metadata": {
  "kernelspec": {
   "display_name": "Python 3 (ipykernel)",
   "language": "python",
   "name": "python3"
  },
  "language_info": {
   "codemirror_mode": {
    "name": "ipython",
    "version": 3
   },
   "file_extension": ".py",
   "mimetype": "text/x-python",
   "name": "python",
   "nbconvert_exporter": "python",
   "pygments_lexer": "ipython3",
   "version": "3.11.3"
  }
 },
 "nbformat": 4,
 "nbformat_minor": 5
}
