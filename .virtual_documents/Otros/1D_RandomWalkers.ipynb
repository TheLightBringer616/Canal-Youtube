import random
import copy

import numpy as np

from numba import jit, njit, cuda, prange

import matplotlib.pyplot as plt





steps = int(1e5)


X = [0]*(steps+1)
T = [i for i in range(steps + 1)]


for i in range(steps):
    rand = random.uniform(0, 1) - 0.5
    rand /= abs(rand)

    X[i+1] = X[i] + rand


plt.figure(figsize = (16, 8))
plt.plot(T, X)
plt.show()





generator = np.random.default_rng()
n_steps = int(4e7)


steps = generator.random(n_steps) - 0.5
steps /= np.abs(steps)


T = np.arange(n_steps + 1)
X = np.insert(np.cumsum(steps), 0, 0)


plt.figure(figsize = (16, 8))
plt.plot(T, X)
plt.show()





@jit(target_backend='cuda')
def random_walker(steps):

    steps = int(steps)
    
    X = [0]*(steps+1)
    T = [i for i in range(steps + 1)]
    
    for i in range(steps):
        rand = random.uniform(0, 1) - 0.5
        rand /= abs(rand)
    
        X[i+1] = X[i] + rand

    return X, T


X, T = random_walker(5e7)


plt.figure(figsize = (16, 8))
plt.plot(T, X)
plt.show()





walkers = int(5e2)
steps = int(1e4)


T = [i for i in range(steps + 1)]


random_walks = []
for j in range(walkers):

    X = [0]*(steps+1)
    
    for i in range(steps):
        rand = random.uniform(0, 1) - 0.5
        rand /= abs(rand)
    
        X[i+1] = X[i] + rand
    
    random_walks.append(X)


plt.figure(figsize = (16, 8))

for i in range(walkers):
    plt.plot(T, random_walks[i], c='k', linewidth=1, alpha=0.05)

plt.show()





generator = np.random.default_rng()
walkers = int(5e3)
n_steps = int(1e3)


steps = generator.random((walkers, n_steps)) - 0.5
steps /= np.abs(steps)


T = np.arange(n_steps + 1)
X = np.insert(np.cumsum(steps, axis=1), 0, 0, axis=1)


mean_pos = np.mean(X, axis=0)
mean_squared_dis = np.mean(X**2, axis=0)
print(f'Mean of Mean Positions At Each Time Step = {mean_pos.mean()}')


plt.figure(figsize = (16, 8))

for i in range(walkers):
    plt.plot(T, X[i], c='k', linewidth=1, alpha=0.01)

plt.plot(T, mean_pos, c='tomato', linewidth=2)
plt.plot(T, np.sqrt(mean_squared_dis), c='tomato', linewidth=2)
plt.plot(T, -np.sqrt(mean_squared_dis), c='tomato', linewidth=2)

plt.title(f'Last Mean Position {np.round(mean_pos[-1], 3)}')
plt.show()


plt.figure(figsize = (16, 8))
plt.hist(X[:, -1], density=True, bins=20)
plt.show()


plt.figure(figsize = (16, 8))
plt.plot(T, mean_squared_dis, c='black', linewidth=1, label='Mean Squared Displacement Per Time Step')
plt.plot(T, T, linewidth=1, c='tomato', label='y=x')
plt.show()





#@jit(target_backend='cuda') for nvidia graphic card
@jit
def random_walkers(walkers, steps):

    walkers = int(walkers)
    steps = int(steps)
    
    T = [i for i in range(steps + 1)]
    
    random_walks = []
    for j in range(walkers):
    
        X = [0]*(steps+1)
        
        for i in range(steps):
            rand = random.uniform(0, 1) - 0.5
            rand /= abs(rand)
        
            X[i+1] = X[i] + rand
        
        random_walks.append(X)

    return random_walks, T


walkers = 5e3
n_steps = 1e3
X, T = random_walkers(walkers, n_steps)


plt.figure(figsize = (16, 8))

for i in range(int(walkers)):
    plt.plot(T, X[i], c='k', linewidth=1, alpha=0.02)

plt.show()






