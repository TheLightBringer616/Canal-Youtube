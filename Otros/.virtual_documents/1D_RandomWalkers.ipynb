import random
import copy

import numpy as np

from numba import jit, njit, cuda

import matplotlib.pyplot as plt





steps = int(1e1)
x0 = 0


X = [x0]*(steps+1)
T = [i for i in range(steps+1)]


for i in range(steps):
    rand = random.uniform(0, 1) - 0.5
    rand /= abs(rand)

    X[i+1] = X[i] + rand


plt.figure(figsize=(16, 8))
plt.plot(T, X)
plt.show()





generator = np.random.default_rng()
n_steps = int(1e8)
x0 = 0


steps = generator.random(n_steps) - 0.5
steps /= np.abs(steps)


T = np.arange(n_steps+1)
X = np.insert(np.cumsum(steps), 0, x0)


plt.figure(figsize=(16, 8))
plt.plot(T, X)
plt.show()








# You can use @jit or @njit
# For nvidia graphic cards you can use @jit(target_backend='cuda')
@jit(target_backend='cuda')
def random_walker(steps):

    steps = int(steps)
    x0 = 0
    
    X = [x0]*(steps+1)
    T = [i for i in range(steps+1)]
    
    for i in range(steps):
        rand = random.uniform(0, 1) - 0.5
        rand /= abs(rand)
    
        X[i+1] = X[i] + rand

    return X, T


steps = 1e8
X, T = random_walker(steps)


X = np.array(X)
T = np.array(T)
plt.figure(figsize=(16, 8))
plt.plot(T, X)
plt.show()











walkers = int(2e3)
steps = int(1e4)
x0 = 0


T = [i for i in range(steps+1)]


random_walks = []
for j in range(walkers):
    X = [x0]*(steps+1)
    
    for i in range(steps):
        rand = random.uniform(0, 1) - 0.5
        rand /= abs(rand)
    
        X[i+1] = X[i] + rand

    random_walks.append(X)


plt.figure(figsize=(16, 8))

for i in range(walkers):
    plt.plot(np.array(T), np.array(random_walks[i]), c='k', linewidth=1, alpha=0.02)

plt.show()











generator = np.random.default_rng()
walkers = int(1e4)
n_steps = int(1e2)
x0 = 0


T = np.arange(n_steps+1)
steps = generator.random((n_steps, walkers)) - 0.5
steps /= np.abs(steps)


X = np.insert(np.cumsum(steps, axis=0), 0, x0, axis=0)


mean_pos = np.mean(X, axis=1)
mean_squared_dis = np.mean(X**2, axis=1)

print(f'Mean of Mean Positions at each time step = {mean_pos.mean()}')


plt.figure(figsize=(16, 8))

for i in range(int(walkers)):
    plt.plot(T, X[:,i], c='k', linewidth=1, alpha=0.02)

plt.plot(T, mean_pos, c='tomato', linewidth=2)

plt.title(f'Last Mean Position {np.round(mean_pos[-1], 3)}')
plt.show()


plt.figure(figsize=(16, 8))

plt.hist(X[:, 250], density=True)

plt.show()











# You can use @jit or @njit
# For nvidia graphic cards you can use @jit(target_backend='cuda')
@jit(target_backend='cuda')
def n_random_walkers(walkers, steps):

    walkers = int(walkers)
    steps = int(steps)
    x0 = 0
    
    T = [i for i in range(steps+1)]
    
    random_walks = []
    for j in range(walkers):
        X = [x0]*(steps+1)
        
        for i in range(steps):
            rand = random.uniform(0, 1) - 0.5
            rand /= abs(rand)
        
            X[i+1] = X[i] + rand
    
        random_walks.append(X)

    return random_walks, T


walkers = 6e3
steps = 2e4
random_walks, T = n_random_walkers(walkers, steps)


random_walks = np.array(random_walks)
T = np.array(T)

plt.figure(figsize=(16, 8))

for i in range(int(walkers)):
    plt.plot(T, random_walks[i], c='k', linewidth=1, alpha=0.02)

plt.show()






