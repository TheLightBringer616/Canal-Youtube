import random
import copy

import numpy as np

from numba import jit, njit, cuda

import matplotlib.pyplot as plt





steps = int(1e4)
x0 = 0


X = [x0]
T = [i for i in range(steps+1)]


x = copy.copy(x0)

for i in range(steps):
    
    rand = random.uniform(0, 1) - 0.5
    rand /= abs(rand)

    x += rand
    X.append(x)


plt.figure(figsize=(16, 8))

plt.plot(T, X)

plt.show()





generator = np.random.default_rng()
n_steps = int(1e8)
x0 = 0


steps = generator.random(n_steps) - 0.5
steps /= np.abs(steps)


T = np.arange(n_steps+1)
X = np.insert(np.cumsum(steps), 0, x0)


plt.figure(figsize=(16, 8))

plt.plot(T, X)

plt.show()





@jit(target_backend='cuda')
# You can use @jit or @njit
# For nvidia graphic cards you can use @jit(target_backend='cuda')
def random_walker(steps):

    steps = int(steps)
    x0 = 0
    
    X = [x0]*(steps+1)
    T = [i for i in range(steps + 1)]
    
    x = 1*x0
    for i in range(steps):
        
        rand = random.uniform(0, 1) - 0.5
        rand /= abs(rand)
        
        x += rand
        X[i+1] = x

    return X, T


X, T = random_walker(1e3)


plt.figure(figsize=(16, 8))

plt.plot(T, X)

plt.show()






